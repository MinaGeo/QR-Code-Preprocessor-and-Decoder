{
 "cells": [
  {
   "cell_type": "markdown",
   "source": [
    "## **IMPORTS**|"
   ],
   "metadata": {
    "collapsed": false
   }
  },
  {
   "cell_type": "code",
   "execution_count": 2,
   "metadata": {
    "collapsed": true
   },
   "outputs": [],
   "source": [
    "#IMPORTS\n",
    "import cv2\n",
    "import numpy as np\n",
    "import matplotlib.pyplot as plt\n",
    "import math\n",
    "from skimage.metrics import structural_similarity as compare_ssim\n",
    "from scipy.signal import medfilt2d"
   ]
  },
  {
   "cell_type": "code",
   "execution_count": 3,
   "outputs": [],
   "source": [
    "fN = \"CSE483 Sp24 Project Test Cases/\" #folderName\n",
    "img_array = [fN+'01-Getting-started.png',fN+'02-Matsawar-3edel-ya3am.png', fN+'03-Leffy-bina-ya-donya.png',\n",
    "             fN+'04-Black-mirror.png',fN+'05-Caesar-cipher.png', fN+'06-Railfence-cipher.png',\n",
    "             fN+'07-THE-MIGHTY-FINGER.png', fN+'08-Compresso-Espresso.png', fN+'09-My-phone-fell-while-taking-this-one-...-or-did-it.png', fN+'10-Gone-With-The-Wind.png', fN+'11-weewooweewooweewoo.png',\n",
    "             fN+'12-mal7-w-felfel.png', fN+'13-2el-noor-2ata3.png',fN+'14-BANANAAA!!!.png',\n",
    "             fN+'15-beast-mode-computer-vision-(this-one-is-from-wikipedia).jpg',\n",
    "             fN+'16-V3-QR-Code...-can-you-do-it.png']\n",
    "\n",
    "TEST_CASE = 12\n",
    "img_address = img_array[TEST_CASE]"
   ],
   "metadata": {
    "collapsed": false
   }
  },
  {
   "cell_type": "markdown",
   "source": [
    "## *PREPROCESSING*"
   ],
   "metadata": {
    "collapsed": false
   }
  },
  {
   "cell_type": "code",
   "execution_count": 4,
   "outputs": [],
   "source": [
    "def median_filter(img, size):\n",
    "    median = cv2.medianBlur(img, size)\n",
    "    return median\n",
    "\n",
    "def smoothing_filter(img):\n",
    "\n",
    "    return 0\n",
    "\n",
    "def constrast_stretching(gray):\n",
    "    # Calculate the minimum and maximum pixel values\n",
    "    min_val = np.min(gray)\n",
    "    max_val = np.max(gray)\n",
    "\n",
    "    # Define the new minimum and maximum values for contrast stretching\n",
    "    new_min = 0\n",
    "    new_max = 255\n",
    "\n",
    "    # Apply contrast stretching\n",
    "    stretched_image = ((gray - min_val) / (max_val - min_val)) * (new_max - new_min) + new_min\n",
    "\n",
    "    # Convert the image back to uint8 format\n",
    "    stretched_image = np.uint8(stretched_image)\n",
    "    return stretched_image\n",
    "\n",
    "\n",
    "def brighten_filter(img_gray):\n",
    "    brightened_img = [pixel if (pixel >= 128) else pixel + 128 for pixel in img_gray.ravel()]\n",
    "    brightened_img_reshaped = np.reshape(brightened_img, img_gray.shape)\n",
    "    return brightened_img_reshaped\n",
    "\n",
    "def rotate_img(img):\n",
    "\n",
    "    # Rotate the image\n",
    "    rotated_img = cv2.rotate(img, cv2.ROTATE_90_COUNTERCLOCKWISE)\n",
    "    return rotated_img\n",
    "\n",
    "def show_histogram(img):\n",
    "    plt.figure(figsize=(9,8))\n",
    "    plt.hist(img.ravel(), bins=256)\n",
    "\n",
    "def sharpening_filter(img_gray, kernel_size):\n",
    "    image_float32 = np.float32(img_gray)\n",
    "    blurred = cv2.GaussianBlur(img_gray, (kernel_size, kernel_size), 0)\n",
    "    blurred_float32 = np.float32(blurred)\n",
    "\n",
    "    # Calculate the unsharp mask (original image - blurred image)\n",
    "    unsharp_mask = cv2.subtract(image_float32, blurred_float32)\n",
    "\n",
    "    # Add the unsharp mask to the original image to sharpen it\n",
    "    sharpened = cv2.add(image_float32, unsharp_mask)\n",
    "    sharpened = np.clip(sharpened, 0, 255)  # Clip values to 0-255 range\n",
    "    sharpened = np.uint8(sharpened)\n",
    "    return sharpened\n",
    "\n",
    "def opening_filter(img):\n",
    "    closed_img = cv2.morphologyEx(img, cv2.MORPH_CLOSE, cv2.getStructuringElement(cv2.MORPH_ELLIPSE, (13, 13)))\n",
    "    # plt.imshow(thresh1, cmap=\"grey\")\n",
    "\n",
    "    return closed_img\n",
    "\n",
    "def get_contours(img):\n",
    "    #img taken into the contours must be binarized (applying greyscale then threshold) for better accuracy\n",
    "\n",
    "    ## *object to be found should be white and background should be black* ##\n",
    "\n",
    "    # Find contours in the binary image\n",
    "    contours, _ = cv2.findContours(img, cv2.RETR_EXTERNAL, cv2.CHAIN_APPROX_SIMPLE)\n",
    "    # Find the contour with the largest area (assuming it's the outer frame of the QR code)\n",
    "    largest_contour = max(contours, key=cv2.contourArea)\n",
    "    # Get the bounding (corner points) of the rectangle of the contour\n",
    "    x, y, w, h = cv2.boundingRect(largest_contour)\n",
    "\n",
    "    # Crop the image to the bounding rectangle to Extract the QR code region\n",
    "    qr_code_frame = img[y:y+h, x:x+w]\n",
    "\n",
    "    # Straightening into a square (assuming the frame is already rectangular)\n",
    "    # Find the longer side of the rectangle\n",
    "    if w > h:\n",
    "        max_dim = w\n",
    "    else:\n",
    "        max_dim = h\n",
    "\n",
    "    # Create a square image with dimensions equal to the maximum dimension\n",
    "    square_img = np.zeros((max_dim, max_dim), dtype=np.uint8)\n",
    "    # Calculate the position to paste the rectangle in the center of the square image\n",
    "    x_pos = (max_dim - w) // 2\n",
    "    y_pos = (max_dim - h) // 2\n",
    "    # Paste the rectangle onto the square image\n",
    "    square_img[y_pos:y_pos+h, x_pos:x_pos+w] = qr_code_frame\n",
    "    return square_img\n",
    "\n",
    "def invert_qr(img):\n",
    "    inverted_img = cv2.bitwise_not(img)\n",
    "    return inverted_img\n",
    "\n",
    "def adaptive_threshold(img, blockSize, C):\n",
    "    adptv_threshed_img = cv2.adaptiveThreshold(\n",
    "    src=img,\n",
    "    maxValue=255,\n",
    "    adaptiveMethod=cv2.ADAPTIVE_THRESH_GAUSSIAN_C,  # read: https://docs.opencv.org/3.4/d7/d1b/group__imgproc__misc.html#gaa42a3e6ef26247da787bf34030ed772c\n",
    "    thresholdType=cv2.THRESH_BINARY,\n",
    "    blockSize=blockSize,  # NxN block size (odd) to perform adaptive threshold on\n",
    "    C=C  # Constant subtracted from the mean or weighted mean\n",
    "    )\n",
    "\n",
    "    return adptv_threshed_img\n",
    "\n",
    "\n",
    "def flip_image(img):\n",
    "    img = cv2.flip(img,1)\n",
    "    return img\n",
    "\n",
    "def fourier(image):\n",
    "    dft_img = np.fft.fft2(image)\n",
    "    dft_img_shift = np.fft.fftshift(dft_img)\n",
    "\n",
    "    return dft_img_shift\n",
    "\n",
    "def histogram_equalizer(img):\n",
    "    equalized_img = cv2.equalizeHist(img)\n",
    "    return equalized_img\n",
    "\n",
    "def shift_image(image, dx, dy):\n",
    "    shifted_image = np.roll(image, dy, axis=0)  # Shift rows\n",
    "    shifted_image = np.roll(shifted_image, dx, axis=1)  # Shift columns\n",
    "    return shifted_image\n",
    "\n",
    "def replicate_padding(image, padding_size):\n",
    "    return cv2.copyMakeBorder(image, padding_size, padding_size, padding_size, padding_size, cv2.BORDER_REPLICATE)\n",
    "\n",
    "def zero_padding(image, padding_size):\n",
    "    return cv2.copyMakeBorder(image, padding_size, padding_size, padding_size, padding_size, cv2.BORDER_CONSTANT, value=0)\n",
    "\n",
    "def mirror_padding(image, padding_size):\n",
    "    return cv2.copyMakeBorder(image, padding_size, padding_size, padding_size, padding_size, cv2.BORDER_REFLECT)\n",
    "\n",
    "def straighten_image(image):\n",
    "    # Apply edge detection or any other suitable method to detect edges\n",
    "    edges = cv2.Canny(image, 50, 150, apertureSize=3)\n",
    "\n",
    "    # Apply Hough Line Transform to detect lines\n",
    "    lines = cv2.HoughLines(edges, 1, np.pi / 180, 127)\n",
    "    print(lines)\n",
    "    # Calculate rotation angle\n",
    "    # Calculate rotation angle\n",
    "    total_angle = 0.0\n",
    "    if lines is not None:\n",
    "        for line in lines:\n",
    "            rho, theta = line[0]  # Extract rho and theta from the current line\n",
    "            total_angle += np.degrees(theta)\n",
    "        angle = total_angle / len(lines)\n",
    "\n",
    "\n",
    "    # Rotate the image\n",
    "    center = (image.shape[1] // 2, image.shape[0] // 2)\n",
    "    rotation_matrix = cv2.getRotationMatrix2D(center, angle, 1.0)\n",
    "    rotated_image = cv2.warpAffine(image, rotation_matrix, (image.shape[1], image.shape[0]), flags=cv2.INTER_CUBIC, borderMode=cv2.BORDER_REPLICATE)\n",
    "\n",
    "    return rotated_image\n",
    "\n",
    "def binary_threshold(img, threshold):\n",
    "    _, thresholded_image = cv2.threshold(img, threshold, 255, cv2.THRESH_BINARY)\n",
    "    return thresholded_image\n"
   ],
   "metadata": {
    "collapsed": false
   }
  },
  {
   "cell_type": "markdown",
   "source": [
    "## *Filter functions*"
   ],
   "metadata": {
    "collapsed": false
   }
  },
  {
   "cell_type": "code",
   "execution_count": 5,
   "outputs": [],
   "source": [
    "def give_me_circle_mask_nowww(mask_size, radius):\n",
    "    mask = np.zeros(mask_size)\n",
    "    cy = mask.shape[0] // 2\n",
    "    cx = mask.shape[1] // 2\n",
    "    return cv2.circle(mask, (cx,cy), radius, (255,255,255), -1).astype(np.uint8)\n",
    "\n",
    "def try_lowpass(dft_img, limit, gaussian: bool = False):\n",
    "    mask = give_me_circle_mask_nowww(dft_img.shape, limit)\n",
    "    if (gaussian):\n",
    "        mask = cv2.GaussianBlur(mask, (21,21), 0)\n",
    "    dft_img_shifted = np.fft.fftshift(dft_img)\n",
    "    dft_img_shifted_lowpass = np.multiply(dft_img_shifted, mask)\n",
    "    # Step 3: Convert back to spatial domain\n",
    "    f_ishift = np.fft.ifftshift(dft_img_shifted_lowpass)\n",
    "    img_back = np.fft.ifft2(f_ishift)\n",
    "    img_back = np.abs(img_back)\n",
    "    return img_back\n",
    "\n",
    "def try_highpass(dft_img, limit, gaussian: bool = False, keep_dc: bool = False):\n",
    "    mask = ~give_me_circle_mask_nowww(dft_img.shape, limit)\n",
    "    if (gaussian):\n",
    "        mask = cv2.GaussianBlur(mask, (21,21), 0)\n",
    "    if (keep_dc):\n",
    "        mask[dft_img.shape[0]//2, dft_img.shape[1]//2] = 255\n",
    "    dft_img_shifted = np.fft.fftshift(dft_img)\n",
    "    dft_img_shifted_highpass = np.multiply(dft_img_shifted, mask)\n",
    "    # Step 3: Convert back to spatial domain\n",
    "    f_ishift = np.fft.ifftshift(dft_img_shifted_highpass)\n",
    "    img_back = np.fft.ifft2(f_ishift)\n",
    "    img_back = np.abs(img_back)\n",
    "\n",
    "    # Normalize pixel values to range [0, 255]\n",
    "    img_back = cv2.normalize(img_back, None, alpha=0, beta=255, norm_type=cv2.NORM_MINMAX, dtype=cv2.CV_8U)\n",
    "\n",
    "    return img_back\n",
    "\n",
    "def plot_shifted_fft_and_ifft(dft_img_shifted):\n",
    "    img = np.fft.ifft2(np.fft.ifftshift(dft_img_shifted))\n",
    "    fig, (ax1, ax2) = plt.subplots(figsize=(10, 5), nrows=1, ncols=2)\n",
    "    ax1.set(yticks=[0, img.shape[0]//2, img.shape[0] - 1], yticklabels=[-img.shape[0]//2, 0, img.shape[0]//2 - 1]);\n",
    "    ax1.set(xticks=[0, img.shape[1]//2, img.shape[1] - 1], xticklabels=[-img.shape[1]//2, 0, img.shape[1]//2 - 1]);\n",
    "    ax1.imshow(np.abs(dft_img_shifted)**0.1, cmap = 'gray');\n",
    "    ax2.imshow(np.abs(img), cmap = 'gray')\n",
    "    return dft_img_shifted"
   ],
   "metadata": {
    "collapsed": false
   }
  },
  {
   "cell_type": "code",
   "execution_count": 6,
   "outputs": [],
   "source": [
    "def biggestContour (contours):\n",
    "    biggest=np.array([])\n",
    "\n",
    "    max_area=0\n",
    "    for i in contours:\n",
    "        area=cv2.contourArea(i)\n",
    "        if area>1000:\n",
    "            peri=cv2.arcLength(i,True)\n",
    "            approx=cv2.approxPolyDP(i,0.02*peri,True)\n",
    "            if area > max_area and len(approx)==4:\n",
    "                biggest=approx\n",
    "                max_area=area\n",
    "    return biggest,max_area\n",
    "def reorder(myPoints):\n",
    "    myPoints=myPoints.reshape((4,2))\n",
    "    myPointsNew=np.zeros((4,1,2),dtype=np.int32)\n",
    "    add=myPoints.sum(1)\n",
    "    myPointsNew[0]=myPoints[np.argmin(add)]\n",
    "    myPointsNew[3]=myPoints[np.argmax(add)]\n",
    "    diff=np.diff(myPoints,axis=1)\n",
    "    myPointsNew[1]=myPoints[np.argmin(diff)]\n",
    "    myPointsNew[2]=myPoints[np.argmax(diff)]\n",
    "    return myPointsNew"
   ],
   "metadata": {
    "collapsed": false
   }
  },
  {
   "cell_type": "markdown",
   "source": [
    "### Finding the placement boxes contours"
   ],
   "metadata": {
    "collapsed": false
   }
  },
  {
   "cell_type": "code",
   "execution_count": 7,
   "outputs": [],
   "source": [
    "# image = cv2.imread(img_address)\n",
    "#\n",
    "# angle = -15  # Adjust the angle as desired  # Get the image's height and width\n",
    "# height, width = image.shape[:2]\n",
    "# # Calculate the rotation matrix\n",
    "# rotation_matrix = cv2.getRotationMatrix2D((width / 2, height / 2), angle, 1)\n",
    "# # Apply the rotation to the\n",
    "#\n",
    "# # Define the border width\n",
    "# border_width = 1\n",
    "#\n",
    "# # Create a border with a single black pixel\n",
    "# border_image = cv2.copyMakeBorder(image, border_width, border_width, border_width, border_width, cv2.BORDER_CONSTANT, value=(0, 0, 0))\n",
    "#\n",
    "# rotated_image = cv2.warpAffine(border_image, rotation_matrix, (width, height))"
   ],
   "metadata": {
    "collapsed": false
   }
  },
  {
   "cell_type": "code",
   "execution_count": 8,
   "outputs": [
    {
     "name": "stdout",
     "output_type": "stream",
     "text": [
      "Error: max() arg is an empty sequence\n"
     ]
    },
    {
     "data": {
      "text/plain": "<Figure size 700x700 with 2 Axes>",
      "image/png": "[encoded data removed]"
     },
     "metadata": {},
     "output_type": "display_data"
    }
   ],
   "source": [
    "try:\n",
    "    fig, axes = plt.subplots(1, 2, figsize=(7, 7))\n",
    "    RotateFlag = False\n",
    "    # versionFlag\n",
    "    # Load the image containing the QR code\n",
    "    image = cv2.imread(img_address)\n",
    "    # image = rotated_image\n",
    "    # Convert the image to grayscale\n",
    "    gray = cv2.cvtColor(image, cv2.COLOR_BGR2GRAY)\n",
    "\n",
    "    # Apply Gaussian blur to reduce noise\n",
    "    blurred = cv2.GaussianBlur(gray, (5, 5), 0)\n",
    "\n",
    "    # Perform edge detection using Canny\n",
    "    edges = cv2.Canny(blurred, 50, 150)\n",
    "\n",
    "    # Find contours in the edge-detected image\n",
    "    contours, _ = cv2.findContours(edges.copy(), cv2.RETR_EXTERNAL, cv2.CHAIN_APPROX_SIMPLE)\n",
    "\n",
    "    # Find the largest contour(s) by area\n",
    "    max_area = max(cv2.contourArea(contour) for contour in contours)\n",
    "    largest_contours = [contour for contour in contours if cv2.contourArea(contour) > 0.9 * max_area]\n",
    "    # List to store the coordinates of bounding boxes\n",
    "    bounding_box_coordinates = []\n",
    "        # Initialize variables to store bounding box size\n",
    "    bounding_box_width = 0\n",
    "    bounding_box_height = 0\n",
    "    # Get bounding box coordinates for the largest contours\n",
    "    for contour in largest_contours:\n",
    "        # Get bounding box\n",
    "        x, y, w, h = cv2.boundingRect(contour)\n",
    "        # Append the coordinates of the top-left corner (x, y) to the list\n",
    "        bounding_box_coordinates.append((x, y))\n",
    "        bounding_box_width = w\n",
    "        bounding_box_height = h\n",
    "\n",
    "\n",
    "\n",
    "    print(f\"Bounding Box Size: (width={bounding_box_width}, height={bounding_box_height})\")\n",
    "\n",
    "    # Extract all values from tuples in the list\n",
    "    all_values = [value for pair in bounding_box_coordinates for value in pair]\n",
    "    # Find the maximum value\n",
    "    max_value = max(all_values)\n",
    "    # print(\"Maximum value:\", max_value)\n",
    "    # Check if the specified coordinates are present in any of the bounding boxes\n",
    "    if len(bounding_box_coordinates)>1:\n",
    "        if any((x == max_value and y == max_value) for x, y in bounding_box_coordinates):\n",
    "            # Rotate the image by 180 degrees\n",
    "            RotateFlag = True\n",
    "\n",
    "    print(\"Rotate flag: \", RotateFlag)\n",
    "    # Print the coordinates of the bounding boxes\n",
    "    for i, (x, y) in enumerate(bounding_box_coordinates):\n",
    "        print(f\"Bounding Box {i + 1}: (x={x}, y={y})\")\n",
    "    # Create a copy of the original image to draw the largest contour on\n",
    "    image_with_contours = image.copy()\n",
    "\n",
    "    # Draw the largest contour(s) with a red border\n",
    "    cv2.drawContours(image_with_contours, largest_contours, -1, (0, 0, 255), 2)\n",
    "\n",
    "    # Convert BGR image to RGB for displaying with matplotlib\n",
    "    image_with_contours_rgb = cv2.cvtColor(image_with_contours, cv2.COLOR_BGR2RGB)\n",
    "\n",
    "    # Plot the images side by side\n",
    "\n",
    "    # Plot the original image\n",
    "    axes[0].imshow(cv2.cvtColor(image, cv2.COLOR_BGR2RGB))\n",
    "    axes[0].set_title('Original Image')\n",
    "    axes[0].axis('off')\n",
    "\n",
    "    if RotateFlag == True:\n",
    "        # Plot the image with contours\n",
    "        axes[1].imshow(image_with_contours_rgb)\n",
    "        axes[1].set_title('Image with Contours after rotations')\n",
    "        axes[1].axis('off')\n",
    "    else:\n",
    "            # Plot the image with contours\n",
    "        axes[1].imshow(image_with_contours_rgb)\n",
    "        axes[1].set_title('Image with Contours')\n",
    "        axes[1].axis('off')\n",
    "    plt.show()\n",
    "except Exception as e:\n",
    "    print(\"Error:\", e)\n",
    "    # return none"
   ],
   "metadata": {
    "collapsed": false
   }
  },
  {
   "cell_type": "code",
   "execution_count": 9,
   "outputs": [],
   "source": [
    "def detect_and_remove_sin_noise(image):\n",
    "    # Compute the 2D discrete Fourier Transform\n",
    "    dft = np.fft.fft2(image)\n",
    "\n",
    "    # Shift the zero-frequency component to the center of the spectrum\n",
    "    dft_shift = np.fft.fftshift(dft)\n",
    "\n",
    "    # Compute the magnitude spectrum\n",
    "    magnitude_spectrum = np.abs(dft_shift)\n",
    "\n",
    "    # Threshold the magnitude spectrum to detect significant peaks\n",
    "    threshold = 0.1 * np.max(magnitude_spectrum)\n",
    "    peaks = np.where(magnitude_spectrum > threshold)\n",
    "\n",
    "    # Convert the peak coordinates to frequency space\n",
    "    rows, cols = image.shape\n",
    "    center_row, center_col = rows // 2, cols // 2\n",
    "    frequencies = np.array(peaks) - np.array([[center_row], [center_col]])\n",
    "\n",
    "    # Print detected sinusoidal noise frequencies\n",
    "    print(\"Detected sinusoidal noise frequencies:\")\n",
    "    for freq in zip(frequencies[0], frequencies[1]):\n",
    "        print(\"Frequency: {},{} (in pixels)\".format(freq[0], freq[1]))\n",
    "\n",
    "    # Check if only one sinusoidal frequency is detected\n",
    "    if len(frequencies[0]) <= 3:\n",
    "        # Remove the detected frequency from the shifted DFT\n",
    "        freq_row, freq_col = frequencies[0][0], frequencies[1][0]\n",
    "        dft_shift[center_row + freq_row, center_col + freq_col] = 0\n",
    "        dft_shift[center_row - freq_row, center_col - freq_col] = 0\n",
    "\n",
    "        # Compute the inverse shift to prepare for inverse FFT\n",
    "        dft_unshifted = np.fft.ifftshift(dft_shift)\n",
    "\n",
    "        # Compute the inverse 2D discrete Fourier Transform\n",
    "        filtered_image = np.fft.ifft2(dft_unshifted).real\n",
    "\n",
    "        # Normalize pixel values to range [0, 255]\n",
    "        img_back = cv2.normalize(filtered_image, None, alpha=0, beta=255, norm_type=cv2.NORM_MINMAX, dtype=cv2.CV_8U)\n",
    "\n",
    "        return img_back\n",
    "    else:\n",
    "        print(\"More than one sinusoidal frequency detected. Skipping noise removal.\")\n",
    "        return image"
   ],
   "metadata": {
    "collapsed": false
   }
  },
  {
   "cell_type": "markdown",
   "source": [
    "#### **Importing image and binarizing (making it either 0 or 255)**"
   ],
   "metadata": {
    "collapsed": false
   }
  },
  {
   "cell_type": "code",
   "execution_count": 10,
   "outputs": [],
   "source": [
    "# # img_gray = cv2.cvtColor(img_rgb, cv2.COLOR_RGB2GRAY)\n",
    "# image = cv2.imread(img_address)\n",
    "# hist = cv2.calcHist([image],[0],None,[256],[0,256])\n",
    "#\n",
    "# black_pixels = hist[0:128]\n",
    "#\n",
    "# # Find the intensity value with the maximum count (peak of the histogram)\n",
    "# peak_intensity = np.argmax(black_pixels)\n",
    "# print(peak_intensity)\n",
    "# EqualizeFlag = False\n",
    "# # Check if the count at the peak is greater than a certain threshold\n",
    "# print(hist[peak_intensity])\n",
    "# if hist[peak_intensity] > 540000:\n",
    "#     print(\"Equalized\")\n",
    "#     EqualizeFlag = True\n",
    "#     # img_gray = cv2.equalizeHist(image)\n",
    "#\n",
    "#\n",
    "# SaltAndPepper = False\n",
    "# # Calculate the histogram\n",
    "# hist = cv2.calcHist([image],[0],None,[256],[0,256])\n",
    "#\n",
    "# # Extract the bins with non-zero counts\n",
    "# non_zero_bins = np.sum(hist > 0)\n",
    "# if non_zero_bins>240:\n",
    "#     SaltAndPepper = True\n",
    "#\n",
    "#\n",
    "#\n",
    "# # if hist[peak_intensity] < 2300 and hist[peak_intensity] > 2200:\n",
    "# #     print(\"Adaptively Equalized\")\n",
    "# #\n",
    "# #     Equalized_image = True\n",
    "# #     Extend_Lines = True\n",
    "# #     clahe = cv2.createCLAHE(clipLimit=40.0, tileGridSize=(10, 10))\n",
    "# #     img_gray = clahe.apply(img_gray)\n",
    "# # #     result =  255 * (img_gray/255)**20\n",
    "# # if hist[peak_intensity] > 9500 and hist[peak_intensity] < 9600:\n",
    "# #     print(\"YES\")\n",
    "# #     (T, img_gray) = cv2.threshold(image, 121, 255, cv2.THRESH_BINARY)\n",
    "#\n",
    "# # plt.imshow(~image, cmap=\"gray\");"
   ],
   "metadata": {
    "collapsed": false
   }
  },
  {
   "cell_type": "markdown",
   "source": [
    "# *PREPROCESSING*"
   ],
   "metadata": {
    "collapsed": false
   }
  },
  {
   "cell_type": "code",
   "execution_count": 11,
   "outputs": [
    {
     "name": "stdout",
     "output_type": "stream",
     "text": [
      "Detected sinusoidal noise frequencies:\n",
      "Frequency: -8,0 (in pixels)\n",
      "Frequency: -5,5 (in pixels)\n",
      "Frequency: -3,-4 (in pixels)\n",
      "Frequency: -3,-1 (in pixels)\n",
      "Frequency: -3,7 (in pixels)\n",
      "Frequency: -2,-2 (in pixels)\n",
      "Frequency: -2,-1 (in pixels)\n",
      "Frequency: -2,0 (in pixels)\n",
      "Frequency: -2,1 (in pixels)\n",
      "Frequency: -2,2 (in pixels)\n",
      "Frequency: -2,10 (in pixels)\n",
      "Frequency: -1,-3 (in pixels)\n",
      "Frequency: -1,-2 (in pixels)\n",
      "Frequency: -1,0 (in pixels)\n",
      "Frequency: -1,1 (in pixels)\n",
      "Frequency: -1,2 (in pixels)\n",
      "Frequency: 0,-12 (in pixels)\n",
      "Frequency: 0,-11 (in pixels)\n",
      "Frequency: 0,-8 (in pixels)\n",
      "Frequency: 0,-7 (in pixels)\n",
      "Frequency: 0,-3 (in pixels)\n",
      "Frequency: 0,-2 (in pixels)\n",
      "Frequency: 0,-1 (in pixels)\n",
      "Frequency: 0,0 (in pixels)\n",
      "Frequency: 0,1 (in pixels)\n",
      "Frequency: 0,2 (in pixels)\n",
      "Frequency: 0,3 (in pixels)\n",
      "Frequency: 0,7 (in pixels)\n",
      "Frequency: 0,8 (in pixels)\n",
      "Frequency: 0,11 (in pixels)\n",
      "Frequency: 0,12 (in pixels)\n",
      "Frequency: 1,-2 (in pixels)\n",
      "Frequency: 1,-1 (in pixels)\n",
      "Frequency: 1,0 (in pixels)\n",
      "Frequency: 1,2 (in pixels)\n",
      "Frequency: 1,3 (in pixels)\n",
      "Frequency: 2,-10 (in pixels)\n",
      "Frequency: 2,-2 (in pixels)\n",
      "Frequency: 2,-1 (in pixels)\n",
      "Frequency: 2,0 (in pixels)\n",
      "Frequency: 2,1 (in pixels)\n",
      "Frequency: 2,2 (in pixels)\n",
      "Frequency: 3,-7 (in pixels)\n",
      "Frequency: 3,1 (in pixels)\n",
      "Frequency: 3,4 (in pixels)\n",
      "Frequency: 5,-5 (in pixels)\n",
      "Frequency: 8,0 (in pixels)\n",
      "More than one sinusoidal frequency detected. Skipping noise removal.\n"
     ]
    },
    {
     "data": {
      "text/plain": "(-0.5, 1011.5, 1011.5, -0.5)"
     },
     "execution_count": 11,
     "metadata": {},
     "output_type": "execute_result"
    },
    {
     "data": {
      "text/plain": "<Figure size 1000x1000 with 2 Axes>",
      "image/png": "[encoded data removed]"
     },
     "metadata": {},
     "output_type": "display_data"
    }
   ],
   "source": [
    "image = cv2.imread(img_address, cv2.IMREAD_GRAYSCALE)\n",
    "\n",
    "img = cv2.imread(img_address, cv2.IMREAD_GRAYSCALE)\n",
    "# img = cv2.GaussianBlur(img, (5, 5), 1)  # makes image blur\n",
    "# img = cv2.Canny(img, 10, 50)  # makes image canny\n",
    "test_case = TEST_CASE\n",
    "img = detect_and_remove_sin_noise(img)\n",
    "\n",
    "if RotateFlag:\n",
    "   img = cv2.rotate(image, cv2.ROTATE_180)\n",
    "\n",
    "# ******************************************************************************* #\n",
    "\n",
    "if test_case==1:\n",
    "    img = straighten_image(img)\n",
    "\n",
    "# ******************************************************************************* #\n",
    "\n",
    "elif test_case == 3: # 04-Black-mirror\n",
    "    img = flip_image(img)\n",
    "    equalized_img = histogram_equalizer(img)\n",
    "    _, threshold_image = cv2.threshold(equalized_img, 128, 255, cv2.THRESH_BINARY)\n",
    "    # img = get_contours(threshold_image)\n",
    "    img = invert_qr(threshold_image)\n",
    "# ******************************************************************************* #\n",
    "\n",
    "elif test_case == 4:\n",
    "    filtersize = 41\n",
    "    gaussianImg = cv2.GaussianBlur(img, (filtersize, filtersize), 128)\n",
    "    # img = (img-gaussianImg)\n",
    "    # #\n",
    "    # kernel_size = (1, 509)  # Width is 0, height is 5 for vertical blur\n",
    "\n",
    "# Apply vertical Gaussian blur\n",
    "#     img = cv2.GaussianBlur(image, kernel_size, 0)\n",
    "    _, img = cv2.threshold(gaussianImg, 127, 255, cv2.THRESH_BINARY)\n",
    "    #\n",
    "    square_se = cv2.getStructuringElement(cv2.MORPH_RECT, (21, 21))\n",
    "    img = cv2.erode(img, square_se)\n",
    "    img = cv2.dilate(img, square_se)\n",
    "\n",
    "elif test_case == 5:\n",
    "    # Load the original image\n",
    "    edges_img = cv2.imread(img_address, cv2.IMREAD_GRAYSCALE)\n",
    "    # Apply Canny edge detection\n",
    "    edges_canny = cv2.Canny(image=edges_img, apertureSize=3, threshold1=120, threshold2=200, L2gradient=True)\n",
    "\n",
    "    # Define Hough Transform parameters using sliders\n",
    "    rho = 1\n",
    "    theta_rad = 0.0035\n",
    "    threshold = 118\n",
    "    minLineLength = 640\n",
    "    maxLineGap = 100\n",
    "\n",
    "    # Detect lines using Hough Transform\n",
    "    edges_hough_lines = cv2.HoughLinesP(edges_canny, rho, theta_rad, threshold, None, minLineLength, maxLineGap)\n",
    "\n",
    "    # Create an image to draw the detected lines\n",
    "    edges_hough = cv2.cvtColor((edges_img // 3) * 2, cv2.COLOR_GRAY2BGR)\n",
    "\n",
    "    # Draw the detected lines on a copy of the original image\n",
    "    image_with_lines = edges_img.copy()\n",
    "\n",
    "    # Draw the detected lines on the image\n",
    "    if edges_hough_lines is not None:\n",
    "        for line in edges_hough_lines:\n",
    "            x1, y1, x2, y2 = line[0]\n",
    "            cv2.line(image_with_lines, (x1, y1), (x2, y2), (0, 0, 255), 2)\n",
    "\n",
    "    img_gray_threshed = cv2.adaptiveThreshold(src=image_with_lines,\n",
    "            maxValue=255,\n",
    "            adaptiveMethod=cv2.ADAPTIVE_THRESH_GAUSSIAN_C,\n",
    "            thresholdType=cv2.THRESH_BINARY_INV,\n",
    "            blockSize=105,\n",
    "            C=1\n",
    "    )\n",
    "    heightImg=924\n",
    "    widthImg=924\n",
    "    imgContours=image_with_lines.copy()\n",
    "    imgBigContour=image_with_lines.copy()\n",
    "    contours, hierarchy, =cv2.findContours(img_gray_threshed,cv2.RETR_EXTERNAL,cv2.CHAIN_APPROX_SIMPLE)\n",
    "    cv2.drawContours(imgContours,contours,-1,(255,50,0),10)\n",
    "    biggest,maxArea=biggestContour(contours)\n",
    "    if biggest.size !=0:\n",
    "        biggest=reorder(biggest)\n",
    "        cv2.drawContours(imgBigContour,biggest,-1,(0,0,0),45)\n",
    "\n",
    "        pts1=np.float32(biggest)\n",
    "        pts2=np.float32([[0,0],[widthImg,0],[0,heightImg],[widthImg,heightImg]])\n",
    "        matrix=cv2.getPerspectiveTransform(pts1,pts2)\n",
    "        imgWrapedgrey=cv2.warpPerspective(edges_img,matrix,(widthImg,heightImg))\n",
    "        # imgDetectedDigits=imgBlank.copy()\n",
    "\n",
    "    padding_size = 44\n",
    "    # pad_width = 50\n",
    "    imgWrapedgrey_padded =    cv2.copyMakeBorder(imgWrapedgrey, padding_size, padding_size, padding_size, padding_size, cv2.BORDER_CONSTANT, value=255)\n",
    "        # imgWrapedColored=cv2.cvtColor(imgWarpColored,cv2.COLOR_BGR2GRAY)\n",
    "\n",
    "    img = imgWrapedgrey_padded\n",
    "# ******************************************************************************* #\n",
    "elif test_case == 6:\n",
    "    # img = adaptive_threshold(img,121,0.01)\n",
    "    _, img = cv2.threshold(img, 60, 255, cv2.THRESH_BINARY)\n",
    "\n",
    "\n",
    "# ******************************************************************************* #\n",
    "elif test_case == 7:\n",
    "    # square_se = cv2.getStructuringElement(cv2.MORPH_ELLIPSE, (21, 21))\n",
    "    # img = cv2.erode(img, square_se)\n",
    "    # img = cv2.dilate(img, square_se)\n",
    "    square_se = cv2.getStructuringElement(cv2.MORPH_RECT, (21, 21))\n",
    "    img = cv2.erode(img, square_se)\n",
    "    img = cv2.dilate(img, square_se)\n",
    "    img = cv2.dilate(img, square_se)\n",
    "    img = cv2.erode(img, square_se)\n",
    "    square_se = cv2.getStructuringElement(cv2.MORPH_RECT, (41, 41))\n",
    "    img = cv2.erode(img, square_se)\n",
    "    img = cv2.dilate(img, square_se)\n",
    "        # img = cv2.dilate(img, square_se)\n",
    "    # img = cv2.erode(img, square_se)\n",
    "\n",
    "    show_histogram(img)\n",
    "    _, img = cv2.threshold(img, 220, 255, cv2.THRESH_BINARY)\n",
    "    # img = adaptive_threshold(img)\n",
    "\n",
    "    # img[mask_binary == 255] = image1[mask_binary == 255]\n",
    "\n",
    "# ******************************************************************************* #\n",
    "\n",
    "elif test_case == 8:\n",
    "    # img = detect_and_remove_sin_noise(image)\n",
    "\n",
    "    # img = constrast_stretching(img)\n",
    "    # img = sharpening_filter(img,27)\n",
    "\n",
    "    sharpeninig_kernel = np.array([[-3,-3,-3],[-3,27,-3],[-3,-3,-3]])\n",
    "    sharpened = cv2.filter2D(image,-1, sharpeninig_kernel)\n",
    "\n",
    "    # img = adaptive_threshold(img, 101, 1)\n",
    "    # image = np.mean(image, axis=2)\n",
    "    img = binary_threshold(sharpened, 128)\n",
    "    square_se = cv2.getStructuringElement(cv2.MORPH_RECT, (13, 13))\n",
    "    img = cv2.erode(img, square_se)\n",
    "\n",
    "    # Define the amount of shift (pixels)\n",
    "    # Define the amount of shift (pixels)\n",
    "    shift_amount = 50  # Adjust this value as needed\n",
    "\n",
    "    # Create a blank white canvas with the desired shift\n",
    "    shifted_image = np.ones_like(image) * 255  # Create a white canvas\n",
    "    shifted_image[:, shift_amount:] = image[:, :-shift_amount]  # Overlay the original image onto the canvas\n",
    "\n",
    "    # square_se = cv2.getStructuringElement(cv2.MORPH_RECT, (31, 31))\n",
    "    # img = cv2.erode(img, square_se)\n",
    "\n",
    "\n",
    "# ******************************************************************************* #\n",
    "\n",
    "elif test_case == 9:\n",
    "    img = constrast_stretching(img)\n",
    "    img = histogram_equalizer(img)\n",
    "    _, img = cv2.threshold(img, 220, 255, cv2.THRESH_BINARY)\n",
    "\n",
    "# ******************************************************************************* #\n",
    "\n",
    "elif test_case == 10:\n",
    "    # Detect and remove sinusoidal noise\n",
    "        # Convert to grayscale if needed\n",
    "\n",
    "    # image = cv2.medianBlur(image, 21)\n",
    "\n",
    "    if len(image.shape) > 2:\n",
    "        image = np.mean(image, axis=2)\n",
    "    img = detect_and_remove_sin_noise(image)\n",
    "    # img = detect_and_remove_sin_noise(img)\n",
    "\n",
    "    img = binary_threshold(img, 130)\n",
    "\n",
    "\n",
    "# ******************************************************************************* #\n",
    "\n",
    "elif test_case == 11:\n",
    "    # Apply Gaussian blur to reduce noise\n",
    "    median_img = median_filter(img,31)\n",
    "    _, img = cv2.threshold(median_img, 128, 255, cv2.THRESH_BINARY)\n",
    "    # square_se = cv2.getStructuringElement(cv2.MORPH_RECT, (3, 3))\n",
    "    # img = cv2.erode(img, square_se)\n",
    "    # img = img - (threshold_image- cv2.dilate(img, square_se))\n",
    "    # img = cv2.dilate(img, square_se)\n",
    "    # img = cv2.erode(img, square_se)\n",
    "    # _, img = cv2.threshold(img, 220, 255, cv2.THRESH_BINARY)\n",
    "    # Perform edge detection using Canny\n",
    "    # img = cv2.Canny(blurred, 50, 150)\n",
    "    # show_histogram(median_filtered)\n",
    "    # # creating a mask for the salt&pepper\n",
    "    # # mask = np.zeros_like(median_filtered)\n",
    "    # # mask[median_filtered < 5]   = 255\n",
    "    # # mask[median_filtered > 250] = 255\n",
    "    # # img = cv2.inpaint(median_filtered,mask,3,cv2.INPAINT_TELEA)\n",
    "    #\n",
    "    # img = try_highpass(dft_img, 20, gaussian=True, keep_dc=True)\n",
    "\n",
    "# ******************************************************************************* #\n",
    "\n",
    "elif test_case == 12:\n",
    "    # Load the image\n",
    "    img = cv2.imread(img_address)\n",
    "\n",
    "    # Convert the image to grayscale\n",
    "    gray = cv2.cvtColor(img, cv2.COLOR_BGR2GRAY)\n",
    "\n",
    "    # Apply histogram equalization\n",
    "    equalized_image = cv2.equalizeHist(gray)\n",
    "\n",
    "    # Apply binary thresholding to make it black and white\n",
    "    _, binary_image = cv2.threshold(equalized_image, 127, 255, cv2.THRESH_BINARY)\n",
    "\n",
    "    # Apply erosion to fill in missing parts and remove noise\n",
    "    kernel_size = 40  # Change the size of the kernel here\n",
    "    kernel = np.ones((kernel_size, kernel_size), np.uint8)\n",
    "    eroded_image = cv2.erode(binary_image, kernel, iterations=1)\n",
    "\n",
    "    # Apply dilation to refine the image and fill missing parts\n",
    "    dilation_kernel_size = 30  # Change the size of the dilation kernel here\n",
    "    dilation_kernel = np.ones((dilation_kernel_size, dilation_kernel_size), np.uint8)\n",
    "    img = cv2.dilate(eroded_image, dilation_kernel, iterations=1)\n",
    "\n",
    "\n",
    "# ******************************************************************************* #\n",
    "\n",
    "elif test_case == 13:\n",
    "    # Load the original image\n",
    "    edges_img = cv2.imread(img_address, cv2.IMREAD_GRAYSCALE)\n",
    "    # Apply Canny edge detection\n",
    "    edges_canny = cv2.Canny(image=edges_img, apertureSize=3, threshold1=650, threshold2=660, L2gradient=True)\n",
    "    # _, (ax1, ax2) = plt.subplots(1, 2, figsize=(16, 8));\n",
    "\n",
    "    # Define Hough Transform parameters using sliders\n",
    "    rho = 1               # @param {type:\"slider\", min:1, max:100, step:1}\n",
    "    theta_rad = 0.00119    # @param {type:\"slider\", min:0.00001, max:0.1, step:0.00001}\n",
    "    threshold = 25       # @param {type:\"slider\", min:0, max:400, step:1}\n",
    "    minLineLength = 71    # @param {type:\"slider\", min:0, max:800, step:1}\n",
    "    maxLineGap = 75\n",
    "\n",
    "    # Detect lines using Hough Transform\n",
    "    edges_hough_lines = cv2.HoughLinesP(edges_canny, rho, theta_rad, threshold, None, minLineLength, maxLineGap)\n",
    "\n",
    "    # Create an image to draw the detected lines\n",
    "    edges_hough = cv2.cvtColor((edges_img // 3) * 2, cv2.COLOR_GRAY2BGR)\n",
    "\n",
    "    # Draw the detected lines on a copy of the original image\n",
    "    image_with_lines = edges_img.copy()\n",
    "\n",
    "    # Draw the detected lines on the image\n",
    "    if edges_hough_lines is not None:\n",
    "        for line in edges_hough_lines:\n",
    "            x1, y1, x2, y2 = line[0]\n",
    "            cv2.line(image_with_lines, (x1, y1), (x2, y2), (0, 0, 255), 2)\n",
    "\n",
    "    img_gray_threshed = cv2.adaptiveThreshold(src=image_with_lines,\n",
    "            maxValue=255,\n",
    "            adaptiveMethod=cv2.ADAPTIVE_THRESH_GAUSSIAN_C,\n",
    "            thresholdType=cv2.THRESH_BINARY_INV,\n",
    "            blockSize=105,\n",
    "            C=1\n",
    "    )\n",
    "    heightImg=924\n",
    "    widthImg=924\n",
    "    imgContours=image_with_lines.copy()\n",
    "    imgBigContour=image_with_lines.copy()\n",
    "    contours, hierarchy, =cv2.findContours(img_gray_threshed,cv2.RETR_EXTERNAL,cv2.CHAIN_APPROX_SIMPLE)\n",
    "    cv2.drawContours(imgContours,contours,-1,(255,50,0),10)\n",
    "    biggest,maxArea=biggestContour(contours)\n",
    "    if biggest.size !=0:\n",
    "        biggest=reorder(biggest)\n",
    "        cv2.drawContours(imgBigContour,biggest,-1,(0,255,0),20)\n",
    "        if biggest.size != 0:\n",
    "            biggest[-1][0][0] += 2.5  # Add 20 pixels to x-coordinate of the last point\n",
    "            biggest[-1][0][1] += 5 # Add 20 pixels to y-coordinate of the last point\n",
    "\n",
    "        for point in biggest:\n",
    "            x, y = point[0]\n",
    "            # cv2.circle(imgContours, (x, y), 10, (0, 0, 255), -1)\n",
    "            print(f\"Corner Point: ({x}, {y})\")\n",
    "        pts1=np.float32(biggest)\n",
    "        pts2=np.float32([[0,0],[widthImg,0],[0,heightImg],[widthImg,heightImg]])\n",
    "        matrix=cv2.getPerspectiveTransform(pts1,pts2)\n",
    "        imgWrapedgrey=cv2.warpPerspective(edges_img,matrix,(widthImg,heightImg))\n",
    "        # imgDetectedDigits=imgBlank.copy()\n",
    "    imgWrapedgrey = binary_threshold(imgWrapedgrey, 129)\n",
    "    padding_size = 44\n",
    "    # pad_width = 50\n",
    "    imgWrapedgrey_padded =    cv2.copyMakeBorder(imgWrapedgrey, padding_size, padding_size, padding_size, padding_size, cv2.BORDER_CONSTANT, value=255)\n",
    "        # imgWrapedColored=cv2.cvtColor(imgWarpColored,cv2.COLOR_BGR2GRAY)\n",
    "\n",
    "    img = imgWrapedgrey_padded\n",
    "        # Get the size of the image\n",
    "    height, width = img.shape[:2]\n",
    "\n",
    "    # Print the size of the image\n",
    "    print(f\"Image Size: {width} x {height}\")\n",
    "\n",
    "# ******************************************************************************* #\n",
    "\n",
    "fig, axes = plt.subplots(1, 2, figsize=(10, 10))\n",
    "\n",
    "# Plot the original image\n",
    "axes[0].imshow(image, cmap='gray')\n",
    "axes[0].set_title('Original Image')\n",
    "axes[0].axis('off')\n",
    "axes[1].imshow(img, cmap = 'gray')\n",
    "axes[1].set_title('Filtered image')\n",
    "axes[1].axis('off')"
   ],
   "metadata": {
    "collapsed": false
   }
  },
  {
   "cell_type": "markdown",
   "source": [
    "## Use quiet zone to detect code area\n",
    "Simply go through white rows and columns until you find the first black pixel from the left, from the right, from the top, and from the bottom."
   ],
   "metadata": {
    "collapsed": false
   }
  },
  {
   "cell_type": "code",
   "execution_count": 12,
   "outputs": [
    {
     "name": "stdout",
     "output_type": "stream",
     "text": [
      "start row:  44 , end row:  968 , start col:  44 , end col:  968\n"
     ]
    }
   ],
   "source": [
    "start_row = -1\n",
    "start_col = -1\n",
    "end_row = -1\n",
    "end_col = -1\n",
    "\n",
    "for row_index, row in enumerate(img):\n",
    "    non_white_count = 0\n",
    "    # Checking the current row and the 10 rows below it\n",
    "    for i in range(row_index, min(row_index + 20, img.shape[0])):\n",
    "        if not all(pixel == 255 for pixel in img[i]):\n",
    "            non_white_count += 1\n",
    "            if non_white_count >= 20:\n",
    "                start_row = row_index\n",
    "                break\n",
    "    if start_row != -1:\n",
    "        break\n",
    "\n",
    "for row_index, row in enumerate(img[::-1]):\n",
    "    non_white_count = 0\n",
    "    # Checking the current row and the 10 rows below it\n",
    "    for i in range(row_index, min(row_index + 20, img.shape[0])):\n",
    "        if not all(pixel == 255 for pixel in img[i]):\n",
    "            non_white_count += 1\n",
    "            if non_white_count >= 20:\n",
    "                end_row = img.shape[0] - row_index\n",
    "                break\n",
    "    if end_row != -1:\n",
    "        break\n",
    "\n",
    "for col_index, col in enumerate(cv2.transpose(img)):\n",
    "    non_white_count = 0\n",
    "    # Checking the current row and the 10 rows below it\n",
    "    for i in range(col_index, min(col_index + 20, img.shape[0])):\n",
    "        if not all(pixel == 255 for pixel in img[i]):\n",
    "            non_white_count += 1\n",
    "            if non_white_count >= 20:\n",
    "                start_col = col_index\n",
    "                break\n",
    "    if start_col != -1:\n",
    "        break\n",
    "\n",
    "for col_index, col in enumerate(cv2.transpose(img)[::-1]):\n",
    "    non_white_count = 0\n",
    "    # Checking the current row and the 10 rows below it\n",
    "    for i in range(col_index, min(col_index + 20, img.shape[0])):\n",
    "        if not all(pixel == 255 for pixel in img[i]):\n",
    "            non_white_count += 1\n",
    "            if non_white_count >= 20:\n",
    "                end_col = img.shape[1] - col_index\n",
    "                break\n",
    "    if end_col != -1:\n",
    "        break\n",
    "\n",
    "\n",
    "if start_row >= 44*0.2: # allow 80% difference due to noise pixels\n",
    "    start_row  = 44\n",
    "\n",
    "if start_col >= 44*0.2: # allow 80% difference due to noise pixels\n",
    "    start_col  = 44\n",
    "\n",
    "if end_row >= 968*0.2: # allow 80% difference due to noise pixels\n",
    "    end_row  = 968\n",
    "\n",
    "if end_col >= 968*0.2:# allow 80% difference due to noise pixels\n",
    "    end_col  = 968\n",
    "#start_row = start_col = 44\n",
    "\n",
    "# end_row = end_col = 968\n",
    "print(\"start row: \", start_row, \", end row: \", end_row, \", start col: \", start_col, \", end col: \", end_col)\n",
    "#get_qr_without_quiet_zone(img, start_row, end_row, start_col, end_col)"
   ],
   "metadata": {
    "collapsed": false
   }
  },
  {
   "cell_type": "code",
   "execution_count": 13,
   "outputs": [
    {
     "data": {
      "text/plain": "<matplotlib.image.AxesImage at 0x1d745d9e5b0>"
     },
     "execution_count": 13,
     "metadata": {},
     "output_type": "execute_result"
    },
    {
     "data": {
      "text/plain": "<Figure size 500x500 with 1 Axes>",
      "image/png": "[encoded data removed]"
     },
     "metadata": {},
     "output_type": "display_data"
    }
   ],
   "source": [
    "qr_no_quiet_zone = img[start_row:end_row, start_col:end_col]\n",
    "fig = plt.figure(figsize=(5, 5))\n",
    "plt.xticks([], [])\n",
    "plt.yticks([], [])\n",
    "fig.get_axes()[0].spines[:].set_color('red')\n",
    "fig.get_axes()[0].spines[:].set_linewidth(40)\n",
    "fig.get_axes()[0].spines[:].set_position((\"outward\", 20))\n",
    "plt.title('QR code without quiet zone', y=1.15, color='red')\n",
    "plt.imshow(qr_no_quiet_zone, cmap='gray')\n",
    "#determine_grid_size(qr_no_quiet_zone)"
   ],
   "metadata": {
    "collapsed": false
   }
  },
  {
   "cell_type": "markdown",
   "source": [
    "## Use locator boxes to determine grid size\n",
    "Since we know that the topleft pixel should be the border of the locator box, and that its size should be 7×7, we can determine the grid cell size by dividing its size in pixels by 7. How to get its size? It is a constant black row of pixels followed by one white cell. A simple for loop can get it done."
   ],
   "metadata": {
    "collapsed": false
   }
  },
  {
   "cell_type": "code",
   "execution_count": 14,
   "outputs": [
    {
     "name": "stdout",
     "output_type": "stream",
     "text": [
      "314\n",
      "Grid cell size:  44\n",
      "QR code shape: (924, 924)\n",
      "Shape of qr_cells: (21, 21, 44, 44)\n"
     ]
    },
    {
     "data": {
      "text/plain": "<Figure size 500x500 with 441 Axes>",
      "image/png": "[encoded data removed]"
     },
     "metadata": {},
     "output_type": "display_data"
    }
   ],
   "source": [
    "try:\n",
    "# Initialize a list to store the counts of non-zero pixels at each position\n",
    "    pixel_counts = [0] * len(qr_no_quiet_zone[0])\n",
    "\n",
    "    # Iterate over the first 10 rows\n",
    "    for row in qr_no_quiet_zone[:10]:\n",
    "        for i, pixel in enumerate(row):\n",
    "            # Check if the pixel is non-zero\n",
    "            if (pixel != 0).any():\n",
    "                # Increment the count for this position\n",
    "                pixel_counts[i] += 1\n",
    "\n",
    "    # Find the position with the maximum count\n",
    "    most_common_position = np.argmax(pixel_counts)\n",
    "\n",
    "    # Calculate the size based on the most common position\n",
    "    size = most_common_position\n",
    "    print(size)\n",
    "    # If the size is larger than 30% of 308, set it to 308\n",
    "    if size >= 308 * 0.3:\n",
    "        size = 308\n",
    "\n",
    "    # Calculate the grid cell size\n",
    "    grid_cell_size = round(size / 7)\n",
    "\n",
    "    # grid_cell_size = 44\n",
    "    if start_col == 44 and end_col == 968 and grid_cell_size == 0:\n",
    "      grid_cell_size = 44\n",
    "\n",
    "    print(\"Grid cell size: \", grid_cell_size)\n",
    "    if grid_cell_size != 0:\n",
    "        grid_cells_num = round(qr_no_quiet_zone.shape[0] / grid_cell_size)\n",
    "    else:\n",
    "        print(\"Incorrect QR code detected\")\n",
    "\n",
    "    print(\"QR code shape:\", qr_no_quiet_zone.shape)\n",
    "\n",
    "    # Reshape the image into grid cells\n",
    "    qr_cells = qr_no_quiet_zone.reshape((grid_cells_num, grid_cell_size, grid_cells_num, grid_cell_size)).swapaxes(1, 2)\n",
    "    print(\"Shape of qr_cells:\", qr_cells.shape)\n",
    "    for i in range(14, 21):\n",
    "        for j in range(6, 8):\n",
    "            if j == 6:\n",
    "                qr_cells[i, j] = 0\n",
    "            else:\n",
    "                qr_cells[i, j] = 255\n",
    "    # Reshape the modified grid cells back into a flat array\n",
    "    qr_modified_flat = qr_cells.swapaxes(1, 2).reshape(-1, grid_cell_size, grid_cell_size)\n",
    "    # Fill each grid cell with the majority color\n",
    "    for i in range(grid_cells_num):\n",
    "        for j in range(grid_cells_num):\n",
    "            cell = qr_cells[i][j]\n",
    "            black_pixels = np.sum(cell == 0)\n",
    "            white_pixels = np.sum(cell == 255)\n",
    "            if black_pixels > white_pixels:\n",
    "                qr_cells[i][j] = np.zeros_like(cell)\n",
    "            else:\n",
    "                qr_cells[i][j] = np.ones_like(cell) * 255\n",
    "\n",
    "    # Plot the modified grid cells\n",
    "    _, axes = plt.subplots(grid_cells_num, grid_cells_num, figsize=(5, 5))\n",
    "    for i, row in enumerate(axes):\n",
    "        for j, col in enumerate(row):\n",
    "            col.imshow(qr_cells[i][j], cmap=\"gray\", vmin=0, vmax=255)\n",
    "            col.get_xaxis().set_visible(False)\n",
    "            col.get_yaxis().set_visible(False)\n",
    "            col.spines[:].set_color('red')\n",
    "\n",
    "    # You can perform further processing or analysis here\n",
    "\n",
    "except Exception as e:\n",
    "    grid_cell_size = 44\n",
    "    print(\"Error:\", e)"
   ],
   "metadata": {
    "collapsed": false
   }
  },
  {
   "cell_type": "markdown",
   "source": [
    "## Convert grid tiles to numeric values"
   ],
   "metadata": {
    "collapsed": false
   }
  },
  {
   "cell_type": "code",
   "execution_count": 15,
   "outputs": [
    {
     "name": "stdout",
     "output_type": "stream",
     "text": [
      "[[0 0 0 0 0 0 0 1 0 0 0 0 1 1 0 0 0 0 0 0 0]\n",
      " [0 1 1 1 1 1 0 1 1 0 1 1 1 1 0 1 1 1 1 1 0]\n",
      " [0 1 0 0 0 1 0 1 0 0 0 0 1 1 0 1 0 0 0 1 0]\n",
      " [0 1 0 1 1 1 0 1 0 0 0 1 0 1 0 1 0 0 0 1 0]\n",
      " [0 1 0 0 0 1 0 1 0 1 1 0 0 1 0 1 0 0 0 1 0]\n",
      " [0 1 1 1 1 1 0 1 1 0 0 0 1 1 0 1 1 1 1 1 0]\n",
      " [0 0 0 0 0 0 0 1 0 1 0 1 0 1 0 0 0 0 0 0 0]\n",
      " [1 1 1 1 1 1 1 1 1 1 1 0 0 1 1 1 1 1 1 1 1]\n",
      " [0 0 0 0 1 1 0 1 0 1 0 0 1 0 1 1 0 0 0 1 0]\n",
      " [1 1 1 1 0 0 1 1 0 1 1 1 1 1 1 1 0 1 0 1 0]\n",
      " [0 0 0 1 0 1 0 1 1 0 0 1 1 1 1 0 1 1 1 0 0]\n",
      " [1 1 0 0 0 1 1 1 1 1 1 0 0 1 1 0 1 0 1 0 0]\n",
      " [1 0 0 0 1 1 0 0 1 1 0 1 1 1 0 1 0 0 1 1 1]\n",
      " [1 1 1 1 1 1 1 1 0 0 0 0 0 1 1 1 0 0 1 1 1]\n",
      " [0 0 0 0 0 0 0 1 1 0 0 0 1 1 0 0 0 0 1 1 1]\n",
      " [0 1 1 1 1 1 0 1 1 1 0 1 0 0 1 1 0 1 1 0 1]\n",
      " [1 1 0 0 0 1 0 1 1 0 1 1 1 1 1 0 0 0 0 1 0]\n",
      " [1 1 1 0 0 1 0 1 0 0 1 1 0 1 0 1 1 1 1 1 1]\n",
      " [1 1 1 0 0 1 0 1 0 0 1 1 0 0 0 1 1 1 0 1 1]\n",
      " [1 1 1 1 1 1 0 1 0 1 1 1 1 0 0 1 0 1 1 1 0]\n",
      " [1 1 0 0 0 0 0 1 0 0 0 0 0 0 0 0 1 1 0 1 1]]\n"
     ]
    }
   ],
   "source": [
    "qr_cells_numeric = np.ndarray((grid_cells_num, grid_cells_num), dtype=np.uint8)\n",
    "for i, row in enumerate(qr_cells):\n",
    "    for j, cell in enumerate(row):\n",
    "        qr_cells_numeric[i, j] = (np.median(cell) // 255)\n",
    "print(qr_cells_numeric)\n",
    "plt.show()"
   ],
   "metadata": {
    "collapsed": false
   }
  },
  {
   "cell_type": "markdown",
   "source": [],
   "metadata": {
    "collapsed": false
   }
  },
  {
   "cell_type": "markdown",
   "source": [
    "## Information extraction\n",
    "\n",
    "![Alt text](https://upload.wikimedia.org/wikipedia/commons/thumb/3/3b/QR_Format_Information.svg/640px-QR_Format_Information.svg.png \"a title\")\n"
   ],
   "metadata": {
    "collapsed": false
   }
  },
  {
   "cell_type": "markdown",
   "source": [
    "### Error correction level"
   ],
   "metadata": {
    "collapsed": false
   }
  },
  {
   "cell_type": "code",
   "execution_count": 16,
   "outputs": [
    {
     "name": "stdout",
     "output_type": "stream",
     "text": [
      "[0 0 0 0 1 1 0 1 0 1 0 0 1 0 1 1 0 0 0 1 0]\n"
     ]
    }
   ],
   "source": [
    "print(qr_cells_numeric[8])"
   ],
   "metadata": {
    "collapsed": false
   }
  },
  {
   "cell_type": "markdown",
   "source": [
    "The first two bits of formatting information give the error correction level used for the message data. A QR symbol this size contains 26 bytes of information. Some of these are used to store the message and some are used for error correction, as shown in the table below. The left-hand column is simply a name given to that level.\n",
    "\n",
    "Error Correction Level\t| Level Indicator |\tError Correction Bytes |Message Data Bytes\n",
    "            L\t        |       01\t      |            7\t       |      19\n",
    "            M\t        |       00\t      |            10\t       |      16\n",
    "            Q\t        |       11\t      |            13\t       |      13\n",
    "            H\t        |       10\t      |            17\t       |      9\n"
   ],
   "metadata": {
    "collapsed": false
   }
  },
  {
   "cell_type": "code",
   "execution_count": 17,
   "outputs": [
    {
     "name": "stdout",
     "output_type": "stream",
     "text": [
      "ECL1: [1, 1]\n",
      "ECL: [1, 1]\n",
      "ECL correct: [1, 1]\n",
      "level: Quartile\n"
     ]
    }
   ],
   "source": [
    "\n",
    "#FOR REED SOLOMON WE WILL CHANGE THESE\n",
    "# The first two bits determine the error correction level\n",
    "# Level L (Low)         [01]\t7%  of data bytes can be restored.\n",
    "# Level M (Medium)      [00]\t15% of data bytes can be restored.\n",
    "# Level Q (Quartile)    [11]\t25% of data bytes can be restored.\n",
    "# Level H (High)        [10]\t30% of data bytes can be restored.\n",
    "\n",
    "error_correction_byes = 0\n",
    "message_data_bytes = 0\n",
    "\n",
    "ecl1 = []\n",
    "for i in range(19, 21):\n",
    "    ecl1.append(int(not qr_cells_numeric[i, 8]))\n",
    "print(\"ECL1:\", ecl1)\n",
    "ecl = [int(not (c)) for c in qr_cells_numeric[8, 0:2]]\n",
    "print(\"ECL:\", ecl)\n",
    "\n",
    "if ecl1 == ecl:\n",
    "    print(\"ECL correct:\", ecl)\n",
    "else:\n",
    "    ecl = max(ecl, ecl1)\n",
    "    print(\"Chosen Error Correction Level:\", ecl)\n",
    "\n",
    "if ecl == [1, 0]:\n",
    "    print(\"level: High\")\n",
    "    error_level = 'H'\n",
    "    error_correction_byes = 17\n",
    "    message_data_bytes = 9\n",
    "\n",
    "elif ecl == [1, 1]:\n",
    "    print(\"level: Quartile\")\n",
    "    error_level = 'Q'\n",
    "    error_correction_byes = 13\n",
    "    message_data_bytes = 13\n",
    "\n",
    "elif ecl == [0, 0]:\n",
    "    print(\"level: Medium\")\n",
    "    error_level = 'M'\n",
    "    error_correction_byes = 10\n",
    "    message_data_bytes = 16\n",
    "\n",
    "elif ecl == [0, 1]:\n",
    "    print(\"level: Low\")\n",
    "    error_level = 'L'\n",
    "    error_correction_byes = 7\n",
    "    message_data_bytes = 19\n",
    "\n",
    "# mask_pattern(qr_cells_numeric)"
   ],
   "metadata": {
    "collapsed": false
   }
  },
  {
   "cell_type": "code",
   "execution_count": 18,
   "outputs": [],
   "source": [
    "# #This is ISO STANDART THINGS\n",
    "# # The first two bits determine the error correction level\n",
    "# # Level L (Low)         [11]\t7%  of data bytes can be restored.\n",
    "# # Level M (Medium)      [10]\t15% of data bytes can be restored.\n",
    "# # Level Q (Quartile)    [01]\t25% of data bytes can be restored.\n",
    "# # Level H (High)        [00]\t30% of data bytes can be restored.\n",
    "#\n",
    "#\n",
    "# if ecl == [0, 0]:\n",
    "#     print(\"level: High\")\n",
    "#     error_level = 'H'\n",
    "#     error_correction_byes =\n",
    "#\n",
    "# elif ecl == [0, 1]:\n",
    "#     print(\"level: Quartile\")\n",
    "#     error_level = 'Q'\n",
    "#\n",
    "# elif ecl == [1, 0]:\n",
    "#     print(\"level: Medium\")\n",
    "#     error_level = 'M'\n",
    "#\n",
    "# elif(ecl == [1,1]):\n",
    "#     print(\"level: Low\")\n",
    "#     error_level = 'L'"
   ],
   "metadata": {
    "collapsed": false
   }
  },
  {
   "cell_type": "markdown",
   "source": [
    "### Mask pattern"
   ],
   "metadata": {
    "collapsed": false
   }
  },
  {
   "cell_type": "code",
   "execution_count": 19,
   "outputs": [],
   "source": [
    "#THESE ARE THE ISO OLD MASKS\n",
    "# # Dictionary of all masks and their equivalent formulae\n",
    "# MASKS = {\n",
    "#     \"000\": lambda i, j: (i * j) % 2 + (i * j) % 3 == 0,\n",
    "#     \"001\": lambda i, j: (i / 2 + j / 3) % 2 == 0,\n",
    "#     \"010\": lambda i, j: ((i * j) % 3 + i + j) % 2 == 0,\n",
    "#     \"011\": lambda i, j: ((i * j) % 3 + i * j) % 2 == 0,\n",
    "#     \"100\": lambda i, j: i % 2 == 0,\n",
    "#     \"101\": lambda i, j: (i + j) % 2 == 0,\n",
    "#     \"110\": lambda i, j: (i + j) % 3 == 0,\n",
    "#     \"111\": lambda i, j: j % 3 == 0,\n",
    "# }\n"
   ],
   "metadata": {
    "collapsed": false
   }
  },
  {
   "cell_type": "code",
   "execution_count": 20,
   "outputs": [
    {
     "name": "stdout",
     "output_type": "stream",
     "text": [
      "Mask 1: 110\n",
      "Mask 2: 110\n",
      "Masks are the same\n",
      "Chosen mask: 110\n"
     ]
    }
   ],
   "source": [
    "# Dictionary of all masks and their equivalent formulae\n",
    "#WE WILL NOW USE THE REED-SOLOMON TYPE MASKS!\n",
    "# MASKS = {\n",
    "#     \"101\": lambda i, j: (i * j) % 2 + (i * j) % 3 == 0,\n",
    "#     \"100\": lambda i, j: (i / 2 + j / 3) % 2 == 0,\n",
    "#     \"111\": lambda i, j: ((i * j) % 3 + i + j) % 2 == 0,\n",
    "#     \"110\": lambda i, j: ((i * j) % 3 + i * j) % 2 == 0,\n",
    "#     \"001\": lambda i, j: i % 2 == 0,\n",
    "#     \"000\": lambda i, j: (i + j) % 2 == 0,\n",
    "#     \"011\": lambda i, j: (i + j) % 3 == 0,\n",
    "#     \"010\": lambda i, j: j % 3 == 0,\n",
    "# }\n",
    "MASKS = {\n",
    "    \"000\": lambda i, j: (i * j) % 2 + (i * j) % 3 == 0,\n",
    "    \"001\": lambda i, j: (i / 2 + j / 3) % 2 == 0,\n",
    "    \"010\": lambda i, j: ((i * j) % 3 + i + j) % 2 == 0,\n",
    "    \"011\": lambda i, j: ((i * j) % 3 + i * j) % 2 == 0,\n",
    "    \"100\": lambda i, j: i % 2 == 0,\n",
    "    \"101\": lambda i, j: (i + j) % 2 == 0,\n",
    "    \"110\": lambda i, j: (i + j) % 3 == 0,\n",
    "    \"111\": lambda i, j: j % 3 == 0,\n",
    "}\n",
    "\n",
    "\n",
    "# Same row as above, the three cells after the ecl cells (converted to a string)\n",
    "mask = [int(not (c)) for c in qr_cells_numeric[8, 2:5]]\n",
    "mask_str = ''.join([str(c) for c in mask])\n",
    "print(\"Mask 1:\", mask_str)\n",
    "\n",
    "# Mask from qr_cells_numeric[16:19, 2]\n",
    "mask2 = [int(not (c)) for c in qr_cells_numeric[16:19, 2]]\n",
    "mask_str2 = ''.join([str(c) for c in mask])\n",
    "print(\"Mask 2:\", mask_str2)\n",
    "\n",
    "# Compare masks\n",
    "if mask_str == mask_str2:\n",
    "    print(\"Masks are the same\")\n",
    "else:\n",
    "    print(\"Masks are different\")\n",
    "\n",
    "# Choose the maximum mask value\n",
    "mask_str = max(mask_str, mask_str2)\n",
    "print(\"Chosen mask:\", mask_str)\n",
    "\n",
    "\n",
    "# print(\"mask is: \", mask_str)\n",
    "# format_error_correction(qr_cells_numeric)\n",
    "# plt.show()"
   ],
   "metadata": {
    "collapsed": false
   }
  },
  {
   "cell_type": "markdown",
   "source": [
    "### Format error correction"
   ],
   "metadata": {
    "collapsed": false
   }
  },
  {
   "cell_type": "code",
   "execution_count": 21,
   "outputs": [
    {
     "name": "stdout",
     "output_type": "stream",
     "text": [
      "[0, 0, 1, 0, 1, 1, 1, 0, 0, 1]\n",
      "FEC from another location: [0, 0, 1, 0, 1, 1, 1, 0, 0, 1]\n",
      "FECs are the same\n",
      "Chosen FEC: [0, 0, 1, 0, 1, 1, 1, 0, 0, 1]\n"
     ]
    }
   ],
   "source": [
    "# Same row as above, but we want cells #5 and #7 (#6 is always set to 0),\n",
    "#  followed by column #8 from cell #0 in it to cell #7 (and skipping #6)\n",
    "fec = []\n",
    "fec.append(qr_cells_numeric[8, 5])\n",
    "fec.append(qr_cells_numeric[8, 7])\n",
    "fec.extend(qr_cells_numeric[0:6, 8])\n",
    "fec.extend(qr_cells_numeric[7:9, 8])\n",
    "fec = [int(not (c)) for c in fec]\n",
    "print(fec)\n",
    "# FEC from another location\n",
    "fec2 = []\n",
    "fec2.append(qr_cells_numeric[15, 8])\n",
    "fec2.append(qr_cells_numeric[14, 8])\n",
    "fec2.extend(qr_cells_numeric[8, 13:21][::-1])\n",
    "fec2 = [int(not (c)) for c in fec2]\n",
    "print(\"FEC from another location:\", fec2)\n",
    "\n",
    "# Compare FECs\n",
    "if fec == fec2:\n",
    "    print(\"FECs are the same\")\n",
    "else:\n",
    "    print(\"FECs are different\")\n",
    "\n",
    "# Choose the maximum FEC value\n",
    "fec = max(fec, fec2)\n",
    "print(\"Chosen FEC:\", fec)\n",
    "\n",
    "# print(fec)"
   ],
   "metadata": {
    "collapsed": false
   }
  },
  {
   "cell_type": "code",
   "execution_count": 22,
   "outputs": [
    {
     "name": "stdout",
     "output_type": "stream",
     "text": [
      "[1, 1] [1, 1, 0] [0, 0, 1, 0, 1, 1, 1, 0, 0, 1]\n"
     ]
    }
   ],
   "source": [
    "# So in total we have the following 15 bits of format info from our QR code\n",
    "print(ecl, mask, fec)"
   ],
   "metadata": {
    "collapsed": false
   }
  },
  {
   "cell_type": "code",
   "execution_count": 23,
   "outputs": [
    {
     "data": {
      "text/plain": "<Figure size 500x500 with 441 Axes>",
      "image/png": "[encoded data removed]"
     },
     "metadata": {},
     "output_type": "display_data"
    }
   ],
   "source": [
    "\n",
    "# Let's cross-check with our example\n",
    "_, axes = plt.subplots(grid_cells_num, grid_cells_num, figsize=(5, 5))\n",
    "for i, row in enumerate(axes):\n",
    "    for j, col in enumerate(row):\n",
    "\n",
    "        col.get_xaxis().set_visible(False)\n",
    "        col.get_yaxis().set_visible(False)\n",
    "        if (i == 8 and j <= 8) or (i <= 8 and j == 8):\n",
    "            if (i != 6) and (j != 6):\n",
    "                col.imshow(qr_cells[i][j], cmap=\"gray\", vmin=0, vmax=255)\n",
    "                col.spines[:].set_color('red')\n",
    "                continue\n",
    "        col.imshow(qr_cells[i][j], cmap=\"gray\", vmin=-1275, vmax=510)\n",
    "    # print(ecl, mask, fec)"
   ],
   "metadata": {
    "collapsed": false
   }
  },
  {
   "cell_type": "markdown",
   "source": [
    "The masking transformation is easily applied (or removed) using the exclusive-or operation (denoted by a caret ^ in many programming languages). The unmasking of the format information is shown below. Reading counter-clockwise around the upper-left locator pattern, we have the following sequence of bits. White modules represent 0 and black modules represent 1.\n",
    "\n",
    "Input       101101101001011\n",
    "Mask      ^ 101010000010010\n",
    "Output      000111101011001"
   ],
   "metadata": {
    "collapsed": false
   }
  },
  {
   "cell_type": "code",
   "execution_count": 24,
   "outputs": [
    {
     "name": "stdout",
     "output_type": "stream",
     "text": [
      "[0, 1] [0, 1, 1] [0, 0, 1, 0, 1, 0, 1, 0, 1, 1]\n"
     ]
    }
   ],
   "source": [
    "# However..... You need to XOR that with the \"format mask\": 101010000010010\n",
    "ecl[0] ^= 1\n",
    "mask[0] ^= 1\n",
    "mask[2] ^= 1\n",
    "fec[5] ^= 1\n",
    "fec[8] ^= 1\n",
    "\n",
    "# And now we print...\n",
    "print(ecl, mask, fec)"
   ],
   "metadata": {
    "collapsed": false
   }
  },
  {
   "cell_type": "markdown",
   "source": [],
   "metadata": {
    "collapsed": false
   }
  },
  {
   "cell_type": "markdown",
   "source": [
    "Data extraction\n",
    "Message placement within a Ver 1 QR symbol (21×21).\n",
    "![Alt text](https://upload.wikimedia.org/wikipedia/commons/thumb/2/21/QR_Character_Placement.svg/640px-QR_Character_Placement.svg.png \"a title\")\n",
    "Message placement within a Ver 1 QR symbol (21×21). Example from wikipedia, encoded QR message is www.wikipedia.org"
   ],
   "metadata": {
    "collapsed": false
   }
  },
  {
   "cell_type": "markdown",
   "source": [
    "## Data extraction\n"
   ],
   "metadata": {
    "collapsed": false
   }
  },
  {
   "cell_type": "code",
   "execution_count": 25,
   "outputs": [],
   "source": [
    "# Before we proceed, let's write a function for masking to make our lives easier\n",
    "UP, UP_ENC, DOWN, CW, CCW = range(5)  # A rather old-fashioned pythonic \"Enum\"\n",
    "\n",
    "def apply_mask(data_start_i, data_start_j, direction):\n",
    "    '''\n",
    "    data_start_i/j represent the first cell's coords in its respective direction\n",
    "    direction is the masking direction, up(-enc)/down/clockwise/anti-clockwise\n",
    "    '''\n",
    "    result = []\n",
    "    row_offsets = []\n",
    "    col_offsets = []\n",
    "    if (direction in [UP, UP_ENC]):\n",
    "        row_offsets = [0,  0, -1, -1, -2, -2, -3, -3]\n",
    "        col_offsets = [0, -1,  0, -1,  0, -1,  0, -1]\n",
    "    if (direction == DOWN):\n",
    "        row_offsets = [0,  0,  1,  1,  2,  2,  3,  3]\n",
    "        col_offsets = [0, -1,  0, -1,  0, -1,  0, -1]\n",
    "    if (direction == CW):\n",
    "        row_offsets = [0,  0,  1,  1,  1,  1,  0,  0]\n",
    "        col_offsets = [0, -1,  0, -1, -2, -3, -2, -3]\n",
    "    if (direction == CCW):\n",
    "        row_offsets = [0,  0, -1, -1, -1, -1,  0,  0]\n",
    "        col_offsets = [0, -1,  0, -1, -2, -3, -2, -3]\n",
    "\n",
    "    for i, j in zip(row_offsets, col_offsets):\n",
    "        cell = qr_cells_numeric[data_start_i+i, data_start_j+j]\n",
    "        result.append(int(cell if MASKS[mask_str](data_start_i+i, data_start_j+j) else not cell))\n",
    "    print(result)\n",
    "    return result[:4] if direction == UP_ENC else result\n",
    "\n"
   ],
   "metadata": {
    "collapsed": false
   }
  },
  {
   "cell_type": "markdown",
   "source": [
    "### Data encoding"
   ],
   "metadata": {
    "collapsed": false
   }
  },
  {
   "cell_type": "code",
   "execution_count": 26,
   "outputs": [
    {
     "name": "stdout",
     "output_type": "stream",
     "text": [
      "[0, 1, 0, 0, 0, 0, 0, 1]\n",
      "[0, 1, 0, 0]\n",
      "Mode name: Byte\n",
      "Data bits: 8 bits per character\n"
     ]
    }
   ],
   "source": [
    "enc = apply_mask(grid_cells_num-1, grid_cells_num-1, UP_ENC)\n",
    "print(enc)\n",
    "\n",
    "length_bits = 0\n",
    "mode = ''\n",
    "\n",
    "if enc == [0,0,0,1]:\n",
    "    print(\"Mode name: Numeric\")\n",
    "    print(\"Data bits: 10 bits per 3 digits\")\n",
    "    length_bits = 10\n",
    "    mode = \"numeric\"\n",
    "\n",
    "elif enc == [0,0,1,0]:\n",
    "    print(\"Mode name: Alphanumeric\")\n",
    "    print(\"Data bits: 11 bits per 2 characters\")\n",
    "    length_bits = 9\n",
    "    mode = \"alphanumeric\"\n",
    "\n",
    "\n",
    "elif enc == [0,1,0,0]:\n",
    "    print(\"Mode name: Byte\")\n",
    "    print(\"Data bits: 8 bits per character\")\n",
    "    length_bits = 8\n",
    "    mode = \"byte\"\n",
    "\n",
    "\n",
    "elif enc == [1,0,0,0]:\n",
    "    print(\"Mode name: Kanji\")\n",
    "    print(\"Data bits: 13 bits per character\")\n",
    "    length_bits = 8\n",
    "    mode = \"kanji\"\n",
    "\n"
   ],
   "metadata": {
    "collapsed": false
   }
  },
  {
   "cell_type": "markdown",
   "source": [
    "### Data length"
   ],
   "metadata": {
    "collapsed": false
   }
  },
  {
   "cell_type": "code",
   "execution_count": 27,
   "outputs": [
    {
     "name": "stdout",
     "output_type": "stream",
     "text": [
      "[0, 0, 0, 1, 0, 0, 0, 1]\n",
      "length bits:  8\n",
      "True length obtained.\n",
      "17\n"
     ]
    }
   ],
   "source": [
    "length = apply_mask(grid_cells_num-3, grid_cells_num-1, UP)\n",
    "# print(length)\n",
    "print(\"length bits: \", len(length))\n",
    "if length_bits == len(length):\n",
    "    print(\"True length obtained.\")\n",
    "\n",
    "decimal_value = 0\n",
    "power = len(length) - 1\n",
    "for digit in length:\n",
    "    decimal_value += digit * (2 ** power)\n",
    "    power -= 1\n",
    "\n",
    "print(decimal_value)"
   ],
   "metadata": {
    "collapsed": false
   }
  },
  {
   "cell_type": "markdown",
   "source": [
    "### Data extraction"
   ],
   "metadata": {
    "collapsed": false
   }
  },
  {
   "cell_type": "code",
   "execution_count": 27,
   "outputs": [],
   "source": [],
   "metadata": {
    "collapsed": false
   }
  },
  {
   "cell_type": "code",
   "execution_count": 28,
   "outputs": [
    {
     "name": "stdout",
     "output_type": "stream",
     "text": [
      "Updated data_starting_indices\n",
      "[0, 1, 1, 0, 0, 0, 1, 0]\n",
      "01100010 = b\n",
      "[0, 1, 1, 0, 0, 0, 0, 1]\n",
      "01100001 = a\n",
      "[0, 1, 1, 1, 0, 0, 0, 1]\n",
      "01110001 = q\n",
      "[1, 0, 1, 0, 0, 0, 0, 0]\n",
      "10100000 =  \n",
      "[0, 1, 1, 0, 1, 1, 1, 0]\n",
      "01101110 = n\n",
      "[0, 1, 1, 0, 1, 1, 1, 1]\n",
      "01101111 = o\n",
      "[0, 1, 1, 0, 1, 1, 1, 1]\n",
      "01101111 = o\n",
      "[0, 1, 1, 1, 0, 0, 1, 0]\n",
      "01110010 = r\n",
      "[0, 1, 1, 0, 1, 0, 1, 1]\n",
      "01101011 = k\n",
      "[0, 1, 1, 0, 1, 1, 1, 1]\n",
      "01101111 = o\n",
      "[0, 1, 1, 0, 1, 1, 0, 1]\n",
      "01101101 = m\n",
      "[0, 0, 1, 0, 0, 1, 0, 0]\n",
      "00100100 = $\n",
      "[0, 1, 1, 0, 1, 0, 1, 1]\n",
      "01101011 = k\n",
      "[0, 1, 1, 0, 0, 1, 1, 0]\n",
      "01100110 = f\n",
      "[0, 1, 1, 0, 0, 0, 0, 1]\n",
      "01100001 = a\n",
      "[0, 1, 1, 1, 1, 0, 0, 1]\n",
      "01111001 = y\n",
      "[0, 1, 1, 0, 0, 0, 0, 1]\n",
      "01100001 = a\n",
      "[0, 0, 0, 0, 0, 1, 1, 1]\n",
      "0000 = 0 (NULL TERMINATOR)\n",
      "\n",
      "Decoded string: baq noorkom$kfaya\n"
     ]
    }
   ],
   "source": [
    "data_starting_indices = [\n",
    "    [grid_cells_num-7, grid_cells_num-1, UP],\n",
    "    [grid_cells_num-11, grid_cells_num-1, CCW],\n",
    "    [grid_cells_num-10, grid_cells_num-3, DOWN],\n",
    "    [grid_cells_num-6, grid_cells_num-3, DOWN],\n",
    "    [grid_cells_num-2, grid_cells_num-3, CW],\n",
    "    [grid_cells_num-3, grid_cells_num-5, UP],\n",
    "    [grid_cells_num-7, grid_cells_num-5, UP],\n",
    "    [grid_cells_num-11, grid_cells_num-5, CCW],\n",
    "    [grid_cells_num-10, grid_cells_num-7, DOWN],\n",
    "    [grid_cells_num-6, grid_cells_num-7, DOWN],\n",
    "    [grid_cells_num-2, grid_cells_num-7, CW],\n",
    "    [grid_cells_num-3, grid_cells_num-9, UP],\n",
    "    [grid_cells_num-7, grid_cells_num-9, UP],\n",
    "    [grid_cells_num-11, grid_cells_num-9, UP],\n",
    "    [grid_cells_num-16, grid_cells_num-9, UP],\n",
    "    [grid_cells_num-20, grid_cells_num-9, CCW],\n",
    "    [grid_cells_num-19, grid_cells_num-11, DOWN],\n",
    "    [grid_cells_num-14, grid_cells_num-11, DOWN],\n",
    "    [grid_cells_num-10, grid_cells_num-11, DOWN],\n",
    "    [grid_cells_num-6, grid_cells_num-11, DOWN],\n",
    "    # Hmm..? I actually don't know how to proceed now lol\n",
    "]\n",
    "all_starting_indices = []\n",
    "for i in range(grid_cells_num):\n",
    "    for j in range(grid_cells_num):\n",
    "        for direction in [UP, DOWN, CW, CCW]:\n",
    "            all_starting_indices.append([i, j, direction])\n",
    "\n",
    "# Find missing starting indices\n",
    "missing_indices = []\n",
    "for index in all_starting_indices:\n",
    "    if index not in data_starting_indices:\n",
    "        missing_indices.append(index)\n",
    "\n",
    "if(len(length)>8):\n",
    "# Append missing indices to data_starting_indices\n",
    "    data_starting_indices.extend(missing_indices)\n",
    "\n",
    "# Print the updated data_starting_indices list\n",
    "print(\"Updated data_starting_indices\")\n",
    "counter = 0\n",
    "ans = ''\n",
    "for a, b, d in data_starting_indices:\n",
    "    bits = apply_mask(a, b, d)\n",
    "    bit_string = ''.join([str(bit) for bit in bits])\n",
    "    if bit_string[:4] == \"0000\" and counter==decimal_value:\n",
    "        print(f'{bit_string[:4]} = 0 (NULL TERMINATOR)')\n",
    "        break\n",
    "    ans += chr(int(bit_string, 2)) # converts to binary to int, then to ASCII\n",
    "    print(f'{bit_string} = {ans[-1]}')\n",
    "    counter +=1\n",
    "\n",
    "print(f'\\nDecoded string: {ans}')"
   ],
   "metadata": {
    "collapsed": false
   }
  },
  {
   "cell_type": "code",
   "execution_count": 31,
   "outputs": [],
   "source": [
    "# from reedsolo import RSCodec\n",
    "#\n",
    "# # Convert the string to a list of integers (byte values)\n",
    "# data_bytes = [ord(char) for char in ans]\n",
    "#\n",
    "# # Determine the number of error correction bytes per block based on the QR code version and error correction level\n",
    "# # For example:\n",
    "# error_level = 'H'  # Use the error correction level obtained from your code\n",
    "# if error_level == 'H':\n",
    "#     num_ec_bytes_per_block = 30  # Example value, adjust based on your calculation\n",
    "# else:\n",
    "#     # Add conditions for other error correction levels if needed\n",
    "#     pass\n",
    "#\n",
    "# # Create an RSCodec object\n",
    "# rs = RSCodec(error_correction_byes)\n",
    "#\n",
    "# # Encode the data using Reed-Solomon\n",
    "# encoded_data = rs.encode(data_bytes)\n",
    "#\n",
    "# # Now encoded_data contains both the original data and the error correction c"
   ],
   "metadata": {
    "collapsed": false
   }
  },
  {
   "cell_type": "code",
   "execution_count": 33,
   "outputs": [
    {
     "name": "stdout",
     "output_type": "stream",
     "text": [
      "Encoded data: baq noorkom$kfaya Oð\u001AgB¶\fW`Û\u0017\n"
     ]
    },
    {
     "data": {
      "text/plain": "(bytearray(b'baq\\xa0noorkom$kfaya'),\n bytearray(b'baq\\xa0noorkom$kfaya\\x96\\xa0O\\xf0\\x1agB\\xb6\\x0cW`\\xdb\\x17'),\n bytearray(b''))"
     },
     "execution_count": 33,
     "metadata": {},
     "output_type": "execute_result"
    }
   ],
   "source": [
    "# # Convert the list of integers back to a string\n",
    "# encoded_string = ''.join(chr(byte) for byte in encoded_data)\n",
    "#\n",
    "# # Print the encoded string\n",
    "# print(\"Encoded data:\", encoded_string)\n",
    "#\n",
    "# rs.decode(encoded_data)"
   ],
   "metadata": {
    "collapsed": false
   }
  },
  {
   "cell_type": "code",
   "execution_count": null,
   "outputs": [],
   "source": [
    "# # Print the list of integers\n",
    "# print(\"Encoded data:\", encoded_data)"
   ],
   "metadata": {
    "collapsed": false
   }
  }
 ],
 "metadata": {
  "kernelspec": {
   "display_name": "Python 3",
   "language": "python",
   "name": "python3"
  },
  "language_info": {
   "codemirror_mode": {
    "name": "ipython",
    "version": 2
   },
   "file_extension": ".py",
   "mimetype": "text/x-python",
   "name": "python",
   "nbconvert_exporter": "python",
   "pygments_lexer": "ipython2",
   "version": "2.7.6"
  }
 },
 "nbformat": 4,
 "nbformat_minor": 0
}
