{
 "cells": [
  {
   "cell_type": "markdown",
   "source": [
    "## **IMPORTS**|"
   ],
   "metadata": {
    "collapsed": false
   }
  },
  {
   "cell_type": "code",
   "execution_count": 115,
   "metadata": {
    "collapsed": true
   },
   "outputs": [],
   "source": [
    "#IMPORTS\n",
    "import cv2\n",
    "import numpy as np\n",
    "import matplotlib.pyplot as plt\n",
    "import math\n",
    "# !pip install --upgrade reedsolo\n",
    "import reedsolo as rs\n",
    "from skimage.metrics import structural_similarity as compare_ssim\n",
    "from scipy.signal import medfilt2d"
   ]
  },
  {
   "cell_type": "code",
   "execution_count": 116,
   "outputs": [],
   "source": [
    "fN = \"CSE483 Sp24 Project Test Cases/\" #folderName\n",
    "img_array = [fN+'01-Getting-started.png',fN+'02-Matsawar-3edel-ya3am.png', fN+'03-Leffy-bina-ya-donya.png',\n",
    "             fN+'04-Black-mirror.png',fN+'05-Caesar-cipher.png', fN+'06-Railfence-cipher.png',\n",
    "             fN+'07-THE-MIGHTY-FINGER.png', fN+'08-Compresso-Espresso.png', fN+'09-My-phone-fell-while-taking-this-one-...-or-did-it.png', fN+'10-Gone-With-The-Wind.png', fN+'11-weewooweewooweewoo.png',\n",
    "             fN+'12-mal7-w-felfel.png', fN+'13-2el-noor-2ata3.png',fN+'14-BANANAAA!!!.png',\n",
    "             fN+'15-beast-mode-computer-vision-(this-one-is-from-wikipedia).jpg',\n",
    "             fN+'16-V3-QR-Code...-can-you-do-it.png']\n",
    "\n",
    "TEST_CASE = 9\n",
    "\n",
    "img_address = img_array[TEST_CASE]"
   ],
   "metadata": {
    "collapsed": false
   }
  },
  {
   "cell_type": "markdown",
   "source": [
    "## *PREPROCESSING*"
   ],
   "metadata": {
    "collapsed": false
   }
  },
  {
   "cell_type": "code",
   "execution_count": 117,
   "outputs": [],
   "source": [
    "def median_filter(img, size):\n",
    "    median = cv2.medianBlur(img, size)\n",
    "    return median\n",
    "\n",
    "def smoothing_filter(img):\n",
    "\n",
    "    return 0\n",
    "\n",
    "def constrast_stretching(gray):\n",
    "    # Calculate the minimum and maximum pixel values\n",
    "    min_val = np.min(gray)\n",
    "    max_val = np.max(gray)\n",
    "\n",
    "    # Define the new minimum and maximum values for contrast stretching\n",
    "    new_min = 0\n",
    "    new_max = 255\n",
    "\n",
    "    # Apply contrast stretching\n",
    "    stretched_image = ((gray - min_val) / (max_val - min_val)) * (new_max - new_min) + new_min\n",
    "\n",
    "    # Convert the image back to uint8 format\n",
    "    stretched_image = np.uint8(stretched_image)\n",
    "    return stretched_image\n",
    "\n",
    "\n",
    "def brighten_filter(img_gray):\n",
    "    brightened_img = [pixel if (pixel >= 128) else pixel + 128 for pixel in img_gray.ravel()]\n",
    "    brightened_img_reshaped = np.reshape(brightened_img, img_gray.shape)\n",
    "    return brightened_img_reshaped\n",
    "\n",
    "def rotate_img(img):\n",
    "\n",
    "    # Rotate the image\n",
    "    rotated_img = cv2.rotate(img, cv2.ROTATE_90_COUNTERCLOCKWISE)\n",
    "    return rotated_img\n",
    "\n",
    "def show_histogram(img):\n",
    "    plt.figure(figsize=(9,8))\n",
    "    plt.hist(img.ravel(), bins=256)\n",
    "\n",
    "def sharpening_filter(img_gray, kernel_size):\n",
    "    image_float32 = np.float32(img_gray)\n",
    "    blurred = cv2.GaussianBlur(img_gray, (kernel_size, kernel_size), 0)\n",
    "    blurred_float32 = np.float32(blurred)\n",
    "\n",
    "    # Calculate the unsharp mask (original image - blurred image)\n",
    "    unsharp_mask = cv2.subtract(image_float32, blurred_float32)\n",
    "\n",
    "    # Add the unsharp mask to the original image to sharpen it\n",
    "    sharpened = cv2.add(image_float32, unsharp_mask)\n",
    "    sharpened = np.clip(sharpened, 0, 255)  # Clip values to 0-255 range\n",
    "    sharpened = np.uint8(sharpened)\n",
    "    return sharpened\n",
    "\n",
    "def opening_filter(img):\n",
    "    closed_img = cv2.morphologyEx(img, cv2.MORPH_CLOSE, cv2.getStructuringElement(cv2.MORPH_ELLIPSE, (13, 13)))\n",
    "    # plt.imshow(thresh1, cmap=\"grey\")\n",
    "\n",
    "    return closed_img\n",
    "\n",
    "def get_contours(img):\n",
    "    #img taken into the contours must be binarized (applying greyscale then threshold) for better accuracy\n",
    "\n",
    "    ## *object to be found should be white and background should be black* ##\n",
    "\n",
    "    # Find contours in the binary image\n",
    "    contours, _ = cv2.findContours(img, cv2.RETR_EXTERNAL, cv2.CHAIN_APPROX_SIMPLE)\n",
    "    # Find the contour with the largest area (assuming it's the outer frame of the QR code)\n",
    "    largest_contour = max(contours, key=cv2.contourArea)\n",
    "    # Get the bounding (corner points) of the rectangle of the contour\n",
    "    x, y, w, h = cv2.boundingRect(largest_contour)\n",
    "\n",
    "    # Crop the image to the bounding rectangle to Extract the QR code region\n",
    "    qr_code_frame = img[y:y+h, x:x+w]\n",
    "\n",
    "    # Straightening into a square (assuming the frame is already rectangular)\n",
    "    # Find the longer side of the rectangle\n",
    "    if w > h:\n",
    "        max_dim = w\n",
    "    else:\n",
    "        max_dim = h\n",
    "\n",
    "    # Create a square image with dimensions equal to the maximum dimension\n",
    "    square_img = np.zeros((max_dim, max_dim), dtype=np.uint8)\n",
    "    # Calculate the position to paste the rectangle in the center of the square image\n",
    "    x_pos = (max_dim - w) // 2\n",
    "    y_pos = (max_dim - h) // 2\n",
    "    # Paste the rectangle onto the square image\n",
    "    square_img[y_pos:y_pos+h, x_pos:x_pos+w] = qr_code_frame\n",
    "    return square_img\n",
    "\n",
    "def invert_qr(img):\n",
    "    inverted_img = cv2.bitwise_not(img)\n",
    "    return inverted_img\n",
    "\n",
    "def adaptive_threshold(img, blockSize, C):\n",
    "    adptv_threshed_img = cv2.adaptiveThreshold(\n",
    "    src=img,\n",
    "    maxValue=255,\n",
    "    adaptiveMethod=cv2.ADAPTIVE_THRESH_GAUSSIAN_C,  # read: https://docs.opencv.org/3.4/d7/d1b/group__imgproc__misc.html#gaa42a3e6ef26247da787bf34030ed772c\n",
    "    thresholdType=cv2.THRESH_BINARY,\n",
    "    blockSize=blockSize,  # NxN block size (odd) to perform adaptive threshold on\n",
    "    C=C  # Constant subtracted from the mean or weighted mean\n",
    "    )\n",
    "\n",
    "    return adptv_threshed_img\n",
    "\n",
    "\n",
    "def flip_image(img):\n",
    "    img = cv2.flip(img,1)\n",
    "    return img\n",
    "\n",
    "def fourier(image):\n",
    "    dft_img = np.fft.fft2(image)\n",
    "    dft_img_shift = np.fft.fftshift(dft_img)\n",
    "\n",
    "    return dft_img_shift\n",
    "\n",
    "def histogram_equalizer(img):\n",
    "    equalized_img = cv2.equalizeHist(img)\n",
    "    return equalized_img\n",
    "\n",
    "def shift_image(image, dx, dy):\n",
    "    shifted_image = np.roll(image, dy, axis=0)  # Shift rows\n",
    "    shifted_image = np.roll(shifted_image, dx, axis=1)  # Shift columns\n",
    "    return shifted_image\n",
    "\n",
    "def replicate_padding(image, padding_size):\n",
    "    return cv2.copyMakeBorder(image, padding_size, padding_size, padding_size, padding_size, cv2.BORDER_REPLICATE)\n",
    "\n",
    "def zero_padding(image, padding_size):\n",
    "    return cv2.copyMakeBorder(image, padding_size, padding_size, padding_size, padding_size, cv2.BORDER_CONSTANT, value=0)\n",
    "\n",
    "def mirror_padding(image, padding_size):\n",
    "    return cv2.copyMakeBorder(image, padding_size, padding_size, padding_size, padding_size, cv2.BORDER_REFLECT)\n",
    "\n",
    "def straighten_image(image):\n",
    "    # Apply edge detection or any other suitable method to detect edges\n",
    "    edges = cv2.Canny(image, 50, 150, apertureSize=3)\n",
    "\n",
    "    # Apply Hough Line Transform to detect lines\n",
    "    lines = cv2.HoughLines(edges, 1, np.pi / 180, 127)\n",
    "    print(lines)\n",
    "    # Calculate rotation angle\n",
    "    # Calculate rotation angle\n",
    "    total_angle = 0.0\n",
    "    if lines is not None:\n",
    "        for line in lines:\n",
    "            rho, theta = line[0]  # Extract rho and theta from the current line\n",
    "            total_angle += np.degrees(theta)\n",
    "        angle = total_angle / len(lines)\n",
    "\n",
    "\n",
    "    # Rotate the image\n",
    "    center = (image.shape[1] // 2, image.shape[0] // 2)\n",
    "    rotation_matrix = cv2.getRotationMatrix2D(center, angle, 1.0)\n",
    "    rotated_image = cv2.warpAffine(image, rotation_matrix, (image.shape[1], image.shape[0]), flags=cv2.INTER_CUBIC, borderMode=cv2.BORDER_REPLICATE)\n",
    "\n",
    "    return rotated_image\n",
    "\n",
    "def binary_threshold(img, threshold):\n",
    "    _, thresholded_image = cv2.threshold(img, threshold, 255, cv2.THRESH_BINARY)\n",
    "    return thresholded_image\n"
   ],
   "metadata": {
    "collapsed": false
   }
  },
  {
   "cell_type": "markdown",
   "source": [
    "## *Filter functions*"
   ],
   "metadata": {
    "collapsed": false
   }
  },
  {
   "cell_type": "code",
   "execution_count": 118,
   "outputs": [],
   "source": [
    "def give_me_circle_mask_nowww(mask_size, radius):\n",
    "    mask = np.zeros(mask_size)\n",
    "    cy = mask.shape[0] // 2\n",
    "    cx = mask.shape[1] // 2\n",
    "    return cv2.circle(mask, (cx,cy), radius, (255,255,255), -1).astype(np.uint8)\n",
    "\n",
    "def try_lowpass(dft_img, limit, gaussian: bool = False):\n",
    "    mask = give_me_circle_mask_nowww(dft_img.shape, limit)\n",
    "    if (gaussian):\n",
    "        mask = cv2.GaussianBlur(mask, (21,21), 0)\n",
    "    dft_img_shifted = np.fft.fftshift(dft_img)\n",
    "    dft_img_shifted_lowpass = np.multiply(dft_img_shifted, mask)\n",
    "    # Step 3: Convert back to spatial domain\n",
    "    f_ishift = np.fft.ifftshift(dft_img_shifted_lowpass)\n",
    "    img_back = np.fft.ifft2(f_ishift)\n",
    "    img_back = np.abs(img_back)\n",
    "    return img_back\n",
    "\n",
    "def try_highpass(dft_img, limit, gaussian: bool = False, keep_dc: bool = False):\n",
    "    mask = ~give_me_circle_mask_nowww(dft_img.shape, limit)\n",
    "    if (gaussian):\n",
    "        mask = cv2.GaussianBlur(mask, (21,21), 0)\n",
    "    if (keep_dc):\n",
    "        mask[dft_img.shape[0]//2, dft_img.shape[1]//2] = 255\n",
    "    dft_img_shifted = np.fft.fftshift(dft_img)\n",
    "    dft_img_shifted_highpass = np.multiply(dft_img_shifted, mask)\n",
    "    # Step 3: Convert back to spatial domain\n",
    "    f_ishift = np.fft.ifftshift(dft_img_shifted_highpass)\n",
    "    img_back = np.fft.ifft2(f_ishift)\n",
    "    img_back = np.abs(img_back)\n",
    "\n",
    "    # Normalize pixel values to range [0, 255]\n",
    "    img_back = cv2.normalize(img_back, None, alpha=0, beta=255, norm_type=cv2.NORM_MINMAX, dtype=cv2.CV_8U)\n",
    "\n",
    "    return img_back\n",
    "\n",
    "def plot_shifted_fft_and_ifft(dft_img_shifted):\n",
    "    img = np.fft.ifft2(np.fft.ifftshift(dft_img_shifted))\n",
    "    fig, (ax1, ax2) = plt.subplots(figsize=(10, 5), nrows=1, ncols=2)\n",
    "    ax1.set(yticks=[0, img.shape[0]//2, img.shape[0] - 1], yticklabels=[-img.shape[0]//2, 0, img.shape[0]//2 - 1])\n",
    "    ax1.set(xticks=[0, img.shape[1]//2, img.shape[1] - 1], xticklabels=[-img.shape[1]//2, 0, img.shape[1]//2 - 1])\n",
    "    ax1.imshow(np.abs(dft_img_shifted)**0.1, cmap = 'gray')\n",
    "    ax2.imshow(np.abs(img), cmap = 'gray')\n",
    "    return dft_img_shifted"
   ],
   "metadata": {
    "collapsed": false
   }
  },
  {
   "cell_type": "code",
   "execution_count": 119,
   "outputs": [],
   "source": [
    "def biggestContour (contours):\n",
    "    biggest=np.array([])\n",
    "\n",
    "    max_area=0\n",
    "    for i in contours:\n",
    "        area=cv2.contourArea(i)\n",
    "        if area>1000:\n",
    "            peri=cv2.arcLength(i,True)\n",
    "            approx=cv2.approxPolyDP(i,0.02*peri,True)\n",
    "            if area > max_area and len(approx)==4:\n",
    "                biggest=approx\n",
    "                max_area=area\n",
    "    return biggest,max_area\n",
    "def reorder(myPoints):\n",
    "    myPoints=myPoints.reshape((4,2))\n",
    "    myPointsNew=np.zeros((4,1,2),dtype=np.int32)\n",
    "    add=myPoints.sum(1)\n",
    "    myPointsNew[0]=myPoints[np.argmin(add)]\n",
    "    myPointsNew[3]=myPoints[np.argmax(add)]\n",
    "    diff=np.diff(myPoints,axis=1)\n",
    "    myPointsNew[1]=myPoints[np.argmin(diff)]\n",
    "    myPointsNew[2]=myPoints[np.argmax(diff)]\n",
    "    return myPointsNew"
   ],
   "metadata": {
    "collapsed": false
   }
  },
  {
   "cell_type": "markdown",
   "source": [
    "### Finding the placement boxes contours"
   ],
   "metadata": {
    "collapsed": false
   }
  },
  {
   "cell_type": "code",
   "execution_count": 120,
   "outputs": [],
   "source": [
    "# image = cv2.imread(img_address)\n",
    "#\n",
    "# angle = -15  # Adjust the angle as desired  # Get the image's height and width\n",
    "# height, width = image.shape[:2]\n",
    "# # Calculate the rotation matrix\n",
    "# rotation_matrix = cv2.getRotationMatrix2D((width / 2, height / 2), angle, 1)\n",
    "# # Apply the rotation to the\n",
    "#\n",
    "# # Define the border width\n",
    "# border_width = 1\n",
    "#\n",
    "# # Create a border with a single black pixel\n",
    "# border_image = cv2.copyMakeBorder(image, border_width, border_width, border_width, border_width, cv2.BORDER_CONSTANT, value=(0, 0, 0))\n",
    "#\n",
    "# rotated_image = cv2.warpAffine(border_image, rotation_matrix, (width, height))"
   ],
   "metadata": {
    "collapsed": false
   }
  },
  {
   "cell_type": "code",
   "execution_count": 121,
   "outputs": [
    {
     "name": "stdout",
     "output_type": "stream",
     "text": [
      "Error: max() arg is an empty sequence\n"
     ]
    },
    {
     "data": {
      "text/plain": "<Figure size 700x700 with 2 Axes>",
      "image/png": "[encoded data removed]"
     },
     "metadata": {},
     "output_type": "display_data"
    }
   ],
   "source": [
    "try:\n",
    "    fig, axes = plt.subplots(1, 2, figsize=(7, 7))\n",
    "    RotateFlag = False\n",
    "    # versionFlag\n",
    "    # Load the image containing the QR code\n",
    "    image = cv2.imread(img_address)\n",
    "    # image = rotated_image\n",
    "    # Convert the image to grayscale\n",
    "    gray = cv2.cvtColor(image, cv2.COLOR_BGR2GRAY)\n",
    "\n",
    "    # Apply Gaussian blur to reduce noise\n",
    "    blurred = cv2.GaussianBlur(gray, (5, 5), 0)\n",
    "\n",
    "    # Perform edge detection using Canny\n",
    "    edges = cv2.Canny(blurred, 50, 150)\n",
    "\n",
    "    # Find contours in the edge-detected image\n",
    "    contours, _ = cv2.findContours(edges.copy(), cv2.RETR_EXTERNAL, cv2.CHAIN_APPROX_SIMPLE)\n",
    "\n",
    "    # Find the largest contour(s) by area\n",
    "    max_area = max(cv2.contourArea(contour) for contour in contours)\n",
    "    largest_contours = [contour for contour in contours if cv2.contourArea(contour) > 0.9 * max_area]\n",
    "    # List to store the coordinates of bounding boxes\n",
    "    bounding_box_coordinates = []\n",
    "        # Initialize variables to store bounding box size\n",
    "    bounding_box_width = 0\n",
    "    bounding_box_height = 0\n",
    "    # Get bounding box coordinates for the largest contours\n",
    "    for contour in largest_contours:\n",
    "        # Get bounding box\n",
    "        x, y, w, h = cv2.boundingRect(contour)\n",
    "        # Append the coordinates of the top-left corner (x, y) to the list\n",
    "        bounding_box_coordinates.append((x, y))\n",
    "        bounding_box_width = w\n",
    "        bounding_box_height = h\n",
    "\n",
    "\n",
    "\n",
    "    print(f\"Bounding Box Size: (width={bounding_box_width}, height={bounding_box_height})\")\n",
    "\n",
    "    # Extract all values from tuples in the list\n",
    "    all_values = [value for pair in bounding_box_coordinates for value in pair]\n",
    "    # Find the maximum value\n",
    "    max_value = max(all_values)\n",
    "    # print(\"Maximum value:\", max_value)\n",
    "    # Check if the specified coordinates are present in any of the bounding boxes\n",
    "    if len(bounding_box_coordinates)>1:\n",
    "        if any((x == max_value and y == max_value) for x, y in bounding_box_coordinates):\n",
    "            # Rotate the image by 180 degrees\n",
    "            RotateFlag = True\n",
    "\n",
    "    print(\"Rotate flag: \", RotateFlag)\n",
    "    # Print the coordinates of the bounding boxes\n",
    "    for i, (x, y) in enumerate(bounding_box_coordinates):\n",
    "        print(f\"Bounding Box {i + 1}: (x={x}, y={y})\")\n",
    "    # Create a copy of the original image to draw the largest contour on\n",
    "    image_with_contours = image.copy()\n",
    "\n",
    "    # Draw the largest contour(s) with a red border\n",
    "    cv2.drawContours(image_with_contours, largest_contours, -1, (0, 0, 255), 2)\n",
    "\n",
    "    # Convert BGR image to RGB for displaying with matplotlib\n",
    "    image_with_contours_rgb = cv2.cvtColor(image_with_contours, cv2.COLOR_BGR2RGB)\n",
    "\n",
    "    # Plot the images side by side\n",
    "\n",
    "    # Plot the original image\n",
    "    axes[0].imshow(cv2.cvtColor(image, cv2.COLOR_BGR2RGB))\n",
    "    axes[0].set_title('Original Image')\n",
    "    axes[0].axis('off')\n",
    "\n",
    "    if RotateFlag == True:\n",
    "        # Plot the image with contours\n",
    "        axes[1].imshow(image_with_contours_rgb)\n",
    "        axes[1].set_title('Image with Contours after rotations')\n",
    "        axes[1].axis('off')\n",
    "    else:\n",
    "            # Plot the image with contours\n",
    "        axes[1].imshow(image_with_contours_rgb)\n",
    "        axes[1].set_title('Image with Contours')\n",
    "        axes[1].axis('off')\n",
    "    plt.show()\n",
    "except Exception as e:\n",
    "    print(\"Error:\", e)\n",
    "    # return none"
   ],
   "metadata": {
    "collapsed": false
   }
  },
  {
   "cell_type": "code",
   "execution_count": 122,
   "outputs": [],
   "source": [
    "def detect_and_remove_sin_noise(image):\n",
    "    # Compute the 2D discrete Fourier Transform\n",
    "    dft = np.fft.fft2(image)\n",
    "\n",
    "    # Shift the zero-frequency component to the center of the spectrum\n",
    "    dft_shift = np.fft.fftshift(dft)\n",
    "\n",
    "    # Compute the magnitude spectrum\n",
    "    magnitude_spectrum = np.abs(dft_shift)\n",
    "\n",
    "    # Threshold the magnitude spectrum to detect significant peaks\n",
    "    threshold = 0.1 * np.max(magnitude_spectrum)\n",
    "    peaks = np.where(magnitude_spectrum > threshold)\n",
    "\n",
    "    # Convert the peak coordinates to frequency space\n",
    "    rows, cols = image.shape\n",
    "    center_row, center_col = rows // 2, cols // 2\n",
    "    frequencies = np.array(peaks) - np.array([[center_row], [center_col]])\n",
    "\n",
    "    # Print detected sinusoidal noise frequencies\n",
    "    print(\"Detected sinusoidal noise frequencies:\")\n",
    "    for freq in zip(frequencies[0], frequencies[1]):\n",
    "        print(\"Frequency: {},{} (in pixels)\".format(freq[0], freq[1]))\n",
    "\n",
    "    # Check if only one sinusoidal frequency is detected\n",
    "    if len(frequencies[0]) <= 3:\n",
    "        # Remove the detected frequency from the shifted DFT\n",
    "        freq_row, freq_col = frequencies[0][0], frequencies[1][0]\n",
    "        dft_shift[center_row + freq_row, center_col + freq_col] = 0\n",
    "        dft_shift[center_row - freq_row, center_col - freq_col] = 0\n",
    "\n",
    "        # Compute the inverse shift to prepare for inverse FFT\n",
    "        dft_unshifted = np.fft.ifftshift(dft_shift)\n",
    "\n",
    "        # Compute the inverse 2D discrete Fourier Transform\n",
    "        filtered_image = np.fft.ifft2(dft_unshifted).real\n",
    "\n",
    "        # Normalize pixel values to range [0, 255]\n",
    "        img_back = cv2.normalize(filtered_image, None, alpha=0, beta=255, norm_type=cv2.NORM_MINMAX, dtype=cv2.CV_8U)\n",
    "\n",
    "        return img_back\n",
    "    else:\n",
    "        print(\"More than one sinusoidal frequency detected. Skipping noise removal.\")\n",
    "        return image"
   ],
   "metadata": {
    "collapsed": false
   }
  },
  {
   "cell_type": "markdown",
   "source": [
    "#### **Importing image and binarizing (making it either 0 or 255)**"
   ],
   "metadata": {
    "collapsed": false
   }
  },
  {
   "cell_type": "code",
   "execution_count": 123,
   "outputs": [],
   "source": [
    "def check_histogram_equalizer(img):\n",
    "    hist = cv2.calcHist([image],[0],None,[256],[0,256])\n",
    "\n",
    "    black_pixels = hist[0:175]\n",
    "    white_pixels = hist[175:256]\n",
    "    EqualizeFlag = False\n",
    "    # Calculate total pixels in black and white histograms\n",
    "    total_black_pixels = int(sum(black_pixels))\n",
    "    total_white_pixels = int(sum(white_pixels))\n",
    "\n",
    "\n",
    "    if total_black_pixels>total_white_pixels:\n",
    "        # Compute the difference\n",
    "        difference = total_black_pixels - total_white_pixels\n",
    "        if difference>980000:\n",
    "            EqualizeFlag = True\n",
    "    else:\n",
    "        difference = total_white_pixels - total_black_pixels\n",
    "        if difference>980000:\n",
    "            EqualizeFlag = True\n",
    "\n",
    "    print(\"Total black pixels:\", total_black_pixels)\n",
    "    print(\"Total white pixels:\", total_white_pixels)\n",
    "    print(\"Difference:\", difference)\n",
    "    return EqualizeFlag\n"
   ],
   "metadata": {
    "collapsed": false
   }
  },
  {
   "cell_type": "markdown",
   "source": [
    "# *PREPROCESSING*"
   ],
   "metadata": {
    "collapsed": false
   }
  },
  {
   "cell_type": "code",
   "execution_count": 124,
   "outputs": [
    {
     "name": "stdout",
     "output_type": "stream",
     "text": [
      "Detected sinusoidal noise frequencies:\n",
      "Frequency: 0,0 (in pixels)\n",
      "Total black pixels: 0\n",
      "Total white pixels: 1024144\n",
      "Difference: 1024144\n"
     ]
    },
    {
     "name": "stderr",
     "output_type": "stream",
     "text": [
      "C:\\Users\\HP\\AppData\\Local\\Temp\\ipykernel_13868\\605361542.py:8: DeprecationWarning: Conversion of an array with ndim > 0 to a scalar is deprecated, and will error in future. Ensure you extract a single element from your array before performing this operation. (Deprecated NumPy 1.25.)\n",
      "  total_black_pixels = int(sum(black_pixels))\n",
      "C:\\Users\\HP\\AppData\\Local\\Temp\\ipykernel_13868\\605361542.py:9: DeprecationWarning: Conversion of an array with ndim > 0 to a scalar is deprecated, and will error in future. Ensure you extract a single element from your array before performing this operation. (Deprecated NumPy 1.25.)\n",
      "  total_white_pixels = int(sum(white_pixels))\n"
     ]
    },
    {
     "data": {
      "text/plain": "(-0.5, 1011.5, 1011.5, -0.5)"
     },
     "execution_count": 124,
     "metadata": {},
     "output_type": "execute_result"
    },
    {
     "data": {
      "text/plain": "<Figure size 1000x1000 with 2 Axes>",
      "image/png": "[encoded data removed]"
     },
     "metadata": {},
     "output_type": "display_data"
    }
   ],
   "source": [
    "image = cv2.imread(img_address, cv2.IMREAD_GRAYSCALE)\n",
    "img = cv2.imread(img_address, cv2.IMREAD_GRAYSCALE)\n",
    "test_case = TEST_CASE\n",
    "\n",
    "# **************************************************************#\n",
    "# GENERIC PREPROCEESING\n",
    "\n",
    "# img = cv2.GaussianBlur(img, (5, 5), 1)  # makes image blur\n",
    "# img = cv2.Canny(img, 10, 50)  # makes image canny\n",
    "img = detect_and_remove_sin_noise(img) # check and remove sine waves\n",
    "\n",
    "EqualizeFlag = check_histogram_equalizer(img) #check if image need histogram_equalizer\n",
    "\n",
    "if EqualizeFlag == True:\n",
    "    img = histogram_equalizer(img)\n",
    "\n",
    "if RotateFlag:\n",
    "   img = cv2.rotate(image, cv2.ROTATE_180)\n",
    "\n",
    "# ******************************************************************************* #\n",
    "\n",
    "if test_case==1:\n",
    "    img = straighten_image(img)\n",
    "\n",
    "# ******************************************************************************* #\n",
    "\n",
    "elif test_case == 3: # 04-Black-mirror\n",
    "    img = flip_image(img)\n",
    "    _, threshold_image = cv2.threshold(img, 128, 255, cv2.THRESH_BINARY)\n",
    "    # img = get_contours(threshold_image)\n",
    "    img = invert_qr(threshold_image)\n",
    "# ******************************************************************************* #\n",
    "\n",
    "elif test_case == 5:\n",
    "    # Load the original image\n",
    "    edges_img = cv2.imread(img_address, cv2.IMREAD_GRAYSCALE)\n",
    "    # Apply Canny edge detection\n",
    "    edges_canny = cv2.Canny(image=edges_img, apertureSize=3, threshold1=120, threshold2=200, L2gradient=True)\n",
    "\n",
    "    # Define Hough Transform parameters using sliders\n",
    "    rho = 1\n",
    "    theta_rad = 0.0035\n",
    "    threshold = 118\n",
    "    minLineLength = 640\n",
    "    maxLineGap = 100\n",
    "\n",
    "    # Detect lines using Hough Transform\n",
    "    edges_hough_lines = cv2.HoughLinesP(edges_canny, rho, theta_rad, threshold, None, minLineLength, maxLineGap)\n",
    "\n",
    "    # Create an image to draw the detected lines\n",
    "    edges_hough = cv2.cvtColor((edges_img // 3) * 2, cv2.COLOR_GRAY2BGR)\n",
    "\n",
    "    # Draw the detected lines on a copy of the original image\n",
    "    image_with_lines = edges_img.copy()\n",
    "\n",
    "    # Draw the detected lines on the image\n",
    "    if edges_hough_lines is not None:\n",
    "        for line in edges_hough_lines:\n",
    "            x1, y1, x2, y2 = line[0]\n",
    "            cv2.line(image_with_lines, (x1, y1), (x2, y2), (0, 0, 255), 2)\n",
    "\n",
    "    img_gray_threshed = cv2.adaptiveThreshold(src=image_with_lines,\n",
    "            maxValue=255,\n",
    "            adaptiveMethod=cv2.ADAPTIVE_THRESH_GAUSSIAN_C,\n",
    "            thresholdType=cv2.THRESH_BINARY_INV,\n",
    "            blockSize=105,\n",
    "            C=1\n",
    "    )\n",
    "    heightImg=924\n",
    "    widthImg=924\n",
    "    imgContours=image_with_lines.copy()\n",
    "    imgBigContour=image_with_lines.copy()\n",
    "    contours, hierarchy, =cv2.findContours(img_gray_threshed,cv2.RETR_EXTERNAL,cv2.CHAIN_APPROX_SIMPLE)\n",
    "    cv2.drawContours(imgContours,contours,-1,(255,50,0),10)\n",
    "    biggest,maxArea=biggestContour(contours)\n",
    "    if biggest.size !=0:\n",
    "        biggest=reorder(biggest)\n",
    "        cv2.drawContours(imgBigContour,biggest,-1,(0,0,0),45)\n",
    "\n",
    "        pts1=np.float32(biggest)\n",
    "        pts2=np.float32([[0,0],[widthImg,0],[0,heightImg],[widthImg,heightImg]])\n",
    "        matrix=cv2.getPerspectiveTransform(pts1,pts2)\n",
    "        imgWrapedgrey=cv2.warpPerspective(edges_img,matrix,(widthImg,heightImg))\n",
    "        # imgDetectedDigits=imgBlank.copy()\n",
    "\n",
    "    padding_size = 44\n",
    "    # pad_width = 50\n",
    "    imgWrapedgrey_padded =    cv2.copyMakeBorder(imgWrapedgrey, padding_size, padding_size, padding_size, padding_size, cv2.BORDER_CONSTANT, value=255)\n",
    "        # imgWrapedColored=cv2.cvtColor(imgWarpColored,cv2.COLOR_BGR2GRAY)\n",
    "\n",
    "    img = imgWrapedgrey_padded\n",
    "# ******************************************************************************* #\n",
    "elif test_case == 6:\n",
    "    # img = adaptive_threshold(img,121,0.01)\n",
    "    _, img = cv2.threshold(img, 60, 255, cv2.THRESH_BINARY)\n",
    "\n",
    "\n",
    "# ******************************************************************************* #\n",
    "elif test_case == 7:\n",
    "    square_se = cv2.getStructuringElement(cv2.MORPH_RECT, (21, 21))\n",
    "    img = cv2.erode(img, square_se)\n",
    "    img = cv2.dilate(img, square_se)\n",
    "    img = cv2.dilate(img, square_se)\n",
    "    img = cv2.erode(img, square_se)\n",
    "    square_se = cv2.getStructuringElement(cv2.MORPH_RECT, (41, 41))\n",
    "    img = cv2.erode(img, square_se)\n",
    "    img = cv2.dilate(img, square_se)\n",
    "\n",
    "    show_histogram(img)\n",
    "    _, img = cv2.threshold(img, 220, 255, cv2.THRESH_BINARY)\n",
    "    # img = adaptive_threshold(img)\n",
    "\n",
    "    # img[mask_binary == 255] = image1[mask_binary == 255]\n",
    "\n",
    "# ******************************************************************************* #\n",
    "\n",
    "elif test_case == 8:\n",
    "\n",
    "    sharpeninig_kernel = np.array([[-3,-3,-3],[-3,27,-3],[-3,-3,-3]])\n",
    "    sharpened = cv2.filter2D(image,-1, sharpeninig_kernel)\n",
    "\n",
    "    img = binary_threshold(sharpened, 128)\n",
    "    square_se = cv2.getStructuringElement(cv2.MORPH_RECT, (13, 13))\n",
    "    img = cv2.erode(img, square_se)\n",
    "\n",
    "    shift_amount = 50  # Adjust this value as needed\n",
    "\n",
    "    shifted_image = np.ones_like(image) * 255  # Create a white canvas\n",
    "    shifted_image[:, shift_amount:] = image[:, :-shift_amount]  # Overlay the original image onto the canvas\n",
    "\n",
    "# ******************************************************************************* #\n",
    "\n",
    "elif test_case == 9:\n",
    "    img = constrast_stretching(img)\n",
    "    _, img = cv2.threshold(img, 220, 255, cv2.THRESH_BINARY)\n",
    "\n",
    "# ******************************************************************************* #\n",
    "\n",
    "elif test_case == 10:\n",
    "    # Detect and remove sinusoidal noise\n",
    "        # Convert to grayscale if needed\n",
    "\n",
    "    # image = cv2.medianBlur(image, 21)\n",
    "\n",
    "    if len(image.shape) > 2:\n",
    "        image = np.mean(image, axis=2)\n",
    "    img = detect_and_remove_sin_noise(image)\n",
    "    # img = detect_and_remove_sin_noise(img)\n",
    "\n",
    "    img = binary_threshold(img, 130)\n",
    "\n",
    "\n",
    "# ******************************************************************************* #\n",
    "\n",
    "elif test_case == 11:\n",
    "    # Apply Gaussian blur to reduce noise\n",
    "    median_img = median_filter(img,31)\n",
    "    _, img = cv2.threshold(median_img, 128, 255, cv2.THRESH_BINARY)\n",
    "    # square_se = cv2.getStructuringElement(cv2.MORPH_RECT, (3, 3))\n",
    "    # img = cv2.erode(img, square_se)\n",
    "    # img = img - (threshold_image- cv2.dilate(img, square_se))\n",
    "    # img = cv2.dilate(img, square_se)\n",
    "    # img = cv2.erode(img, square_se)\n",
    "    # _, img = cv2.threshold(img, 220, 255, cv2.THRESH_BINARY)\n",
    "    # Perform edge detection using Canny\n",
    "    # img = cv2.Canny(blurred, 50, 150)\n",
    "    # show_histogram(median_filtered)\n",
    "    # # creating a mask for the salt&pepper\n",
    "    # # mask = np.zeros_like(median_filtered)\n",
    "    # # mask[median_filtered < 5]   = 255\n",
    "    # # mask[median_filtered > 250] = 255\n",
    "    # # img = cv2.inpaint(median_filtered,mask,3,cv2.INPAINT_TELEA)\n",
    "    #\n",
    "    # img = try_highpass(dft_img, 20, gaussian=True, keep_dc=True)\n",
    "\n",
    "# ******************************************************************************* #\n",
    "\n",
    "elif test_case == 12:\n",
    "    # Apply binary thresholding to make it black and white\n",
    "    _, binary_image = cv2.threshold(img, 127, 255, cv2.THRESH_BINARY)\n",
    "\n",
    "    # Apply erosion to fill in missing parts and remove noise\n",
    "    kernel_size = 40  # Change the size of the kernel here\n",
    "    kernel = np.ones((kernel_size, kernel_size), np.uint8)\n",
    "    eroded_image = cv2.erode(binary_image, kernel, iterations=1)\n",
    "\n",
    "    # Apply dilation to refine the image and fill missing parts\n",
    "    dilation_kernel_size = 30  # Change the size of the dilation kernel here\n",
    "    dilation_kernel = np.ones((dilation_kernel_size, dilation_kernel_size), np.uint8)\n",
    "    img = cv2.dilate(eroded_image, dilation_kernel, iterations=1)\n",
    "\n",
    "\n",
    "# ******************************************************************************* #\n",
    "\n",
    "elif test_case == 13:\n",
    "    # Load the original image\n",
    "    edges_img = cv2.imread(img_address, cv2.IMREAD_GRAYSCALE)\n",
    "    # Apply Canny edge detection\n",
    "    edges_canny = cv2.Canny(image=edges_img, apertureSize=3, threshold1=650, threshold2=660, L2gradient=True)\n",
    "\n",
    "    # Define Hough Transform parameters using sliders\n",
    "    rho = 1               # @param {type:\"slider\", min:1, max:100, step:1}\n",
    "    theta_rad = 0.00119    # @param {type:\"slider\", min:0.00001, max:0.1, step:0.00001}\n",
    "    threshold = 25       # @param {type:\"slider\", min:0, max:400, step:1}\n",
    "    minLineLength = 71    # @param {type:\"slider\", min:0, max:800, step:1}\n",
    "    maxLineGap = 75\n",
    "\n",
    "    # Detect lines using Hough Transform\n",
    "    edges_hough_lines = cv2.HoughLinesP(edges_canny, rho, theta_rad, threshold, None, minLineLength, maxLineGap)\n",
    "\n",
    "    # Create an image to draw the detected lines\n",
    "    edges_hough = cv2.cvtColor((edges_img // 3) * 2, cv2.COLOR_GRAY2BGR)\n",
    "\n",
    "    # Draw the detected lines on a copy of the original image\n",
    "    image_with_lines = edges_img.copy()\n",
    "\n",
    "    # Draw the detected lines on the image\n",
    "    if edges_hough_lines is not None:\n",
    "        for line in edges_hough_lines:\n",
    "            x1, y1, x2, y2 = line[0]\n",
    "            cv2.line(image_with_lines, (x1, y1), (x2, y2), (0, 0, 255), 2)\n",
    "\n",
    "    img_gray_threshed = cv2.adaptiveThreshold(src=image_with_lines,\n",
    "            maxValue=255,\n",
    "            adaptiveMethod=cv2.ADAPTIVE_THRESH_GAUSSIAN_C,\n",
    "            thresholdType=cv2.THRESH_BINARY_INV,\n",
    "            blockSize=105,\n",
    "            C=1\n",
    "    )\n",
    "    heightImg=924\n",
    "    widthImg=924\n",
    "    imgContours=image_with_lines.copy()\n",
    "    imgBigContour=image_with_lines.copy()\n",
    "    contours, hierarchy, =cv2.findContours(img_gray_threshed,cv2.RETR_EXTERNAL,cv2.CHAIN_APPROX_SIMPLE)\n",
    "    cv2.drawContours(imgContours,contours,-1,(255,50,0),10)\n",
    "    biggest,maxArea=biggestContour(contours)\n",
    "    if biggest.size !=0:\n",
    "        biggest=reorder(biggest)\n",
    "        cv2.drawContours(imgBigContour,biggest,-1,(0,255,0),20)\n",
    "        if biggest.size != 0:\n",
    "            biggest[-1][0][0] += 2.5  # Add 20 pixels to x-coordinate of the last point\n",
    "            biggest[-1][0][1] += 5 # Add 20 pixels to y-coordinate of the last point\n",
    "\n",
    "        for point in biggest:\n",
    "            x, y = point[0]\n",
    "            # cv2.circle(imgContours, (x, y), 10, (0, 0, 255), -1)\n",
    "            print(f\"Corner Point: ({x}, {y})\")\n",
    "        pts1=np.float32(biggest)\n",
    "        pts2=np.float32([[0,0],[widthImg,0],[0,heightImg],[widthImg,heightImg]])\n",
    "        matrix=cv2.getPerspectiveTransform(pts1,pts2)\n",
    "        imgWrapedgrey=cv2.warpPerspective(edges_img,matrix,(widthImg,heightImg))\n",
    "        # imgDetectedDigits=imgBlank.copy()\n",
    "    imgWrapedgrey = binary_threshold(imgWrapedgrey, 129)\n",
    "    padding_size = 44\n",
    "    # pad_width = 50\n",
    "    imgWrapedgrey_padded =    cv2.copyMakeBorder(imgWrapedgrey, padding_size, padding_size, padding_size, padding_size, cv2.BORDER_CONSTANT, value=255)\n",
    "        # imgWrapedColored=cv2.cvtColor(imgWarpColored,cv2.COLOR_BGR2GRAY)\n",
    "\n",
    "    img = imgWrapedgrey_padded\n",
    "        # Get the size of the image\n",
    "    height, width = img.shape[:2]\n",
    "\n",
    "\n",
    "    # Print the size of the image\n",
    "    print(f\"Image Size: {width} x {height}\")\n",
    "\n",
    "# ******************************************************************************* #\n",
    "\n",
    "elif test_case == 14:\n",
    "    img = binary_threshold(img, 70)\n",
    "\n",
    "fig, axes = plt.subplots(1, 2, figsize=(10, 10))\n",
    "\n",
    "# Plot the original image\n",
    "axes[0].imshow(image, cmap='gray')\n",
    "axes[0].set_title('Original Image')\n",
    "axes[0].axis('off')\n",
    "axes[1].imshow(img, cmap = 'gray')\n",
    "axes[1].set_title('Filtered image')\n",
    "axes[1].axis('off')"
   ],
   "metadata": {
    "collapsed": false
   }
  },
  {
   "cell_type": "markdown",
   "source": [
    "## Use quiet zone to detect code area\n",
    "Simply go through white rows and columns until you find the first black pixel from the left, from the right, from the top, and from the bottom."
   ],
   "metadata": {
    "collapsed": false
   }
  },
  {
   "cell_type": "code",
   "execution_count": 125,
   "outputs": [
    {
     "name": "stdout",
     "output_type": "stream",
     "text": [
      "start row:  72 , end row:  933 , start col:  72 , end col:  933\n"
     ]
    }
   ],
   "source": [
    "start_row = -1\n",
    "start_col = -1\n",
    "end_row = -1\n",
    "end_col = -1\n",
    "\n",
    "for row_index, row in enumerate(img):\n",
    "    non_white_count = 0\n",
    "    # Checking the current row and the 10 rows below it\n",
    "    for i in range(row_index, min(row_index + 20, img.shape[0])):\n",
    "        if not all(pixel == 255 for pixel in img[i]):\n",
    "            non_white_count += 1\n",
    "            if non_white_count >= 20:\n",
    "                start_row = row_index\n",
    "                break\n",
    "    if start_row != -1:\n",
    "        break\n",
    "\n",
    "for row_index, row in enumerate(img[::-1]):\n",
    "    non_white_count = 0\n",
    "    # Checking the current row and the 10 rows below it\n",
    "    for i in range(row_index, min(row_index + 20, img.shape[0])):\n",
    "        if not all(pixel == 255 for pixel in img[i]):\n",
    "            non_white_count += 1\n",
    "            if non_white_count >= 20:\n",
    "                end_row = img.shape[0] - row_index\n",
    "                break\n",
    "    if end_row != -1:\n",
    "        break\n",
    "\n",
    "for col_index, col in enumerate(cv2.transpose(img)):\n",
    "    non_white_count = 0\n",
    "    # Checking the current row and the 10 rows below it\n",
    "    for i in range(col_index, min(col_index + 20, img.shape[0])):\n",
    "        if not all(pixel == 255 for pixel in img[i]):\n",
    "            non_white_count += 1\n",
    "            if non_white_count >= 20:\n",
    "                start_col = col_index\n",
    "                break\n",
    "    if start_col != -1:\n",
    "        break\n",
    "\n",
    "for col_index, col in enumerate(cv2.transpose(img)[::-1]):\n",
    "    non_white_count = 0\n",
    "    # Checking the current row and the 10 rows below it\n",
    "    for i in range(col_index, min(col_index + 20, img.shape[0])):\n",
    "        if not all(pixel == 255 for pixel in img[i]):\n",
    "            non_white_count += 1\n",
    "            if non_white_count >= 20:\n",
    "                end_col = img.shape[1] - col_index\n",
    "                break\n",
    "    if end_col != -1:\n",
    "        break\n",
    "#\n",
    "start_row = start_col = max(start_row, start_col)\n",
    "end_row = end_col = max(end_col,end_row)\n",
    "\n",
    "# if start_row >= 44*0.2: # allow 80% difference due to noise pixels\n",
    "#     start_row  = 44\n",
    "#\n",
    "# if start_col >= 44*0.2: # allow 80% difference due to noise pixels\n",
    "#     start_col  = 44\n",
    "#\n",
    "# if end_row >= 968*0.2: # allow 80% difference due to noise pixels\n",
    "#     end_row  = 968\n",
    "#\n",
    "# if end_col >= 968*0.2:# allow 80% difference due to noise pixels\n",
    "#     end_col  = 968\n",
    "# start_row = start_col = 44\n",
    "# Ensure that end_col - start_col is a multiple of 21\n",
    "while (end_col - start_col) % 21 != 0:\n",
    "    end_col -= 1\n",
    "\n",
    "while (end_row - start_row) % 21 != 0:\n",
    "    end_row -= 1\n",
    "\n",
    "# end_row = end_col\n",
    "\n",
    "# end_row = end_col = 968\n",
    "print(\"start row: \", start_row, \", end row: \", end_row, \", start col: \", start_col, \", end col: \", end_col)\n",
    "#get_qr_without_quiet_zone(img, start_row, end_row, start_col, end_col)"
   ],
   "metadata": {
    "collapsed": false
   }
  },
  {
   "cell_type": "code",
   "execution_count": 126,
   "outputs": [
    {
     "data": {
      "text/plain": "<matplotlib.image.AxesImage at 0x1bd5de7a970>"
     },
     "execution_count": 126,
     "metadata": {},
     "output_type": "execute_result"
    },
    {
     "data": {
      "text/plain": "<Figure size 500x500 with 1 Axes>",
      "image/png": "[encoded data removed]"
     },
     "metadata": {},
     "output_type": "display_data"
    }
   ],
   "source": [
    "qr_no_quiet_zone = img[start_row:end_row, start_col:end_col]\n",
    "fig = plt.figure(figsize=(5, 5))\n",
    "plt.xticks([], [])\n",
    "plt.yticks([], [])\n",
    "fig.get_axes()[0].spines[:].set_color('red')\n",
    "fig.get_axes()[0].spines[:].set_linewidth(40)\n",
    "fig.get_axes()[0].spines[:].set_position((\"outward\", 20))\n",
    "plt.title('QR code without quiet zone', y=1.15, color='red')\n",
    "plt.imshow(qr_no_quiet_zone, cmap='gray')\n",
    "#determine_grid_size(qr_no_quiet_zone)"
   ],
   "metadata": {
    "collapsed": false
   }
  },
  {
   "cell_type": "markdown",
   "source": [
    "## Use locator boxes to determine grid size\n",
    "Since we know that the topleft pixel should be the border of the locator box, and that its size should be 7×7, we can determine the grid cell size by dividing its size in pixels by 7. How to get its size? It is a constant black row of pixels followed by one white cell. A simple for loop can get it done."
   ],
   "metadata": {
    "collapsed": false
   }
  },
  {
   "cell_type": "code",
   "execution_count": 127,
   "outputs": [
    {
     "name": "stdout",
     "output_type": "stream",
     "text": [
      "Grid cell size:  41\n",
      "QR code shape: (861, 861)\n",
      "Shape of qr_cells: (21, 21, 41, 41)\n"
     ]
    },
    {
     "data": {
      "text/plain": "<Figure size 500x500 with 441 Axes>",
      "image/png": "[encoded data removed]"
     },
     "metadata": {},
     "output_type": "display_data"
    }
   ],
   "source": [
    "try:\n",
    "# Initialize a list to store the counts of non-zero pixels at each position\n",
    "    pixel_counts = [0] * len(qr_no_quiet_zone[0])\n",
    "\n",
    "    # # Iterate over the first 10 rows\n",
    "    for row in qr_no_quiet_zone[:10]:\n",
    "        for i, pixel in enumerate(row):\n",
    "            # Check if the pixel is non-zero\n",
    "            if (pixel != 0).any():\n",
    "                # Increment the count for this position\n",
    "                pixel_counts[i] += 1\n",
    "    #\n",
    "    # # Find the position with the maximum count\n",
    "    # most_common_position = np.argmax(pixel_counts)\n",
    "    #\n",
    "    # Calculate the size based on the most common position\n",
    "    # size = most_common_position\n",
    "    # print(size)\n",
    "    # # If the size is larger than 30% of 308, set it to 308\n",
    "    # if size >= 308 * 0.3:\n",
    "    #     size = 308\n",
    "    #\n",
    "    # # Calculate the grid cell size\n",
    "    # grid_cell_size = round(size / 7)\n",
    "    #\n",
    "    # # grid_cell_size = 44\n",
    "    # if start_col == 44 and end_col == 968 and grid_cell_size == 0:\n",
    "      # grid_cell_size = 44\n",
    "    grid_cells_num = 21\n",
    "    qr_height = qr_no_quiet_zone.shape[0]\n",
    "    grid_cell_size = int(math.sqrt(int(qr_height ** 2) / (grid_cells_num ** 2)))\n",
    "    print(\"Grid cell size: \", grid_cell_size)\n",
    "    # if grid_cell_size != 0:\n",
    "    #     grid_cells_num = round(qr_no_quiet_zone.shape[0] / grid_cell_size)\n",
    "    # else:\n",
    "    #     grid_cells_num = 21\n",
    "    #     print(\"Incorrect QR code detected\")\n",
    "\n",
    "    print(\"QR code shape:\", qr_no_quiet_zone.shape)\n",
    "\n",
    "    # Reshape the image into grid cells\n",
    "    qr_cells = qr_no_quiet_zone.reshape((grid_cells_num, grid_cell_size, grid_cells_num, grid_cell_size)).swapaxes(1, 2)\n",
    "\n",
    "    print(\"Shape of qr_cells:\", qr_cells.shape)\n",
    "    for i in range(14, 21):\n",
    "        for j in range(6, 8):\n",
    "            if j == 6:\n",
    "                qr_cells[i, j] = 0\n",
    "            else:\n",
    "                qr_cells[i, j] = 255\n",
    "    # Reshape the modified grid cells back into a flat array\n",
    "    qr_modified_flat = qr_cells.swapaxes(1, 2).reshape(-1, grid_cell_size, grid_cell_size)\n",
    "    # Fill each grid cell with the majority color\n",
    "    for i in range(grid_cells_num):\n",
    "        for j in range(grid_cells_num):\n",
    "            cell = qr_cells[i][j]\n",
    "            black_pixels = np.sum(cell == 0)\n",
    "            white_pixels = np.sum(cell == 255)\n",
    "            if black_pixels > white_pixels:\n",
    "                qr_cells[i][j] = np.zeros_like(cell)\n",
    "            else:\n",
    "                qr_cells[i][j] = np.ones_like(cell) * 255\n",
    "\n",
    "    # Plot the modified grid cells\n",
    "    _, axes = plt.subplots(grid_cells_num, grid_cells_num, figsize=(5, 5))\n",
    "    for i, row in enumerate(axes):\n",
    "        for j, col in enumerate(row):\n",
    "            col.imshow(qr_cells[i][j], cmap=\"gray\", vmin=0, vmax=255)\n",
    "            col.get_xaxis().set_visible(False)\n",
    "            col.get_yaxis().set_visible(False)\n",
    "            col.spines[:].set_color('red')\n",
    "\n",
    "    # You can perform further processing or analysis here\n",
    "\n",
    "except Exception as e:\n",
    "    grid_cell_size = 44\n",
    "    print(\"Error:\", e)"
   ],
   "metadata": {
    "collapsed": false
   }
  },
  {
   "cell_type": "markdown",
   "source": [
    "## Convert grid tiles to numeric values"
   ],
   "metadata": {
    "collapsed": false
   }
  },
  {
   "cell_type": "code",
   "execution_count": 128,
   "outputs": [
    {
     "name": "stdout",
     "output_type": "stream",
     "text": [
      "[[1 1 1 1 1 1 1 1 1 1 1 1 1 1 1 1 1 1 1 1 1]\n",
      " [1 1 1 1 1 1 1 1 1 1 1 1 1 1 0 1 1 0 0 1 1]\n",
      " [1 1 1 1 1 1 1 1 1 1 1 0 0 1 0 1 0 0 0 0 1]\n",
      " [1 1 1 1 1 1 0 1 1 1 1 0 1 1 0 1 0 0 0 0 1]\n",
      " [1 1 1 0 1 1 0 1 0 0 0 0 1 1 0 1 1 0 0 1 1]\n",
      " [1 1 1 1 1 0 0 1 0 0 1 0 1 1 0 0 1 1 1 1 1]\n",
      " [0 0 0 0 0 0 0 1 0 1 0 1 0 1 0 0 0 0 0 0 0]\n",
      " [1 1 1 1 1 1 1 1 0 1 1 1 0 1 1 1 1 1 1 1 1]\n",
      " [0 0 0 1 1 0 0 1 0 1 0 1 1 0 0 0 0 0 1 1 0]\n",
      " [0 0 1 1 1 1 1 0 1 0 1 1 0 1 0 1 0 0 0 0 1]\n",
      " [0 0 1 1 0 1 0 0 0 1 0 1 0 0 0 1 0 0 1 1 1]\n",
      " [1 1 1 1 0 0 1 0 1 1 1 0 1 0 1 1 1 1 0 1 0]\n",
      " [0 0 0 0 1 1 0 1 1 0 1 0 1 1 0 1 1 0 0 1 1]\n",
      " [1 1 1 1 1 1 1 1 0 1 0 1 0 0 1 0 0 0 0 0 1]\n",
      " [0 0 0 0 0 0 0 1 1 0 1 1 0 0 0 0 0 0 0 1 1]\n",
      " [0 1 1 1 1 0 0 1 0 0 0 0 0 0 0 0 0 0 0 1 0]\n",
      " [1 1 0 0 1 1 0 1 0 0 0 0 0 0 1 0 0 1 0 1 0]\n",
      " [1 0 0 0 0 1 0 1 1 1 0 1 0 0 0 0 0 0 0 1 1]\n",
      " [1 0 0 0 0 1 0 1 1 0 1 0 0 1 0 1 0 0 0 1 1]\n",
      " [1 1 0 0 1 1 0 1 0 0 0 1 0 0 0 1 0 0 1 0 0]\n",
      " [0 1 1 1 1 1 0 1 0 0 1 0 1 0 1 1 0 0 0 1 1]]\n"
     ]
    }
   ],
   "source": [
    "qr_cells_numeric = np.ndarray((grid_cells_num, grid_cells_num), dtype=np.uint8)\n",
    "for i, row in enumerate(qr_cells):\n",
    "    for j, cell in enumerate(row):\n",
    "        qr_cells_numeric[i, j] = (np.median(cell) // 255)\n",
    "print(qr_cells_numeric)\n",
    "plt.show()"
   ],
   "metadata": {
    "collapsed": false
   }
  },
  {
   "cell_type": "markdown",
   "source": [],
   "metadata": {
    "collapsed": false
   }
  },
  {
   "cell_type": "markdown",
   "source": [
    "## Information extraction\n",
    "\n",
    "![Alt text](https://upload.wikimedia.org/wikipedia/commons/thumb/3/3b/QR_Format_Information.svg/640px-QR_Format_Information.svg.png \"a title\")\n"
   ],
   "metadata": {
    "collapsed": false
   }
  },
  {
   "cell_type": "markdown",
   "source": [
    "### Error correction level"
   ],
   "metadata": {
    "collapsed": false
   }
  },
  {
   "cell_type": "code",
   "execution_count": 129,
   "outputs": [
    {
     "name": "stdout",
     "output_type": "stream",
     "text": [
      "[0 0 0 1 1 0 0 1 0 1 0 1 1 0 0 0 0 0 1 1 0]\n"
     ]
    }
   ],
   "source": [
    "print(qr_cells_numeric[8])"
   ],
   "metadata": {
    "collapsed": false
   }
  },
  {
   "cell_type": "markdown",
   "source": [
    "The first two bits of formatting information give the error correction level used for the message data. A QR symbol this size contains 26 bytes of information. Some of these are used to store the message and some are used for error correction, as shown in the table below. The left-hand column is simply a name given to that level.\n",
    "\n",
    "Error Correction Level\t| Level Indicator |\tError Correction Bytes |Message Data Bytes\n",
    "            L\t        |       01\t      |            7\t       |      19\n",
    "            M\t        |       00\t      |            10\t       |      16\n",
    "            Q\t        |       11\t      |            13\t       |      13\n",
    "            H\t        |       10\t      |            17\t       |      9\n"
   ],
   "metadata": {
    "collapsed": false
   }
  },
  {
   "cell_type": "code",
   "execution_count": 130,
   "outputs": [
    {
     "name": "stdout",
     "output_type": "stream",
     "text": [
      "ECL1: [1, 1]\n",
      "ECL: [1, 1]\n",
      "ECL correct: [1, 1]\n",
      "level: Quartile\n"
     ]
    }
   ],
   "source": [
    "\n",
    "#FOR REED SOLOMON WE WILL CHANGE THESE\n",
    "# The first two bits determine the error correction level\n",
    "# Level L (Low)         [01]\t7%  of data bytes can be restored.\n",
    "# Level M (Medium)      [00]\t15% of data bytes can be restored.\n",
    "# Level Q (Quartile)    [11]\t25% of data bytes can be restored.\n",
    "# Level H (High)        [10]\t30% of data bytes can be restored.\n",
    "\n",
    "error_correction_byes = 0\n",
    "message_data_bytes = 0\n",
    "\n",
    "ecl1 = []\n",
    "for i in range(19, 21):\n",
    "    ecl1.append(int(not qr_cells_numeric[i, 8]))\n",
    "print(\"ECL1:\", ecl1)\n",
    "ecl = [int(not (c)) for c in qr_cells_numeric[8, 0:2]]\n",
    "print(\"ECL:\", ecl)\n",
    "\n",
    "if ecl1 == ecl:\n",
    "    print(\"ECL correct:\", ecl)\n",
    "else:\n",
    "    ecl = max(ecl, ecl1)\n",
    "    print(\"Chosen Error Correction Level:\", ecl)\n",
    "\n",
    "if ecl == [1, 0]:\n",
    "    print(\"level: High\")\n",
    "    error_level = 'H'\n",
    "    error_correction_byes = 17\n",
    "    message_data_bytes = 9\n",
    "\n",
    "elif ecl == [1, 1]:\n",
    "    print(\"level: Quartile\")\n",
    "    error_level = 'Q'\n",
    "    error_correction_byes = 13\n",
    "    message_data_bytes = 13\n",
    "\n",
    "elif ecl == [0, 0]:\n",
    "    print(\"level: Medium\")\n",
    "    error_level = 'M'\n",
    "    error_correction_byes = 10\n",
    "    message_data_bytes = 16\n",
    "\n",
    "elif ecl == [0, 1]:\n",
    "    print(\"level: Low\")\n",
    "    error_level = 'L'\n",
    "    error_correction_byes = 7\n",
    "    message_data_bytes = 19\n",
    "\n",
    "# mask_pattern(qr_cells_numeric)"
   ],
   "metadata": {
    "collapsed": false
   }
  },
  {
   "cell_type": "code",
   "execution_count": 131,
   "outputs": [],
   "source": [
    "# #This is ISO STANDART THINGS\n",
    "# # The first two bits determine the error correction level\n",
    "# # Level L (Low)         [11]\t7%  of data bytes can be restored.\n",
    "# # Level M (Medium)      [10]\t15% of data bytes can be restored.\n",
    "# # Level Q (Quartile)    [01]\t25% of data bytes can be restored.\n",
    "# # Level H (High)        [00]\t30% of data bytes can be restored.\n",
    "#\n",
    "#\n",
    "# if ecl == [0, 0]:\n",
    "#     print(\"level: High\")\n",
    "#     error_level = 'H'\n",
    "#     error_correction_byes =\n",
    "#\n",
    "# elif ecl == [0, 1]:\n",
    "#     print(\"level: Quartile\")\n",
    "#     error_level = 'Q'\n",
    "#\n",
    "# elif ecl == [1, 0]:\n",
    "#     print(\"level: Medium\")\n",
    "#     error_level = 'M'\n",
    "#\n",
    "# elif(ecl == [1,1]):\n",
    "#     print(\"level: Low\")\n",
    "#     error_level = 'L'"
   ],
   "metadata": {
    "collapsed": false
   }
  },
  {
   "cell_type": "markdown",
   "source": [
    "### Mask pattern"
   ],
   "metadata": {
    "collapsed": false
   }
  },
  {
   "cell_type": "code",
   "execution_count": 132,
   "outputs": [],
   "source": [
    "#THESE ARE THE ISO OLD MASKS\n",
    "# # Dictionary of all masks and their equivalent formulae\n",
    "# MASKS = {\n",
    "#     \"000\": lambda i, j: (i * j) % 2 + (i * j) % 3 == 0,\n",
    "#     \"001\": lambda i, j: (i / 2 + j / 3) % 2 == 0,\n",
    "#     \"010\": lambda i, j: ((i * j) % 3 + i + j) % 2 == 0,\n",
    "#     \"011\": lambda i, j: ((i * j) % 3 + i * j) % 2 == 0,\n",
    "#     \"100\": lambda i, j: i % 2 == 0,\n",
    "#     \"101\": lambda i, j: (i + j) % 2 == 0,\n",
    "#     \"110\": lambda i, j: (i + j) % 3 == 0,\n",
    "#     \"111\": lambda i, j: j % 3 == 0,\n",
    "# }\n"
   ],
   "metadata": {
    "collapsed": false
   }
  },
  {
   "cell_type": "code",
   "execution_count": 133,
   "outputs": [
    {
     "name": "stdout",
     "output_type": "stream",
     "text": [
      "Mask 1: 100\n",
      "Mask 2: 100\n",
      "Masks are the same\n",
      "Chosen mask: 100\n"
     ]
    }
   ],
   "source": [
    "# Dictionary of all masks and their equivalent formulae\n",
    "#WE WILL NOW USE THE REED-SOLOMON TYPE MASKS!\n",
    "# MASKS = {\n",
    "#     \"101\": lambda i, j: (i * j) % 2 + (i * j) % 3 == 0,\n",
    "#     \"100\": lambda i, j: (i / 2 + j / 3) % 2 == 0,\n",
    "#     \"111\": lambda i, j: ((i * j) % 3 + i + j) % 2 == 0,\n",
    "#     \"110\": lambda i, j: ((i * j) % 3 + i * j) % 2 == 0,\n",
    "#     \"001\": lambda i, j: i % 2 == 0,\n",
    "#     \"000\": lambda i, j: (i + j) % 2 == 0,\n",
    "#     \"011\": lambda i, j: (i + j) % 3 == 0,\n",
    "#     \"010\": lambda i, j: j % 3 == 0,\n",
    "# }\n",
    "MASKS = {\n",
    "    \"000\": lambda i, j: (i * j) % 2 + (i * j) % 3 == 0,\n",
    "    \"001\": lambda i, j: (i / 2 + j / 3) % 2 == 0,\n",
    "    \"010\": lambda i, j: ((i * j) % 3 + i + j) % 2 == 0,\n",
    "    \"011\": lambda i, j: ((i * j) % 3 + i * j) % 2 == 0,\n",
    "    \"100\": lambda i, j: i % 2 == 0,\n",
    "    \"101\": lambda i, j: (i + j) % 2 == 0,\n",
    "    \"110\": lambda i, j: (i + j) % 3 == 0,\n",
    "    \"111\": lambda i, j: j % 3 == 0,\n",
    "}\n",
    "\n",
    "\n",
    "# Same row as above, the three cells after the ecl cells (converted to a string)\n",
    "mask = [int(not (c)) for c in qr_cells_numeric[8, 2:5]]\n",
    "mask_str = ''.join([str(c) for c in mask])\n",
    "print(\"Mask 1:\", mask_str)\n",
    "\n",
    "# Mask from qr_cells_numeric[16:19, 2]\n",
    "mask2 = [int(not (c)) for c in qr_cells_numeric[16:19, 2]]\n",
    "mask_str2 = ''.join([str(c) for c in mask])\n",
    "print(\"Mask 2:\", mask_str2)\n",
    "\n",
    "# Compare masks\n",
    "if mask_str == mask_str2:\n",
    "    print(\"Masks are the same\")\n",
    "else:\n",
    "    print(\"Masks are different\")\n",
    "\n",
    "# Choose the maximum mask value\n",
    "mask_str = max(mask_str, mask_str2)\n",
    "print(\"Chosen mask:\", mask_str)\n",
    "\n",
    "\n",
    "# print(\"mask is: \", mask_str)\n",
    "# format_error_correction(qr_cells_numeric)\n",
    "# plt.show()"
   ],
   "metadata": {
    "collapsed": false
   }
  },
  {
   "cell_type": "markdown",
   "source": [
    "### Format error correction"
   ],
   "metadata": {
    "collapsed": false
   }
  },
  {
   "cell_type": "code",
   "execution_count": 134,
   "outputs": [
    {
     "name": "stdout",
     "output_type": "stream",
     "text": [
      "[1, 0, 0, 0, 0, 0, 1, 1, 1, 1]\n",
      "FEC from another location: [1, 0, 1, 0, 0, 1, 1, 1, 1, 1]\n",
      "FECs are different\n"
     ]
    }
   ],
   "source": [
    "# Same row as above, but we want cells #5 and #7 (#6 is always set to 0),\n",
    "#  followed by column #8 from cell #0 in it to cell #7 (and skipping #6)\n",
    "fec = []\n",
    "fec.append(qr_cells_numeric[8, 5])\n",
    "fec.append(qr_cells_numeric[8, 7])\n",
    "fec.extend(qr_cells_numeric[0:6, 8])\n",
    "fec.extend(qr_cells_numeric[7:9, 8])\n",
    "fec = [int(not (c)) for c in fec]\n",
    "print(fec)\n",
    "# FEC from another location\n",
    "fec2 = []\n",
    "fec2.append(qr_cells_numeric[15, 8])\n",
    "fec2.append(qr_cells_numeric[14, 8])\n",
    "fec2.extend(qr_cells_numeric[8, 13:21][::-1])\n",
    "fec2 = [int(not (c)) for c in fec2]\n",
    "print(\"FEC from another location:\", fec2)\n",
    "\n",
    "# Compare FECs\n",
    "if fec == fec2:\n",
    "    print(\"FECs are the same\")\n",
    "else:\n",
    "    print(\"FECs are different\")\n",
    "\n",
    "# Choose the maximum FEC value\n",
    "# fec = max(fec, fec2)\n",
    "# print(\"Chosen FEC:\", fec)\n",
    "\n",
    "# print(fec)"
   ],
   "metadata": {
    "collapsed": false
   }
  },
  {
   "cell_type": "code",
   "execution_count": 135,
   "outputs": [
    {
     "name": "stdout",
     "output_type": "stream",
     "text": [
      "[1, 1] [1, 0, 0] [1, 0, 0, 0, 0, 0, 1, 1, 1, 1]\n"
     ]
    }
   ],
   "source": [
    "# So in total we have the following 15 bits of format info from our QR code\n",
    "print(ecl, mask, fec)"
   ],
   "metadata": {
    "collapsed": false
   }
  },
  {
   "cell_type": "code",
   "execution_count": 136,
   "outputs": [
    {
     "data": {
      "text/plain": "<Figure size 500x500 with 441 Axes>",
      "image/png": "[encoded data removed]"
     },
     "metadata": {},
     "output_type": "display_data"
    }
   ],
   "source": [
    "\n",
    "# Let's cross-check with our example\n",
    "_, axes = plt.subplots(grid_cells_num, grid_cells_num, figsize=(5, 5))\n",
    "for i, row in enumerate(axes):\n",
    "    for j, col in enumerate(row):\n",
    "\n",
    "        col.get_xaxis().set_visible(False)\n",
    "        col.get_yaxis().set_visible(False)\n",
    "        if (i == 8 and j <= 8) or (i <= 8 and j == 8):\n",
    "            if (i != 6) and (j != 6):\n",
    "                col.imshow(qr_cells[i][j], cmap=\"gray\", vmin=0, vmax=255)\n",
    "                col.spines[:].set_color('red')\n",
    "                continue\n",
    "        col.imshow(qr_cells[i][j], cmap=\"gray\", vmin=-1275, vmax=510)\n",
    "    # print(ecl, mask, fec)"
   ],
   "metadata": {
    "collapsed": false
   }
  },
  {
   "cell_type": "markdown",
   "source": [
    "The masking transformation is easily applied (or removed) using the exclusive-or operation (denoted by a caret ^ in many programming languages). The unmasking of the format information is shown below. Reading counter-clockwise around the upper-left locator pattern, we have the following sequence of bits. White modules represent 0 and black modules represent 1.\n",
    "\n",
    "Input       101101101001011\n",
    "Mask      ^ 101010000010010\n",
    "Output      000111101011001"
   ],
   "metadata": {
    "collapsed": false
   }
  },
  {
   "cell_type": "code",
   "execution_count": 137,
   "outputs": [
    {
     "name": "stdout",
     "output_type": "stream",
     "text": [
      "[0, 1] [0, 0, 1] [1, 0, 0, 0, 0, 1, 1, 1, 0, 1]\n"
     ]
    }
   ],
   "source": [
    "# However..... You need to XOR that with the \"format mask\": 101010000010010\n",
    "ecl[0] ^= 1\n",
    "mask[0] ^= 1\n",
    "mask[2] ^= 1\n",
    "fec[5] ^= 1\n",
    "fec[8] ^= 1\n",
    "\n",
    "# And now we print...\n",
    "print(ecl, mask, fec)\n",
    "\n"
   ],
   "metadata": {
    "collapsed": false
   }
  },
  {
   "cell_type": "markdown",
   "source": [],
   "metadata": {
    "collapsed": false
   }
  },
  {
   "cell_type": "markdown",
   "source": [
    "Data extraction\n",
    "Message placement within a Ver 1 QR symbol (21×21).\n",
    "![Alt text](https://upload.wikimedia.org/wikipedia/commons/thumb/2/21/QR_Character_Placement.svg/640px-QR_Character_Placement.svg.png \"a title\")\n",
    "Message placement within a Ver 1 QR symbol (21×21). Example from wikipedia, encoded QR message is www.wikipedia.org"
   ],
   "metadata": {
    "collapsed": false
   }
  },
  {
   "cell_type": "markdown",
   "source": [
    "## Data extraction\n"
   ],
   "metadata": {
    "collapsed": false
   }
  },
  {
   "cell_type": "code",
   "execution_count": 138,
   "outputs": [],
   "source": [
    "# Before we proceed, let's write a function for masking to make our lives easier\n",
    "UP, UP_ENC, DOWN, CW, CCW = range(5)  # A rather old-fashioned pythonic \"Enum\"\n",
    "\n",
    "def apply_mask(data_start_i, data_start_j, direction):\n",
    "    '''\n",
    "    data_start_i/j represent the first cell's coords in its respective direction\n",
    "    direction is the masking direction, up(-enc)/down/clockwise/anti-clockwise\n",
    "    '''\n",
    "    result = []\n",
    "    row_offsets = []\n",
    "    col_offsets = []\n",
    "    if direction in [UP, UP_ENC]:\n",
    "        row_offsets = [0,  0, -1, -1, -2, -2, -3, -3 ]\n",
    "        col_offsets = [0, -1,  0, -1,  0, -1,  0, -1 ]\n",
    "    if direction == DOWN:\n",
    "        row_offsets = [0,  0,  1,  1,  2,  2,  3,  3]\n",
    "        col_offsets = [0, -1,  0, -1,  0, -1,  0, -1]\n",
    "    if direction == CW:\n",
    "        row_offsets = [0,  0,  1,  1,  1,  1,  0,  0]\n",
    "        col_offsets = [0, -1,  0, -1, -2, -3, -2, -3]\n",
    "    if direction == CCW:\n",
    "        row_offsets = [0,  0, -1, -1, -1, -1,  0,  0]\n",
    "        col_offsets = [0, -1,  0, -1, -2, -3, -2, -3]\n",
    "\n",
    "    for i, j in zip(row_offsets, col_offsets):\n",
    "        cell = qr_cells_numeric[data_start_i+i, data_start_j+j]\n",
    "        result.append(int(cell if MASKS[mask_str](data_start_i+i, data_start_j+j) else not cell))\n",
    "    # print(\"result: \", result)\n",
    "    return result[:4] if direction == UP_ENC else result"
   ],
   "metadata": {
    "collapsed": false
   }
  },
  {
   "cell_type": "markdown",
   "source": [
    "### Data encoding"
   ],
   "metadata": {
    "collapsed": false
   }
  },
  {
   "cell_type": "code",
   "execution_count": 139,
   "outputs": [
    {
     "name": "stdout",
     "output_type": "stream",
     "text": [
      "[1, 1, 1, 1]\n"
     ]
    }
   ],
   "source": [
    "enc = apply_mask(grid_cells_num-1, grid_cells_num-1, UP_ENC)\n",
    "# grid_cells_num = 21 - 1 -> [20, 20]\n",
    "print(enc)\n",
    "\n",
    "length_bits = 0\n",
    "mode = ''\n",
    "\n",
    "if enc == [0,0,0,1]:\n",
    "    print(\"Mode name: Numeric\")\n",
    "    print(\"Data bits: 10 bits per 3 digits\")\n",
    "    length_bits = 10\n",
    "    mode = \"numeric\"\n",
    "\n",
    "elif enc == [0,0,1,0]:\n",
    "    print(\"Mode name: Alphanumeric\")\n",
    "    print(\"Data bits: 11 bits per 2 characters\")\n",
    "    length_bits = 9\n",
    "    mode = \"alphanumeric\"\n",
    "\n",
    "\n",
    "elif enc == [0,1,0,0]:\n",
    "    print(\"Mode name: Byte\")\n",
    "    print(\"Data bits: 8 bits per character\")\n",
    "    length_bits = 8\n",
    "    mode = \"byte\"\n",
    "\n",
    "\n",
    "elif enc == [1,0,0,0]:\n",
    "    print(\"Mode name: Kanji\")\n",
    "    print(\"Data bits: 13 bits per character\")\n",
    "    length_bits = 8\n",
    "    mode = \"kanji\"\n",
    "\n"
   ],
   "metadata": {
    "collapsed": false
   }
  },
  {
   "cell_type": "markdown",
   "source": [
    "### Data length"
   ],
   "metadata": {
    "collapsed": false
   }
  },
  {
   "cell_type": "code",
   "execution_count": 140,
   "outputs": [
    {
     "name": "stdout",
     "output_type": "stream",
     "text": [
      "[1, 1, 0, 0, 0, 1, 1, 0]\n",
      "length bits:  8\n",
      "198\n"
     ]
    }
   ],
   "source": [
    "length = apply_mask(grid_cells_num-3, grid_cells_num-1, UP)\n",
    "# grid_Cells_num = 21 - 3 = 18, grid_cell_nums = 21-1 = 20\n",
    "print(length)\n",
    "# print(length)\n",
    "print(\"length bits: \", len(length))\n",
    "if length_bits == len(length):\n",
    "    print(\"True length obtained.\")\n",
    "\n",
    "decimal_value = 0\n",
    "power = len(length) - 1\n",
    "for digit in length:\n",
    "    decimal_value += digit * (2 ** power)\n",
    "    power -= 1\n",
    "\n",
    "print(decimal_value)"
   ],
   "metadata": {
    "collapsed": false
   }
  },
  {
   "cell_type": "markdown",
   "source": [
    "### Data extraction"
   ],
   "metadata": {
    "collapsed": false
   }
  },
  {
   "cell_type": "code",
   "execution_count": 141,
   "outputs": [
    {
     "name": "stdout",
     "output_type": "stream",
     "text": [
      "21\n",
      "11011110 (=222) = Þ\n",
      "11011110 (=222) = Þ\n",
      "10001100 (=140) = \n",
      "11011100 (=220) = Ü\n",
      "01000110 (=070) = F\n",
      "01110011 (=115) = s\n",
      "00111100 (=060) = <\n",
      "01101000 (=104) = h\n",
      "01010100 (=084) = T\n",
      "11101101 (=237) = í\n",
      "11101010 (=234) = ê\n",
      "00100011 (=035) = #\n",
      "01101001 (=105) = i\n",
      "01101110 (=110) = n\n",
      "01100100 (=100) = d\n",
      "00111100 (=060) = <\n",
      "11000001 (=193) = Á\n",
      "00010101 (=021) = \u0015\n",
      "00101010 (=042) = *\n",
      "11001010 (=202) = Ê\n",
      "10101110 (=174) = ®\n",
      "11010001 (=209) = Ñ\n",
      "00101111 (=047) = /\n",
      "0000...         = NULL TERMINATOR (END Symbol, SKIP!)\n",
      "00001100 (=012) = \f\n",
      "11000000 (=192) = À\n",
      "\n",
      "i.e., the data and ECCs in the QR code as-is are \"ÞÞÜFs<hTíê#ind<Á\u0015*Ê®Ñ/À\"\n"
     ]
    },
    {
     "ename": "ReedSolomonError",
     "evalue": "Too many errors to correct",
     "output_type": "error",
     "traceback": [
      "\u001B[1;31m---------------------------------------------------------------------------\u001B[0m",
      "\u001B[1;31mReedSolomonError\u001B[0m                          Traceback (most recent call last)",
      "Cell \u001B[1;32mIn[141], line 64\u001B[0m\n\u001B[0;32m     61\u001B[0m rsc \u001B[38;5;241m=\u001B[39m rs\u001B[38;5;241m.\u001B[39mRSCodec(nsym\u001B[38;5;241m=\u001B[39m\u001B[38;5;241m7\u001B[39m)\n\u001B[0;32m     63\u001B[0m \u001B[38;5;66;03m# Decode the bytes with the 7-ECC RS Codec\u001B[39;00m\n\u001B[1;32m---> 64\u001B[0m message_decoded \u001B[38;5;241m=\u001B[39m \u001B[43mrsc\u001B[49m\u001B[38;5;241;43m.\u001B[39;49m\u001B[43mdecode\u001B[49m\u001B[43m(\u001B[49m\u001B[43mmessage_bytes\u001B[49m\u001B[43m)\u001B[49m\n\u001B[0;32m     65\u001B[0m \u001B[38;5;28mprint\u001B[39m(\u001B[38;5;124m'\u001B[39m\u001B[38;5;130;01m\\n\u001B[39;00m\u001B[38;5;124mNow decoding...\u001B[39m\u001B[38;5;130;01m\\n\u001B[39;00m\u001B[38;5;124m'\u001B[39m)\n\u001B[0;32m     66\u001B[0m rsc\u001B[38;5;241m.\u001B[39mmaxerrata(verbose\u001B[38;5;241m=\u001B[39m\u001B[38;5;28;01mTrue\u001B[39;00m)\n",
      "File \u001B[1;32mD:\\Mina\\Senior1-sem2\\CV\\CV QR Project\\venv\\lib\\site-packages\\reedsolo.py:929\u001B[0m, in \u001B[0;36mRSCodec.decode\u001B[1;34m(self, data, nsym, erase_pos, only_erasures)\u001B[0m\n\u001B[0;32m    927\u001B[0m     erase_pos \u001B[38;5;241m=\u001B[39m [x \u001B[38;5;241m-\u001B[39m \u001B[38;5;28mself\u001B[39m\u001B[38;5;241m.\u001B[39mnsize \u001B[38;5;28;01mfor\u001B[39;00m x \u001B[38;5;129;01min\u001B[39;00m erase_pos \u001B[38;5;28;01mif\u001B[39;00m x \u001B[38;5;241m>\u001B[39m\u001B[38;5;241m=\u001B[39m \u001B[38;5;28mself\u001B[39m\u001B[38;5;241m.\u001B[39mnsize]\n\u001B[0;32m    928\u001B[0m \u001B[38;5;66;03m# Decode/repair this chunk!\u001B[39;00m\n\u001B[1;32m--> 929\u001B[0m rmes, recc, errata_pos \u001B[38;5;241m=\u001B[39m \u001B[43mrs_correct_msg\u001B[49m\u001B[43m(\u001B[49m\u001B[43mchunk\u001B[49m\u001B[43m,\u001B[49m\u001B[43m \u001B[49m\u001B[43mnsym\u001B[49m\u001B[43m,\u001B[49m\u001B[43m \u001B[49m\u001B[43mfcr\u001B[49m\u001B[38;5;241;43m=\u001B[39;49m\u001B[38;5;28;43mself\u001B[39;49m\u001B[38;5;241;43m.\u001B[39;49m\u001B[43mfcr\u001B[49m\u001B[43m,\u001B[49m\u001B[43m \u001B[49m\u001B[43mgenerator\u001B[49m\u001B[38;5;241;43m=\u001B[39;49m\u001B[38;5;28;43mself\u001B[39;49m\u001B[38;5;241;43m.\u001B[39;49m\u001B[43mgenerator\u001B[49m\u001B[43m,\u001B[49m\u001B[43m \u001B[49m\u001B[43merase_pos\u001B[49m\u001B[38;5;241;43m=\u001B[39;49m\u001B[43me_pos\u001B[49m\u001B[43m,\u001B[49m\u001B[43m \u001B[49m\u001B[43monly_erasures\u001B[49m\u001B[38;5;241;43m=\u001B[39;49m\u001B[43monly_erasures\u001B[49m\u001B[43m)\u001B[49m\n\u001B[0;32m    930\u001B[0m dec\u001B[38;5;241m.\u001B[39mextend(rmes)\n\u001B[0;32m    931\u001B[0m dec_full\u001B[38;5;241m.\u001B[39mextend(rmes\u001B[38;5;241m+\u001B[39mrecc)\n",
      "File \u001B[1;32mD:\\Mina\\Senior1-sem2\\CV\\CV QR Project\\venv\\lib\\site-packages\\reedsolo.py:748\u001B[0m, in \u001B[0;36mrs_correct_msg\u001B[1;34m(msg_in, nsym, fcr, generator, erase_pos, only_erasures)\u001B[0m\n\u001B[0;32m    746\u001B[0m fsynd \u001B[38;5;241m=\u001B[39m rs_forney_syndromes(synd, erase_pos, \u001B[38;5;28mlen\u001B[39m(msg_out), generator)\n\u001B[0;32m    747\u001B[0m \u001B[38;5;66;03m# compute the error locator polynomial using Berlekamp-Massey\u001B[39;00m\n\u001B[1;32m--> 748\u001B[0m err_loc \u001B[38;5;241m=\u001B[39m \u001B[43mrs_find_error_locator\u001B[49m\u001B[43m(\u001B[49m\u001B[43mfsynd\u001B[49m\u001B[43m,\u001B[49m\u001B[43m \u001B[49m\u001B[43mnsym\u001B[49m\u001B[43m,\u001B[49m\u001B[43m \u001B[49m\u001B[43merase_count\u001B[49m\u001B[38;5;241;43m=\u001B[39;49m\u001B[38;5;28;43mlen\u001B[39;49m\u001B[43m(\u001B[49m\u001B[43merase_pos\u001B[49m\u001B[43m)\u001B[49m\u001B[43m)\u001B[49m\n\u001B[0;32m    749\u001B[0m \u001B[38;5;66;03m# locate the message errors using Chien search (or bruteforce search)\u001B[39;00m\n\u001B[0;32m    750\u001B[0m err_pos \u001B[38;5;241m=\u001B[39m rs_find_errors(err_loc[::\u001B[38;5;241m-\u001B[39m\u001B[38;5;241m1\u001B[39m], \u001B[38;5;28mlen\u001B[39m(msg_out), generator)\n",
      "File \u001B[1;32mD:\\Mina\\Senior1-sem2\\CV\\CV QR Project\\venv\\lib\\site-packages\\reedsolo.py:661\u001B[0m, in \u001B[0;36mrs_find_error_locator\u001B[1;34m(synd, nsym, erase_loc, erase_count)\u001B[0m\n\u001B[0;32m    659\u001B[0m errs \u001B[38;5;241m=\u001B[39m \u001B[38;5;28mlen\u001B[39m(err_loc) \u001B[38;5;241m-\u001B[39m \u001B[38;5;241m1\u001B[39m\n\u001B[0;32m    660\u001B[0m \u001B[38;5;28;01mif\u001B[39;00m (errs\u001B[38;5;241m-\u001B[39merase_count) \u001B[38;5;241m*\u001B[39m \u001B[38;5;241m2\u001B[39m \u001B[38;5;241m+\u001B[39m erase_count \u001B[38;5;241m>\u001B[39m nsym:\n\u001B[1;32m--> 661\u001B[0m     \u001B[38;5;28;01mraise\u001B[39;00m ReedSolomonError(\u001B[38;5;124m\"\u001B[39m\u001B[38;5;124mToo many errors to correct\u001B[39m\u001B[38;5;124m\"\u001B[39m)\n\u001B[0;32m    663\u001B[0m \u001B[38;5;28;01mreturn\u001B[39;00m err_loc\n",
      "\u001B[1;31mReedSolomonError\u001B[0m: Too many errors to correct"
     ]
    }
   ],
   "source": [
    "print(grid_cells_num)\n",
    "data_starting_indices = [\n",
    "    [grid_cells_num-7, grid_cells_num-1, UP], #W\n",
    "    [grid_cells_num-11, grid_cells_num-1, CCW],\n",
    "    [grid_cells_num-10, grid_cells_num-3, DOWN],\n",
    "    [grid_cells_num-6, grid_cells_num-3, DOWN],\n",
    "    [grid_cells_num-2, grid_cells_num-3, CW],\n",
    "    [grid_cells_num-3, grid_cells_num-5, UP],\n",
    "    [grid_cells_num-7, grid_cells_num-5, UP],\n",
    "    [grid_cells_num-11, grid_cells_num-5, CCW],\n",
    "    [grid_cells_num-10, grid_cells_num-7, DOWN],\n",
    "    [grid_cells_num-6, grid_cells_num-7, DOWN],\n",
    "    [grid_cells_num-2, grid_cells_num-7, CW],\n",
    "    [grid_cells_num-3, grid_cells_num-9, UP],\n",
    "    [grid_cells_num-7, grid_cells_num-9, UP],\n",
    "    [grid_cells_num-11, grid_cells_num-9, UP],\n",
    "    [grid_cells_num-16, grid_cells_num-9, UP],\n",
    "    [grid_cells_num-20, grid_cells_num-9, CCW],\n",
    "    [grid_cells_num-19, grid_cells_num-11, DOWN],\n",
    "    [grid_cells_num-14, grid_cells_num-11, DOWN], #END\n",
    "    [grid_cells_num-10, grid_cells_num-11, DOWN], # E1\n",
    "    [grid_cells_num-6, grid_cells_num-11, DOWN], # E2\n",
    "    [grid_cells_num-4, grid_cells_num-11, DOWN], # E3\n",
    "    [grid_cells_num-9, grid_cells_num-13, UP], # E4\n",
    "    [grid_cells_num-12, grid_cells_num-16, DOWN], # E5\n",
    "    [grid_cells_num-9, grid_cells_num-18, UP], # E6\n",
    "    [grid_cells_num-12, grid_cells_num-20, DOWN], # E7\n",
    "\n",
    "    # Hmm.? I actually don't know how to proceed now lol\n",
    "    # well I think I do 😁\n",
    "]\n",
    "\n",
    "\n",
    "\n",
    "\n",
    "enc_bits = enc\n",
    "len_bits = length\n",
    "\n",
    "message_bits = []\n",
    "message_bits.extend(enc_bits)\n",
    "message_bits.extend(len_bits)\n",
    "extracted_data_no_error_correction = ''\n",
    "for a, b, d in data_starting_indices:  # For each starting index and direction\n",
    "    bits = apply_mask(a, b, d)  # Extract the bits per the indexed QR code symbol\n",
    "    bit_string = ''.join([str(bit) for bit in bits])  # Convert to string of bits\n",
    "    alpha_char = chr(int(bit_string, 2))  # Convert binary to int, then to a char\n",
    "    if bit_string[:4] == \"0000\":  # If the first 4 bits are 0s, this is the END\n",
    "        print(f'{bit_string[:4]}...         = NULL TERMINATOR (END Symbol, SKIP!)')\n",
    "        message_bits.extend(bits[:4])  # Append only the four bits\n",
    "    else:  # If not the END symbol, append full set of bits\n",
    "        message_bits.extend(bits)\n",
    "        extracted_data_no_error_correction += alpha_char\n",
    "    print(f'{bit_string} (={int(bit_string, 2):03d}) = {alpha_char}')\n",
    "\n",
    "print(f'\\ni.e., the data and ECCs in the QR code as-is are \"{extracted_data_no_error_correction}\"')\n",
    "\n",
    "# For every 8 bits in the extracted message, convert to a byte\n",
    "message_bytes = [int(\"\".join(map(str, message_bits[i:i+8])), 2) for i in range(0, len(message_bits), 8)]\n",
    "\n",
    "# Create the Reed-Solomon Codec for 7 ECC symbols\n",
    "rsc = rs.RSCodec(nsym=7)\n",
    "\n",
    "# Decode the bytes with the 7-ECC RS Codec\n",
    "message_decoded = rsc.decode(message_bytes)\n",
    "print('\\nNow decoding...\\n')\n",
    "rsc.maxerrata(verbose=True)\n",
    "print(f'Decoded message = \"{message_decoded[0].decode(encoding=\"iso-8859-1\")}\"')\n",
    "print(f'Decoded ECCs    = \"{message_decoded[1][-7:].decode(encoding=\"iso-8859-1\")}\"')\n",
    "\n",
    "# In order to extract the actual data, need to convert back to bits and...\n",
    "# ...remove the initial 12 bits (enc and len) and last 4 bits (terminator)\n",
    "data_bits = bin(int.from_bytes(message_decoded[0], byteorder='big'))[13:-4]\n",
    "\n",
    "# Now convert back to bytes and print it lol\n",
    "data_bytes = int(data_bits, 2).to_bytes((len(data_bits)+7)//8, 'big')\n",
    "print(f'Data in message = \"{data_bytes.decode(encoding=\"iso-8859-1\")}\"')\n",
    "# print(f'Data should be... \"Hello, QR World!1\" - and yes there\\'s a \\'1\\' after the \\'!\\'')\n",
    "\n",
    "\n",
    "\n",
    "# # Print the updated data_starting_indices list\n",
    "# print(\"Updated data_starting_indices\")\n",
    "# listeddd = []\n",
    "# counter = 0\n",
    "# ans = ''\n",
    "# for a, b, d in data_starting_indices:\n",
    "#     bits = apply_mask(a, b, d)\n",
    "#     bit_string = ''.join([str(bit) for bit in bits])\n",
    "#     if bit_string[:4] == \"0000\" and counter==decimal_value:\n",
    "#         print(f'{bit_string[:4]} = 0 (NULL TERMINATOR)')\n",
    "#         break\n",
    "#     ans += chr(int(bit_string, 2)) # converts to binary to int, then to ASCII\n",
    "#     print(f'{bit_string} = {ans[-1]}')\n",
    "#     listeddd.append(bit_string)\n",
    "#     counter +=1\n",
    "# print(f'\\nDecoded string: {ans}')\n",
    "\n",
    "# bits_list = []\n",
    "#\n",
    "# for binary_string in listeddd:\n",
    "#     bits_list.extend(list(map(int, binary_string)))\n",
    "#\n",
    "#\n",
    "#\n",
    "# print(listeddd)"
   ],
   "metadata": {
    "collapsed": false
   }
  },
  {
   "cell_type": "code",
   "execution_count": null,
   "outputs": [],
   "source": [
    "ALPHANUMERIC_TABLE = {\n",
    "    0: '0', 1: '1', 2: '2', 3: '3', 4: '4',\n",
    "    5: '5', 6: '6', 7: '7', 8: '8', 9: '9',\n",
    "    10: 'A', 11: 'B', 12: 'C', 13: 'D', 14: 'E',\n",
    "    15: 'F', 16: 'G', 17: 'H', 18: 'I', 19: 'J',\n",
    "    20: 'K', 21: 'L', 22: 'M', 23: 'N', 24: 'O',\n",
    "    25: 'P', 26: 'Q', 27: 'R', 28: 'S', 29: 'T',\n",
    "    30: 'U', 31: 'V', 32: 'W', 33: 'X', 34: 'Y',\n",
    "    35: 'Z', 36: ' ', 37: '$', 38: '%', 39: '*',\n",
    "    40: '+', 41: '-', 42: '.', 43: '/', 44: ':'\n",
    "}\n",
    "\n",
    "def decode(bits):\n",
    "    # Convert the 11-bit binary string to an integer\n",
    "    num = int(bits, 2)\n",
    "\n",
    "    # Divide the number by 45 to get the first character\n",
    "    first_num = num // 45\n",
    "    first_char = ALPHANUMERIC_TABLE[first_num]\n",
    "\n",
    "    # Use modulus to get the second character\n",
    "    second_num = num % 45\n",
    "    second_char = ALPHANUMERIC_TABLE[second_num]\n",
    "\n",
    "    return first_char + second_char\n",
    "\n",
    "\n",
    "# print(decode('00111111001'))\n",
    "# print(decode('11000001010'))\n",
    "# print(decode('01010000011'))\n",
    "# print(decode('00011010100'))\n",
    "# bits_list.reverse()\n",
    "#\n",
    "# decoded_string = ''\n",
    "# for i in range(0, len(bits_list), 11):\n",
    "#     chunk = bits_list[i:i+11]\n",
    "#     if len(chunk) == 11:  # Ensure the chunk has 11 bits\n",
    "#         decoded_string += decode(''.join(map(str, chunk)))\n",
    "#\n",
    "# print(decoded_string)\n",
    "\n",
    "# bits = '11010100000'  # This should represent 'HE'\n",
    "# print(decode(bits_string))"
   ],
   "metadata": {
    "collapsed": false
   }
  },
  {
   "cell_type": "code",
   "execution_count": null,
   "outputs": [],
   "source": [
    "# from reedsolo import RSCodec\n",
    "#\n",
    "# # Convert the string to a list of integers (byte values)\n",
    "# data_bytes = [ord(char) for char in ans]\n",
    "#\n",
    "# # Determine the number of error correction bytes per block based on the QR code version and error correction level\n",
    "# # For example:\n",
    "# error_level = 'H'  # Use the error correction level obtained from your code\n",
    "# if error_level == 'H':\n",
    "#     num_ec_bytes_per_block = 30  # Example value, adjust based on your calculation\n",
    "# else:\n",
    "#     # Add conditions for other error correction levels if needed\n",
    "#     pass\n",
    "#\n",
    "# # Create an RSCodec object\n",
    "# rs = RSCodec(error_correction_byes)\n",
    "#\n",
    "# # Encode the data using Reed-Solomon\n",
    "# encoded_data = rs.encode(data_bytes)\n",
    "#\n",
    "# # Now encoded_data contains both the original data and the error correction c"
   ],
   "metadata": {
    "collapsed": false
   }
  },
  {
   "cell_type": "code",
   "execution_count": null,
   "outputs": [],
   "source": [
    "# Initialization\n",
    "print(error_correction_byes)\n",
    "from reedsolo import RSCodec, ReedSolomonError\n",
    "rsc = RSCodec(error_correction_byes)  # 10 ecc symbols\n",
    "\n",
    "# Encoding\n",
    "# just a list of numbers/symbols:\n",
    "# encoding a byte string is as easy:\n",
    "encoded = rsc.encode(b'BANANAAA!!!')\n",
    "print(encoded)\n",
    "# Decoding (repairing)\n",
    "print(rsc.decode(b\"BxxxxxAA!!!*\\x86|l\\xf2\\xfd]\\xb9M\\xd7\\x83\\xdf\\xb3\")[0])  # original\n"
   ],
   "metadata": {
    "collapsed": false
   }
  },
  {
   "cell_type": "code",
   "execution_count": null,
   "outputs": [],
   "source": [
    "# # Convert the list of integers back to a string\n",
    "# encoded_string = ''.join(chr(byte) for byte in encoded_data)\n",
    "#\n",
    "# # Print the encoded string\n",
    "# # print(\"Encoded data:\", encoded_string)\n",
    "#\n",
    "# print(rs.decode(encoded_data))\n",
    "#\n",
    "#\n",
    "#\n",
    "#\n"
   ],
   "metadata": {
    "collapsed": false
   }
  },
  {
   "cell_type": "code",
   "execution_count": null,
   "outputs": [],
   "source": [
    "# import reedsolo\n",
    "#\n",
    "# # Example data to encode\n",
    "# data = b'Hexxo, World!'\n",
    "#\n",
    "# # Initialize Reed-Solomon encoder and specify the number of error correction codewords\n",
    "# encoder = reedsolo.RSCodec(12)\n",
    "#\n",
    "# # Encode the data\n",
    "# encoded_data = encoder.encode(data)\n",
    "#\n",
    "# # Simulate corruption by flipping some bits\n",
    "# corrupted_data = bytearray(encoded_data)\n",
    "# corrupted_data[0] ^= 0xFF\n",
    "#\n",
    "# # Initialize Reed-Solomon decoder\n",
    "# decoder = reedsolo.RSCodec(12)\n",
    "#\n",
    "# # Attempt to decode the corrupted data\n",
    "# try:\n",
    "#     # Decode the data\n",
    "#     decoded_data = decoder.decode(corrupted_data)\n",
    "#     print(\"Decoded data:\", decoded_data)\n",
    "# except reedsolo.ReedSolomonError as e:\n",
    "#     print(\"Error correcting data:\", e)"
   ],
   "metadata": {
    "collapsed": false
   }
  }
 ],
 "metadata": {
  "kernelspec": {
   "display_name": "Python 3",
   "language": "python",
   "name": "python3"
  },
  "language_info": {
   "codemirror_mode": {
    "name": "ipython",
    "version": 2
   },
   "file_extension": ".py",
   "mimetype": "text/x-python",
   "name": "python",
   "nbconvert_exporter": "python",
   "pygments_lexer": "ipython2",
   "version": "2.7.6"
  }
 },
 "nbformat": 4,
 "nbformat_minor": 0
}
