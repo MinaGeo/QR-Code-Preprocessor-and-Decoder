{
 "cells": [
  {
   "cell_type": "markdown",
   "source": [
    "## **IMPORTS**|"
   ],
   "metadata": {
    "collapsed": false
   }
  },
  {
   "cell_type": "code",
   "execution_count": 576,
   "metadata": {
    "collapsed": true
   },
   "outputs": [],
   "source": [
    "#IMPORTS\n",
    "import cv2\n",
    "import numpy as np\n",
    "import matplotlib.pyplot as plt\n",
    "from skimage.metrics import structural_similarity as compare_ssim\n",
    "from scipy.signal import medfilt2d"
   ]
  },
  {
   "cell_type": "code",
   "execution_count": 577,
   "outputs": [],
   "source": [
    "fN = \"CSE483 Sp24 Project Test Cases/\" #folderName\n",
    "img_array = [fN+'01-Getting-started.png',fN+'02-Matsawar-3edel-ya3am.png', fN+'03-Leffy-bina-ya-donya.png',\n",
    "             fN+'04-Black-mirror.png',fN+'05-Caesar-cipher.png', fN+'06-Railfence-cipher.png',\n",
    "             fN+'07-THE-MIGHTY-FINGER.png', fN+'08-Compresso-Espresso.png', fN+'09-My-phone-fell-while-taking-this-one-...-or-did-it.png', fN+'10-Gone-With-The-Wind.png', fN+'11-weewooweewooweewoo.png',\n",
    "             fN+'12-mal7-w-felfel.png', fN+'13-2el-noor-2ata3.png',fN+'14-BANANAAA!!!.png',\n",
    "             fN+'15-beast-mode-computer-vision-(this-one-is-from-wikipedia).jpg',\n",
    "             fN+'16-V3-QR-Code...-can-you-do-it.png']\n",
    "\n",
    "TEST_CASE = 10\n",
    "img_address = img_array[TEST_CASE]"
   ],
   "metadata": {
    "collapsed": false
   }
  },
  {
   "cell_type": "markdown",
   "source": [
    "## *PREPROCESSING*"
   ],
   "metadata": {
    "collapsed": false
   }
  },
  {
   "cell_type": "code",
   "execution_count": 578,
   "outputs": [],
   "source": [
    "def median_filter(img, size):\n",
    "    median = cv2.medianBlur(img, size)\n",
    "    return median\n",
    "\n",
    "def smoothing_filter(img):\n",
    "\n",
    "    return 0\n",
    "\n",
    "def constrast_stretching(gray):\n",
    "    # Calculate the minimum and maximum pixel values\n",
    "    min_val = np.min(gray)\n",
    "    max_val = np.max(gray)\n",
    "\n",
    "    # Define the new minimum and maximum values for contrast stretching\n",
    "    new_min = 0\n",
    "    new_max = 255\n",
    "\n",
    "    # Apply contrast stretching\n",
    "    stretched_image = ((gray - min_val) / (max_val - min_val)) * (new_max - new_min) + new_min\n",
    "\n",
    "    # Convert the image back to uint8 format\n",
    "    stretched_image = np.uint8(stretched_image)\n",
    "    return stretched_image\n",
    "\n",
    "\n",
    "def brighten_filter(img_gray):\n",
    "    brightened_img = [pixel if (pixel >= 128) else pixel + 128 for pixel in img_gray.ravel()]\n",
    "    brightened_img_reshaped = np.reshape(brightened_img, img_gray.shape)\n",
    "    return brightened_img_reshaped\n",
    "\n",
    "def rotate_img(img):\n",
    "\n",
    "    # Rotate the image\n",
    "    rotated_img = cv2.rotate(img, cv2.ROTATE_90_COUNTERCLOCKWISE)\n",
    "    return rotated_img\n",
    "\n",
    "def show_histogram(img):\n",
    "    plt.figure(figsize=(9,8))\n",
    "    plt.hist(img.ravel(), bins=256)\n",
    "\n",
    "def sharpening_filter(img_gray):\n",
    "    image_float32 = np.float32(img_gray)\n",
    "    blurred = cv2.GaussianBlur(img_gray, (15, 15), 0)\n",
    "    blurred_float32 = np.float32(blurred)\n",
    "\n",
    "    # Calculate the unsharp mask (original image - blurred image)\n",
    "    unsharp_mask = cv2.subtract(image_float32, blurred_float32)\n",
    "\n",
    "    # Add the unsharp mask to the original image to sharpen it\n",
    "    sharpened = cv2.add(image_float32, unsharp_mask)\n",
    "    sharpened = np.clip(sharpened, 0, 255)  # Clip values to 0-255 range\n",
    "    sharpened = np.uint8(sharpened)\n",
    "    return sharpened\n",
    "\n",
    "def opening_filter(img):\n",
    "    closed_img = cv2.morphologyEx(img, cv2.MORPH_CLOSE, cv2.getStructuringElement(cv2.MORPH_ELLIPSE, (13, 13)))\n",
    "    # plt.imshow(thresh1, cmap=\"grey\")\n",
    "\n",
    "    return closed_img\n",
    "\n",
    "def get_contours(img):\n",
    "    #img taken into the contours must be binarized (applying greyscale then threshold) for better accuracy\n",
    "\n",
    "    ## *object to be found should be white and background should be black* ##\n",
    "\n",
    "    # Find contours in the binary image\n",
    "    contours, _ = cv2.findContours(img, cv2.RETR_EXTERNAL, cv2.CHAIN_APPROX_SIMPLE)\n",
    "    # Find the contour with the largest area (assuming it's the outer frame of the QR code)\n",
    "    largest_contour = max(contours, key=cv2.contourArea)\n",
    "    # Get the bounding (corner points) of the rectangle of the contour\n",
    "    x, y, w, h = cv2.boundingRect(largest_contour)\n",
    "\n",
    "    # Crop the image to the bounding rectangle to Extract the QR code region\n",
    "    qr_code_frame = img[y:y+h, x:x+w]\n",
    "\n",
    "    # Straightening into a square (assuming the frame is already rectangular)\n",
    "    # Find the longer side of the rectangle\n",
    "    if w > h:\n",
    "        max_dim = w\n",
    "    else:\n",
    "        max_dim = h\n",
    "\n",
    "    # Create a square image with dimensions equal to the maximum dimension\n",
    "    square_img = np.zeros((max_dim, max_dim), dtype=np.uint8)\n",
    "    # Calculate the position to paste the rectangle in the center of the square image\n",
    "    x_pos = (max_dim - w) // 2\n",
    "    y_pos = (max_dim - h) // 2\n",
    "    # Paste the rectangle onto the square image\n",
    "    square_img[y_pos:y_pos+h, x_pos:x_pos+w] = qr_code_frame\n",
    "    return square_img\n",
    "\n",
    "def invert_qr(img):\n",
    "    inverted_img = cv2.bitwise_not(img)\n",
    "    return inverted_img\n",
    "\n",
    "def adaptive_threshold(img, blockSize, C):\n",
    "    adptv_threshed_img = cv2.adaptiveThreshold(\n",
    "    src=img,\n",
    "    maxValue=255,\n",
    "    adaptiveMethod=cv2.ADAPTIVE_THRESH_GAUSSIAN_C,  # read: https://docs.opencv.org/3.4/d7/d1b/group__imgproc__misc.html#gaa42a3e6ef26247da787bf34030ed772c\n",
    "    thresholdType=cv2.THRESH_BINARY,\n",
    "    blockSize=blockSize,  # NxN block size (odd) to perform adaptive threshold on\n",
    "    C=C  # Constant subtracted from the mean or weighted mean\n",
    "    )\n",
    "\n",
    "    return adptv_threshed_img\n",
    "\n",
    "\n",
    "def flip_image(img):\n",
    "    img = cv2.flip(img,1)\n",
    "    return img\n",
    "\n",
    "def fourier(image):\n",
    "    dft_img = np.fft.fft2(image)\n",
    "    dft_img_shift = np.fft.fftshift(dft_img)\n",
    "\n",
    "    return dft_img_shift\n",
    "\n",
    "def histogram_equalizer(img):\n",
    "    equalized_img = cv2.equalizeHist(img)\n",
    "    return equalized_img\n",
    "\n",
    "def shift_image(image, dx, dy):\n",
    "    shifted_image = np.roll(image, dy, axis=0)  # Shift rows\n",
    "    shifted_image = np.roll(shifted_image, dx, axis=1)  # Shift columns\n",
    "    return shifted_image\n",
    "\n",
    "def replicate_padding(image, padding_size):\n",
    "    return cv2.copyMakeBorder(image, padding_size, padding_size, padding_size, padding_size, cv2.BORDER_REPLICATE)\n",
    "\n",
    "def zero_padding(image, padding_size):\n",
    "    return cv2.copyMakeBorder(image, padding_size, padding_size, padding_size, padding_size, cv2.BORDER_CONSTANT, value=0)\n",
    "\n",
    "def mirror_padding(image, padding_size):\n",
    "    return cv2.copyMakeBorder(image, padding_size, padding_size, padding_size, padding_size, cv2.BORDER_REFLECT)\n",
    "\n",
    "def straighten_image(image):\n",
    "    # Apply edge detection or any other suitable method to detect edges\n",
    "    edges = cv2.Canny(image, 50, 150, apertureSize=3)\n",
    "\n",
    "    # Apply Hough Line Transform to detect lines\n",
    "    lines = cv2.HoughLines(edges, 1, np.pi / 180, 127)\n",
    "    print(lines)\n",
    "    # Calculate rotation angle\n",
    "    # Calculate rotation angle\n",
    "    total_angle = 0.0\n",
    "    if lines is not None:\n",
    "        for line in lines:\n",
    "            rho, theta = line[0]  # Extract rho and theta from the current line\n",
    "            total_angle += np.degrees(theta)\n",
    "        angle = total_angle / len(lines)\n",
    "\n",
    "\n",
    "    # Rotate the image\n",
    "    center = (image.shape[1] // 2, image.shape[0] // 2)\n",
    "    rotation_matrix = cv2.getRotationMatrix2D(center, angle, 1.0)\n",
    "    rotated_image = cv2.warpAffine(image, rotation_matrix, (image.shape[1], image.shape[0]), flags=cv2.INTER_CUBIC, borderMode=cv2.BORDER_REPLICATE)\n",
    "\n",
    "    return rotated_image\n",
    "\n",
    "def binary_threshold(img, threshold):\n",
    "    _, thresholded_image = cv2.threshold(img, threshold, 255, cv2.THRESH_BINARY)\n",
    "    return thresholded_image\n"
   ],
   "metadata": {
    "collapsed": false
   }
  },
  {
   "cell_type": "markdown",
   "source": [
    "## *Filter functions*"
   ],
   "metadata": {
    "collapsed": false
   }
  },
  {
   "cell_type": "code",
   "execution_count": 579,
   "outputs": [],
   "source": [
    "def give_me_circle_mask_nowww(mask_size, radius):\n",
    "    mask = np.zeros(mask_size)\n",
    "    cy = mask.shape[0] // 2\n",
    "    cx = mask.shape[1] // 2\n",
    "    return cv2.circle(mask, (cx,cy), radius, (255,255,255), -1).astype(np.uint8)\n",
    "\n",
    "def try_lowpass(dft_img, limit, gaussian: bool = False):\n",
    "    mask = give_me_circle_mask_nowww(dft_img.shape, limit)\n",
    "    if (gaussian):\n",
    "        mask = cv2.GaussianBlur(mask, (21,21), 0)\n",
    "    dft_img_shifted = np.fft.fftshift(dft_img)\n",
    "    dft_img_shifted_lowpass = np.multiply(dft_img_shifted, mask)\n",
    "    # Step 3: Convert back to spatial domain\n",
    "    f_ishift = np.fft.ifftshift(dft_img_shifted_lowpass)\n",
    "    img_back = np.fft.ifft2(f_ishift)\n",
    "    img_back = np.abs(img_back)\n",
    "    return img_back\n",
    "\n",
    "def try_highpass(dft_img, limit, gaussian: bool = False, keep_dc: bool = False):\n",
    "    mask = ~give_me_circle_mask_nowww(dft_img.shape, limit)\n",
    "    if (gaussian):\n",
    "        mask = cv2.GaussianBlur(mask, (21,21), 0)\n",
    "    if (keep_dc):\n",
    "        mask[dft_img.shape[0]//2, dft_img.shape[1]//2] = 255\n",
    "    dft_img_shifted = np.fft.fftshift(dft_img)\n",
    "    dft_img_shifted_highpass = np.multiply(dft_img_shifted, mask)\n",
    "    # Step 3: Convert back to spatial domain\n",
    "    f_ishift = np.fft.ifftshift(dft_img_shifted_highpass)\n",
    "    img_back = np.fft.ifft2(f_ishift)\n",
    "    img_back = np.abs(img_back)\n",
    "\n",
    "    # Normalize pixel values to range [0, 255]\n",
    "    img_back = cv2.normalize(img_back, None, alpha=0, beta=255, norm_type=cv2.NORM_MINMAX, dtype=cv2.CV_8U)\n",
    "\n",
    "    return img_back\n",
    "\n",
    "def plot_shifted_fft_and_ifft(dft_img_shifted):\n",
    "    img = np.fft.ifft2(np.fft.ifftshift(dft_img_shifted))\n",
    "    fig, (ax1, ax2) = plt.subplots(figsize=(10, 5), nrows=1, ncols=2)\n",
    "    ax1.set(yticks=[0, img.shape[0]//2, img.shape[0] - 1], yticklabels=[-img.shape[0]//2, 0, img.shape[0]//2 - 1]);\n",
    "    ax1.set(xticks=[0, img.shape[1]//2, img.shape[1] - 1], xticklabels=[-img.shape[1]//2, 0, img.shape[1]//2 - 1]);\n",
    "    ax1.imshow(np.abs(dft_img_shifted)**0.1, cmap = 'gray');\n",
    "    ax2.imshow(np.abs(img), cmap = 'gray')\n",
    "    return dft_img_shifted"
   ],
   "metadata": {
    "collapsed": false
   }
  },
  {
   "cell_type": "code",
   "execution_count": 580,
   "outputs": [],
   "source": [
    "def biggestContour(contours):\n",
    "    biggest = None\n",
    "    second_biggest = None\n",
    "    max_area = 0\n",
    "    second_max_area = 0\n",
    "\n",
    "    for contour in contours:\n",
    "        area = cv2.contourArea(contour)\n",
    "        if area > 1000:\n",
    "            peri = cv2.arcLength(contour, True)\n",
    "            approx = cv2.approxPolyDP(contour, 0.02 * peri, True)\n",
    "            if len(approx) >= 4:\n",
    "                if area > max_area:\n",
    "                    second_biggest = biggest\n",
    "                    second_max_area = max_area\n",
    "                    biggest = approx\n",
    "                    max_area = area\n",
    "                elif area > second_max_area:\n",
    "                    second_biggest = approx\n",
    "                    second_max_area = area\n",
    "\n",
    "    return biggest, second_biggest, max_area, second_max_area\n",
    "\n",
    "def reorder(myPoints):\n",
    "    myPoints=myPoints.reshape((4,2))\n",
    "    myPointsNew=np.zeros((4,1,2),dtype=np.int32)\n",
    "    add=myPoints.sum(1)\n",
    "    myPointsNew[0]=myPoints[np.argmin(add)]\n",
    "    myPointsNew[3]=myPoints[np.argmax(add)]\n",
    "    diff=np.diff(myPoints,axis=1)\n",
    "    myPointsNew[1]=myPoints[np.argmin(diff)]\n",
    "    myPointsNew[2]=myPoints[np.argmax(diff)]\n",
    "    return myPointsNew\n"
   ],
   "metadata": {
    "collapsed": false
   }
  },
  {
   "cell_type": "markdown",
   "source": [
    "### Finding the placement boxes contours"
   ],
   "metadata": {
    "collapsed": false
   }
  },
  {
   "cell_type": "code",
   "execution_count": 581,
   "outputs": [
    {
     "name": "stdout",
     "output_type": "stream",
     "text": [
      "Bounding Box 1: (x=41, y=657)\n",
      "Bounding Box 2: (x=660, y=38)\n",
      "Bounding Box 3: (x=41, y=38)\n"
     ]
    },
    {
     "data": {
      "text/plain": "<Figure size 700x700 with 2 Axes>",
      "image/png": "[encoded data removed]"
     },
     "metadata": {},
     "output_type": "display_data"
    }
   ],
   "source": [
    "fig, axes = plt.subplots(1, 2, figsize=(7, 7))\n",
    "RotateFlag = False\n",
    "# Load the image containing the QR code\n",
    "image = cv2.imread(img_address)\n",
    "\n",
    "# Convert the image to grayscale\n",
    "gray = cv2.cvtColor(image, cv2.COLOR_BGR2GRAY)\n",
    "\n",
    "# Apply Gaussian blur to reduce noise\n",
    "blurred = cv2.GaussianBlur(gray, (5, 5), 0)\n",
    "\n",
    "# Perform edge detection using Canny\n",
    "edges = cv2.Canny(blurred, 50, 150)\n",
    "\n",
    "# Find contours in the edge-detected image\n",
    "contours, _ = cv2.findContours(edges.copy(), cv2.RETR_EXTERNAL, cv2.CHAIN_APPROX_SIMPLE)\n",
    "\n",
    "# Find the largest contour(s) by area\n",
    "max_area = max(cv2.contourArea(contour) for contour in contours)\n",
    "largest_contours = [contour for contour in contours if cv2.contourArea(contour) > 0.9 * max_area]\n",
    "# List to store the coordinates of bounding boxes\n",
    "bounding_box_coordinates = []\n",
    "\n",
    "# Get bounding box coordinates for the largest contours\n",
    "for contour in largest_contours:\n",
    "    # Get bounding box\n",
    "    x, y, w, h = cv2.boundingRect(contour)\n",
    "    # Append the coordinates of the top-left corner (x, y) to the list\n",
    "    bounding_box_coordinates.append((x, y))\n",
    "\n",
    "# Check if the specified coordinates are present in any of the bounding boxes\n",
    "if any((x == 659 and y == 659) for x, y in bounding_box_coordinates):\n",
    "    # Rotate the image by 180 degrees\n",
    "    RotateFlag = True\n",
    "\n",
    "# Print the coordinates of the bounding boxes\n",
    "for i, (x, y) in enumerate(bounding_box_coordinates):\n",
    "    print(f\"Bounding Box {i + 1}: (x={x}, y={y})\")\n",
    "# Create a copy of the original image to draw the largest contour on\n",
    "image_with_contours = image.copy()\n",
    "\n",
    "# Draw the largest contour(s) with a red border\n",
    "cv2.drawContours(image_with_contours, largest_contours, -1, (0, 0, 255), 2)\n",
    "\n",
    "# Convert BGR image to RGB for displaying with matplotlib\n",
    "image_with_contours_rgb = cv2.cvtColor(image_with_contours, cv2.COLOR_BGR2RGB)\n",
    "\n",
    "# Plot the images side by side\n",
    "\n",
    "# Plot the original image\n",
    "axes[0].imshow(cv2.cvtColor(image, cv2.COLOR_BGR2RGB))\n",
    "axes[0].set_title('Original Image')\n",
    "axes[0].axis('off')\n",
    "\n",
    "if RotateFlag == True:\n",
    "    # Plot the image with contours\n",
    "    axes[1].imshow(image_with_contours_rgb)\n",
    "    axes[1].set_title('Image with Contours after rotations')\n",
    "    axes[1].axis('off')\n",
    "else:\n",
    "        # Plot the image with contours\n",
    "    axes[1].imshow(image_with_contours_rgb)\n",
    "    axes[1].set_title('Image with Contours')\n",
    "    axes[1].axis('off')\n",
    "plt.show()"
   ],
   "metadata": {
    "collapsed": false
   }
  },
  {
   "cell_type": "markdown",
   "source": [
    "#### **Importing image and binarizing (making it either 0 or 255)**"
   ],
   "metadata": {
    "collapsed": false
   }
  },
  {
   "cell_type": "code",
   "execution_count": 582,
   "outputs": [],
   "source": [
    "def detect_and_remove_sin_noise(image):\n",
    "    # Compute the 2D discrete Fourier Transform\n",
    "    dft = np.fft.fft2(image)\n",
    "\n",
    "    # Shift the zero-frequency component to the center of the spectrum\n",
    "    dft_shift = np.fft.fftshift(dft)\n",
    "\n",
    "    # Compute the magnitude spectrum\n",
    "    magnitude_spectrum = np.abs(dft_shift)\n",
    "\n",
    "    # Threshold the magnitude spectrum to detect significant peaks\n",
    "    threshold = 0.1 * np.max(magnitude_spectrum)\n",
    "    peaks = np.where(magnitude_spectrum > threshold)\n",
    "\n",
    "    # Convert the peak coordinates to frequency space\n",
    "    rows, cols = image.shape\n",
    "    center_row, center_col = rows // 2, cols // 2\n",
    "    frequencies = np.array(peaks) - np.array([[center_row], [center_col]])\n",
    "\n",
    "    # Print detected sinusoidal noise frequencies\n",
    "    print(\"Detected sinusoidal noise frequencies:\")\n",
    "    for freq in zip(frequencies[0], frequencies[1]):\n",
    "        print(\"Frequency: {},{} (in pixels)\".format(freq[0], freq[1]))\n",
    "\n",
    "    # Remove the detected frequencies from the shifted DFT\n",
    "    for freq_row, freq_col in zip(frequencies[0], frequencies[1]):\n",
    "        dft_shift[center_row + freq_row, center_col + freq_col] = 0\n",
    "        dft_shift[center_row - freq_row, center_col - freq_col] = 0\n",
    "\n",
    "    # Compute the inverse shift to prepare for inverse FFT\n",
    "    dft_unshifted = np.fft.ifftshift(dft_shift)\n",
    "\n",
    "    # Compute the inverse 2D discrete Fourier Transform\n",
    "    filtered_image = np.fft.ifft2(dft_unshifted).real\n",
    "    # img_back = np.abs(filtered_image)\n",
    "\n",
    "    # Normalize pixel values to range [0, 255]\n",
    "    img_back = cv2.normalize(filtered_image, None, alpha=0, beta=255, norm_type=cv2.NORM_MINMAX, dtype=cv2.CV_8U)\n",
    "    return img_back\n",
    "    # Plot the magnitude spectrum and the filtered image\n",
    "    plt.subplot(1, 2, 1)\n",
    "    plt.imshow(np.log(1 + magnitude_spectrum), cmap='gray')\n",
    "    plt.scatter(peaks[1], peaks[0], color='red', marker='x')\n",
    "    plt.title('Magnitude Spectrum with Detected Peaks')\n",
    "    plt.xlabel('Frequency (pixels)')\n",
    "    plt.ylabel('Frequency (pixels)')\n",
    "\n",
    "    plt.subplot(1, 2, 2)\n",
    "    plt.imshow(filtered_image, cmap='gray')\n",
    "    plt.title('Filtered Image')\n",
    "    plt.show()\n",
    "\n"
   ],
   "metadata": {
    "collapsed": false
   }
  },
  {
   "cell_type": "code",
   "execution_count": 600,
   "outputs": [
    {
     "name": "stdout",
     "output_type": "stream",
     "text": [
      "Detected sinusoidal noise frequencies:\n",
      "Frequency: 0,-11 (in pixels)\n",
      "Frequency: 0,0 (in pixels)\n",
      "Frequency: 0,11 (in pixels)\n"
     ]
    },
    {
     "data": {
      "text/plain": "(-0.5, 1011.5, 1011.5, -0.5)"
     },
     "execution_count": 600,
     "metadata": {},
     "output_type": "execute_result"
    },
    {
     "data": {
      "text/plain": "<Figure size 1000x1000 with 2 Axes>",
      "image/png": "[encoded data removed]"
     },
     "metadata": {},
     "output_type": "display_data"
    }
   ],
   "source": [
    "image = cv2.imread(img_address, cv2.IMREAD_GRAYSCALE)\n",
    "\n",
    "img = cv2.imread(img_address, cv2.IMREAD_GRAYSCALE)\n",
    "# img = cv2.GaussianBlur(img, (5, 5), 1)  # makes image blur\n",
    "# img = cv2.Canny(img, 10, 50)  # makes image canny\n",
    "test_case = TEST_CASE\n",
    "\n",
    "if RotateFlag == True:\n",
    "   img = cv2.rotate(image, cv2.ROTATE_180)\n",
    "\n",
    "# ******************************************************************************* #\n",
    "\n",
    "if test_case==1:\n",
    "    img = straighten_image(img)\n",
    "\n",
    "# ******************************************************************************* #\n",
    "\n",
    "elif test_case == 3: # 04-Black-mirror\n",
    "    img = flip_image(img)\n",
    "    equalized_img = histogram_equalizer(img)\n",
    "    _, threshold_image = cv2.threshold(equalized_img, 128, 255, cv2.THRESH_BINARY)\n",
    "    # img = get_contours(threshold_image)\n",
    "    img = invert_qr(threshold_image)\n",
    "\n",
    "# ******************************************************************************* #\n",
    "elif test_case == 6:\n",
    "    img = adaptive_threshold(img)\n",
    "\n",
    "# ******************************************************************************* #\n",
    "elif test_case == 7:\n",
    "    square_se = cv2.getStructuringElement(cv2.MORPH_RECT, (21, 21))\n",
    "    img = cv2.erode(img, square_se)\n",
    "    img = cv2.dilate(img, square_se)\n",
    "    img = cv2.dilate(img, square_se)\n",
    "    img = cv2.erode(img, square_se)\n",
    "    square_se = cv2.getStructuringElement(cv2.MORPH_RECT, (41, 41))\n",
    "    img = cv2.erode(img, square_se)\n",
    "    img = cv2.dilate(img, square_se)\n",
    "    show_histogram(img)\n",
    "    _, img = cv2.threshold(img, 220, 255, cv2.THRESH_BINARY)\n",
    "    # img = adaptive_threshold(img)\n",
    "\n",
    "    # img[mask_binary == 255] = image1[mask_binary == 255]\n",
    "\n",
    "# ******************************************************************************* #\n",
    "\n",
    "elif test_case == 8:\n",
    "    img = constrast_stretching(img)\n",
    "    img = sharpening_filter(img)\n",
    "\n",
    "# ******************************************************************************* #\n",
    "\n",
    "elif test_case == 9:\n",
    "    img = constrast_stretching(img)\n",
    "    img = histogram_equalizer(img)\n",
    "    # img = brighten_filter(img,10)\n",
    "\n",
    "# ******************************************************************************* #\n",
    "\n",
    "elif test_case == 10:\n",
    "    # Detect and remove sinusoidal noise\n",
    "        # Convert to grayscale if needed\n",
    "\n",
    "    # image = cv2.medianBlur(image, 21)\n",
    "\n",
    "    if len(image.shape) > 2:\n",
    "        image = np.mean(image, axis=2)\n",
    "    img = detect_and_remove_sin_noise(image)\n",
    "    img = binary_threshold(img, 130)\n",
    "\n",
    "\n",
    "# ******************************************************************************* #\n",
    "\n",
    "elif test_case == 11:\n",
    "    # Apply Gaussian blur to reduce noise\n",
    "    median_img = median_filter(img,21)\n",
    "    _, threshold_image = cv2.threshold(median_img, 128, 255, cv2.THRESH_BINARY)\n",
    "    img = threshold_image\n",
    "    # _, img = cv2.threshold(img, 220, 255, cv2.THRESH_BINARY)\n",
    "    # Perform edge detection using Canny\n",
    "    # img = cv2.Canny(blurred, 50, 150)\n",
    "    # show_histogram(median_filtered)\n",
    "    # # creating a mask for the salt&pepper\n",
    "    # # mask = np.zeros_like(median_filtered)\n",
    "    # # mask[median_filtered < 5]   = 255\n",
    "    # # mask[median_filtered > 250] = 255\n",
    "    # # img = cv2.inpaint(median_filtered,mask,3,cv2.INPAINT_TELEA)\n",
    "    #\n",
    "    # img = try_highpass(dft_img, 20, gaussian=True, keep_dc=True)\n",
    "\n",
    "# ******************************************************************************* #\n",
    "\n",
    "elif test_case == 12:\n",
    "    img = adaptive_threshold(img)\n",
    "    square_se = cv2.getStructuringElement(cv2.MORPH_RECT, (21, 21))\n",
    "\n",
    "    square_se_canvas = np.zeros_like(img)\n",
    "    square_se_canvas[-45:-24, -45:-24] = square_se\n",
    "    median_box_thresholded = np.array(cv2.threshold(img, 150, 1, cv2.THRESH_BINARY_INV)[1], dtype=\"uint8\")\n",
    "    eroded_median_box_thresholded = cv2.erode(median_box_thresholded, square_se)\n",
    "    dilated_after_eroded_median_box_thresholded = cv2.dilate(eroded_median_box_thresholded, square_se)\n",
    "    mask = dilated_after_eroded_median_box_thresholded  # Just giving it an alias cause the name got too long\n",
    "    dilated_mask = cv2.dilate(mask, square_se)\n",
    "    eroded_after_dilated_mask = cv2.erode(dilated_mask, square_se)\n",
    "\n",
    "# ******************************************************************************* #\n",
    "\n",
    "elif test_case == 13:\n",
    "    # Apply Gaussian blur to reduce noise\n",
    "    blurred = cv2.GaussianBlur(img, (5, 5), 0)\n",
    "    # Perform Canny edge detection\n",
    "    edges = cv2.Canny(blurred, 50, 150)\n",
    "    # Find contours in the edges image\n",
    "    contours, hierarchy = cv2.findContours(edges, cv2.RETR_TREE, cv2.CHAIN_APPROX_SIMPLE)\n",
    "    # Iterate over each contour\n",
    "    for contour in contours:\n",
    "        # Approximate the contour to a polygon\n",
    "        polygon = cv2.approxPolyDP(contour, 1.5 * cv2.arcLength(contour, True), True)\n",
    "        # Check if the polygon has 4 sides\n",
    "        # print(type(len))\n",
    "        if len(polygon) == 4:\n",
    "            # Draw the rectangle on the image\n",
    "            x, y, w, h = cv2.boundingRect(polygon)\n",
    "            img = cv2.rectangle(img, (x, y), (x + w, y + h), (255, 255, 0), 3)\n",
    "\n",
    "# ******************************************************************************* #\n",
    "\n",
    "fig, axes = plt.subplots(1, 2, figsize=(10, 10))\n",
    "\n",
    "# Plot the original image\n",
    "axes[0].imshow(image, cmap='gray')\n",
    "axes[0].set_title('Original Image')\n",
    "axes[0].axis('off')\n",
    "axes[1].imshow(img, cmap = 'gray')\n",
    "axes[1].set_title('Filtered image')\n",
    "axes[1].axis('off')\n"
   ],
   "metadata": {
    "collapsed": false
   }
  },
  {
   "cell_type": "code",
   "execution_count": 584,
   "outputs": [],
   "source": [
    "# image = cv2.imread(img_address)\n",
    "\n",
    "# img_rgb = cv2.cvtColor(img, cv2.COLOR_BGR2RGB)\n",
    "#\n",
    "# img_gray = cv2.cvtColor(img_rgb, cv2.COLOR_RGB2GRAY)\n",
    "# hist = cv2.calcHist([img_gray],[0],None,[256],[0,256])\n",
    "#\n",
    "# black_pixels = hist[0:128]\n",
    "#\n",
    "# # Find the intensity value with the maximum count (peak of the histogram)\n",
    "# peak_intensity = np.argmax(black_pixels)\n",
    "# Equalized_image = False\n",
    "# # Check if the count at the peak is greater than a certain threshold\n",
    "# print(hist[peak_intensity])\n",
    "# if hist[peak_intensity] > 500000:\n",
    "#     print(\"Equalized\")\n",
    "#     Equalized_image = True\n",
    "#     img = cv2.equalizeHist(img_gray)\n",
    "#"
   ],
   "metadata": {
    "collapsed": false
   }
  },
  {
   "cell_type": "markdown",
   "source": [
    "## Use quiet zone to detect code area\n",
    "Simply go through white rows and columns until you find the first black pixel from the left, from the right, from the top, and from the bottom."
   ],
   "metadata": {
    "collapsed": false
   }
  },
  {
   "cell_type": "code",
   "execution_count": 604,
   "outputs": [
    {
     "name": "stdout",
     "output_type": "stream",
     "text": [
      "start row:  44 , end row:  968 , start col:  44 , end col:  968\n"
     ]
    }
   ],
   "source": [
    "start_row = -1\n",
    "start_col = -1\n",
    "end_row = -1\n",
    "end_col = -1\n",
    "\n",
    "for row_index, row in enumerate(img):\n",
    "    for pixel in row:\n",
    "        if pixel != 255:\n",
    "            start_row = row_index\n",
    "            break\n",
    "    if start_row != -1:\n",
    "        break\n",
    "\n",
    "for row_index, row in enumerate(img[::-1]):\n",
    "    for pixel in row:\n",
    "        if pixel != 255:\n",
    "            end_row = img.shape[0] - row_index\n",
    "            break\n",
    "    if end_row != -1:\n",
    "        break\n",
    "\n",
    "for col_index, col in enumerate(cv2.transpose(img)):\n",
    "    for pixel in col:\n",
    "        if pixel != 255:\n",
    "            start_col = col_index\n",
    "            break\n",
    "    if start_col != -1:\n",
    "        break\n",
    "\n",
    "for col_index, col in enumerate(cv2.transpose(img)[::-1]):\n",
    "    for pixel in col:\n",
    "        if pixel != 255:\n",
    "            end_col = img.shape[1] - col_index\n",
    "            break\n",
    "    if end_col != -1:\n",
    "        break\n",
    "\n",
    "if start_row >= 44*0.8: # allow 80% difference due to noise pixels\n",
    "    start_row  = 44\n",
    "\n",
    "if start_col >= 44*0.8: # allow 80% difference due to noise pixels\n",
    "    start_col  = 44\n",
    "\n",
    "if end_row >= 968*0.8: # allow 80% difference due to noise pixels\n",
    "    end_row  = 968\n",
    "\n",
    "if end_col >= 968*0.8:# allow 80% difference due to noise pixels\n",
    "    end_col  = 968\n",
    "# end_row = end_col = 968\n",
    "print(\"start row: \", start_row, \", end row: \", end_row, \", start col: \", start_col, \", end col: \", end_col)\n",
    "#get_qr_without_quiet_zone(img, start_row, end_row, start_col, end_col)"
   ],
   "metadata": {
    "collapsed": false
   }
  },
  {
   "cell_type": "code",
   "execution_count": 605,
   "outputs": [
    {
     "data": {
      "text/plain": "<matplotlib.image.AxesImage at 0x277e7f35f10>"
     },
     "execution_count": 605,
     "metadata": {},
     "output_type": "execute_result"
    },
    {
     "data": {
      "text/plain": "<Figure size 500x500 with 1 Axes>",
      "image/png": "[encoded data removed]"
     },
     "metadata": {},
     "output_type": "display_data"
    }
   ],
   "source": [
    "qr_no_quiet_zone = img[start_row:end_row, start_col:end_col]\n",
    "fig = plt.figure(figsize=(5, 5))\n",
    "plt.xticks([], [])\n",
    "plt.yticks([], [])\n",
    "fig.get_axes()[0].spines[:].set_color('red')\n",
    "fig.get_axes()[0].spines[:].set_linewidth(40)\n",
    "fig.get_axes()[0].spines[:].set_position((\"outward\", 20))\n",
    "plt.title('QR code without quiet zone', y=1.15, color='red')\n",
    "plt.imshow(qr_no_quiet_zone, cmap='gray')\n",
    "#determine_grid_size(qr_no_quiet_zone)"
   ],
   "metadata": {
    "collapsed": false
   }
  },
  {
   "cell_type": "markdown",
   "source": [
    "## Use locator boxes to determine grid size\n",
    "Since we know that the topleft pixel should be the border of the locator box, and that its size should be 7×7, we can determine the grid cell size by dividing its size in pixels by 7. How to get its size? It is a constant black row of pixels followed by one white cell. A simple for loop can get it done."
   ],
   "metadata": {
    "collapsed": false
   }
  },
  {
   "cell_type": "code",
   "execution_count": 606,
   "outputs": [
    {
     "name": "stdout",
     "output_type": "stream",
     "text": [
      "Grid cell size:  44\n",
      "(924, 924)\n",
      "(21, 21, 44, 44)\n"
     ]
    },
    {
     "data": {
      "text/plain": "<Figure size 500x500 with 441 Axes>",
      "image/png": "[encoded data removed]"
     },
     "metadata": {},
     "output_type": "display_data"
    }
   ],
   "source": [
    "size = 0\n",
    "for pixel in qr_no_quiet_zone[0]:\n",
    "    if (pixel != 0): break\n",
    "    size += 1\n",
    "grid_cell_size = round(size / 7)\n",
    "print(\"Grid cell size: \", grid_cell_size)\n",
    "if grid_cell_size!= 0:\n",
    "    grid_cells_num = round(qr_no_quiet_zone.shape[0] / grid_cell_size)\n",
    "else:\n",
    "    print(\"incorrect Qr code detected\")\n",
    "print(qr_no_quiet_zone.shape)\n",
    "# ...into grid cells\n",
    "qr_cells = qr_no_quiet_zone.reshape((\n",
    "    grid_cells_num,\n",
    "    grid_cell_size,\n",
    "    grid_cells_num,\n",
    "    grid_cell_size,\n",
    ")).swapaxes(1, 2)\n",
    "print(qr_cells.shape)\n",
    "_, axes = plt.subplots(grid_cells_num, grid_cells_num, figsize=(5, 5))\n",
    "for i, row in enumerate(axes):\n",
    "    for j, col in enumerate(row):\n",
    "        col.imshow(qr_cells[i][j], cmap=\"gray\", vmin=0, vmax=255)\n",
    "        col.get_xaxis().set_visible(False)\n",
    "        col.get_yaxis().set_visible(False)\n",
    "        col.spines[:].set_color('red')\n",
    "# converting_grid_into_numbers(grid_cells_num, qr_cells)"
   ],
   "metadata": {
    "collapsed": false
   }
  },
  {
   "cell_type": "markdown",
   "source": [
    "## Convert grid tiles to numeric values"
   ],
   "metadata": {
    "collapsed": false
   }
  },
  {
   "cell_type": "code",
   "execution_count": 588,
   "outputs": [
    {
     "name": "stdout",
     "output_type": "stream",
     "text": [
      "[[0 0 0 0 0 0 0 1 1 1 0 0 0 1 0 0 0 0 0 0 0]\n",
      " [0 1 1 1 1 1 0 1 0 0 0 1 0 1 0 1 1 1 1 1 0]\n",
      " [0 1 0 0 0 1 0 1 1 1 0 0 0 1 0 1 0 0 0 1 0]\n",
      " [0 1 0 0 0 1 0 1 0 0 1 1 0 1 0 1 0 0 0 1 0]\n",
      " [0 1 0 0 0 1 0 1 1 0 1 1 0 1 0 1 0 0 0 1 0]\n",
      " [0 1 1 1 1 1 0 1 0 1 1 0 1 1 0 1 1 1 1 1 0]\n",
      " [0 0 0 0 0 0 0 1 0 1 0 1 0 1 0 0 0 0 0 0 0]\n",
      " [1 1 1 1 1 1 1 1 1 0 1 1 1 1 1 1 1 1 1 1 1]\n",
      " [0 0 0 0 0 1 0 0 0 1 1 0 1 0 1 0 1 0 1 0 1]\n",
      " [1 1 1 1 1 0 1 0 1 0 1 0 0 0 1 0 0 1 0 1 0]\n",
      " [1 0 0 1 1 0 0 0 1 1 1 1 0 0 1 1 1 0 0 0 1]\n",
      " [0 1 1 1 1 0 1 1 0 0 1 0 0 0 1 0 0 0 0 0 0]\n",
      " [0 1 0 0 0 1 0 0 0 1 0 1 0 0 0 1 1 1 1 0 1]\n",
      " [1 1 1 1 1 1 1 1 0 1 0 1 0 1 1 1 0 1 0 0 0]\n",
      " [0 0 0 0 0 0 0 1 0 0 0 0 1 0 0 1 1 0 0 0 1]\n",
      " [0 1 1 1 1 1 0 1 1 1 1 1 1 1 1 1 1 0 0 0 1]\n",
      " [0 1 0 0 0 1 0 1 0 0 0 0 1 1 1 0 1 1 1 1 0]\n",
      " [0 1 0 0 0 1 0 1 0 0 1 0 0 0 0 0 0 1 0 1 1]\n",
      " [0 1 0 0 0 1 0 1 0 1 1 1 0 1 0 1 1 0 0 1 1]\n",
      " [0 1 1 1 1 1 0 1 0 0 1 0 0 0 0 1 1 0 0 1 1]\n",
      " [0 0 0 0 0 0 0 1 0 0 1 1 0 1 1 0 1 1 1 0 1]]\n"
     ]
    }
   ],
   "source": [
    "qr_cells_numeric = np.ndarray((grid_cells_num, grid_cells_num), dtype=np.uint8)\n",
    "for i, row in enumerate(qr_cells):\n",
    "    for j, cell in enumerate(row):\n",
    "        qr_cells_numeric[i, j] = (np.median(cell) // 255)\n",
    "print(qr_cells_numeric)\n",
    "plt.show()"
   ],
   "metadata": {
    "collapsed": false
   }
  },
  {
   "cell_type": "markdown",
   "source": [
    "### Error correction level"
   ],
   "metadata": {
    "collapsed": false
   }
  },
  {
   "cell_type": "code",
   "execution_count": 589,
   "outputs": [
    {
     "name": "stdout",
     "output_type": "stream",
     "text": [
      "[0 0 0 0 0 1 0 0 0 1 1 0 1 0 1 0 1 0 1 0 1]\n"
     ]
    }
   ],
   "source": [
    "print(qr_cells_numeric[8])"
   ],
   "metadata": {
    "collapsed": false
   }
  },
  {
   "cell_type": "code",
   "execution_count": 590,
   "outputs": [
    {
     "name": "stdout",
     "output_type": "stream",
     "text": [
      "[1, 1]\n"
     ]
    }
   ],
   "source": [
    "# The first two bits determine the error correction level\n",
    "# Level L (Low)         [11]\t7%  of data bytes can be restored.\n",
    "# Level M (Medium)      [10]\t15% of data bytes can be restored.\n",
    "# Level Q (Quartile)    [01]\t25% of data bytes can be restored.\n",
    "# Level H (High)        [00]\t30% of data bytes can be restored.\n",
    "ecl = [int(not (c)) for c in qr_cells_numeric[8, 0:2]]\n",
    "# Why \"not\"? Because the standard uses '1's for black and '0's for white\n",
    "#\n",
    "# \"A dark module is a binary one and a light module is a binary zero.\"\n",
    "#  - ISO/IEC 18004:2000(E)\n",
    "#\n",
    "# In image processing, we use them the other way.. Hence the inversion\n",
    "print(ecl)\n",
    "# mask_pattern(qr_cells_numeric)"
   ],
   "metadata": {
    "collapsed": false
   }
  },
  {
   "cell_type": "markdown",
   "source": [
    "### Mask pattern"
   ],
   "metadata": {
    "collapsed": false
   }
  },
  {
   "cell_type": "code",
   "execution_count": 591,
   "outputs": [
    {
     "name": "stdout",
     "output_type": "stream",
     "text": [
      "111\n"
     ]
    }
   ],
   "source": [
    "# Dictionary of all masks and their equivalent formulae\n",
    "MASKS = {\n",
    "    \"000\": lambda i, j: (i * j) % 2 + (i * j) % 3 == 0,\n",
    "    \"001\": lambda i, j: (i / 2 + j / 3) % 2 == 0,\n",
    "    \"010\": lambda i, j: ((i * j) % 3 + i + j) % 2 == 0,\n",
    "    \"011\": lambda i, j: ((i * j) % 3 + i * j) % 2 == 0,\n",
    "    \"100\": lambda i, j: i % 2 == 0,\n",
    "    \"101\": lambda i, j: (i + j) % 2 == 0,\n",
    "    \"110\": lambda i, j: (i + j) % 3 == 0,\n",
    "    \"111\": lambda i, j: j % 3 == 0,\n",
    "}\n",
    "\n",
    "# Same row as above, the three cells after the ecl cells (converted to a string)\n",
    "mask = [int(not (c)) for c in qr_cells_numeric[8, 2:5]]\n",
    "mask_str = ''.join([str(c) for c in mask])\n",
    "print(mask_str)\n",
    "# format_error_correction(qr_cells_numeric)\n",
    "# plt.show()"
   ],
   "metadata": {
    "collapsed": false
   }
  },
  {
   "cell_type": "markdown",
   "source": [
    "### Format error correction"
   ],
   "metadata": {
    "collapsed": false
   }
  },
  {
   "cell_type": "code",
   "execution_count": 592,
   "outputs": [
    {
     "name": "stdout",
     "output_type": "stream",
     "text": [
      "[0, 1, 0, 1, 0, 1, 0, 1, 0, 1]\n"
     ]
    }
   ],
   "source": [
    "# Same row as above, but we want cells #5 and #7 (#6 is always set to 0),\n",
    "#  followed by column #8 from cell #0 in it to cell #7 (and skipping #6)\n",
    "fec = []\n",
    "fec.append(qr_cells_numeric[8, 5])\n",
    "fec.append(qr_cells_numeric[8, 7])\n",
    "fec.extend(qr_cells_numeric[0:6, 8])\n",
    "fec.extend(qr_cells_numeric[7:9, 8])\n",
    "fec = [int(not (c)) for c in fec]\n",
    "print(fec)"
   ],
   "metadata": {
    "collapsed": false
   }
  },
  {
   "cell_type": "code",
   "execution_count": 593,
   "outputs": [
    {
     "name": "stdout",
     "output_type": "stream",
     "text": [
      "[1, 1] [1, 1, 1] [0, 1, 0, 1, 0, 1, 0, 1, 0, 1]\n"
     ]
    }
   ],
   "source": [
    "# So in total we have the following 15 bits of format info from our QR code\n",
    "print(ecl, mask, fec)"
   ],
   "metadata": {
    "collapsed": false
   }
  },
  {
   "cell_type": "code",
   "execution_count": 594,
   "outputs": [
    {
     "data": {
      "text/plain": "<Figure size 500x500 with 441 Axes>",
      "image/png": "[encoded data removed]"
     },
     "metadata": {},
     "output_type": "display_data"
    }
   ],
   "source": [
    "# Let's cross-check with our example\n",
    "_, axes = plt.subplots(grid_cells_num, grid_cells_num, figsize=(5, 5))\n",
    "for i, row in enumerate(axes):\n",
    "    for j, col in enumerate(row):\n",
    "\n",
    "        col.get_xaxis().set_visible(False)\n",
    "        col.get_yaxis().set_visible(False)\n",
    "        if (i == 8 and j <= 8) or (i <= 8 and j == 8):\n",
    "            if (i != 6) and (j != 6):\n",
    "                col.imshow(qr_cells[i][j], cmap=\"gray\", vmin=0, vmax=255)\n",
    "                col.spines[:].set_color('red')\n",
    "                continue\n",
    "        col.imshow(qr_cells[i][j], cmap=\"gray\", vmin=-1275, vmax=510)\n",
    "    # print(ecl, mask, fec)"
   ],
   "metadata": {
    "collapsed": false
   }
  },
  {
   "cell_type": "code",
   "execution_count": 595,
   "outputs": [
    {
     "name": "stdout",
     "output_type": "stream",
     "text": [
      "[0, 1] [0, 1, 0] [0, 1, 0, 1, 0, 0, 0, 1, 1, 1]\n"
     ]
    }
   ],
   "source": [
    "# However..... You need to XOR that with the \"format mask\": 101010000010010\n",
    "ecl[0] ^= 1\n",
    "mask[0] ^= 1\n",
    "mask[2] ^= 1\n",
    "fec[5] ^= 1\n",
    "fec[8] ^= 1\n",
    "\n",
    "# And now we print...\n",
    "print(ecl, mask, fec)"
   ],
   "metadata": {
    "collapsed": false
   }
  },
  {
   "cell_type": "markdown",
   "source": [
    "## Data extraction\n"
   ],
   "metadata": {
    "collapsed": false
   }
  },
  {
   "cell_type": "code",
   "execution_count": 596,
   "outputs": [],
   "source": [
    "# Before we proceed, let's write a function for masking to make our lives easier\n",
    "UP, UP_ENC, DOWN, CW, CCW = range(5)  # A rather old-fashioned pythonic \"Enum\"\n",
    "\n",
    "def apply_mask(data_start_i, data_start_j, direction):\n",
    "    '''\n",
    "    data_start_i/j represent the first cell's coords in its respective direction\n",
    "    direction is the masking direction, up(-enc)/down/clockwise/anti-clockwise\n",
    "    '''\n",
    "    result = []\n",
    "    row_offsets = []\n",
    "    col_offsets = []\n",
    "    if (direction in [UP, UP_ENC]):\n",
    "        row_offsets = [0,  0, -1, -1, -2, -2, -3, -3]\n",
    "        col_offsets = [0, -1,  0, -1,  0, -1,  0, -1]\n",
    "    if (direction == DOWN):\n",
    "        row_offsets = [0,  0,  1,  1,  2,  2,  3,  3]\n",
    "        col_offsets = [0, -1,  0, -1,  0, -1,  0, -1]\n",
    "    if (direction == CW):\n",
    "        row_offsets = [0,  0,  1,  1,  1,  1,  0,  0]\n",
    "        col_offsets = [0, -1,  0, -1, -2, -3, -2, -3]\n",
    "    if (direction == CCW):\n",
    "        row_offsets = [0,  0, -1, -1, -1, -1,  0,  0]\n",
    "        col_offsets = [0, -1,  0, -1, -2, -3, -2, -3]\n",
    "\n",
    "    for i, j in zip(row_offsets, col_offsets):\n",
    "        cell = qr_cells_numeric[data_start_i+i, data_start_j+j]\n",
    "        result.append(int(cell if MASKS[mask_str](data_start_i+i, data_start_j+j) else not cell))\n",
    "\n",
    "    return result[:4] if direction == UP_ENC else result"
   ],
   "metadata": {
    "collapsed": false
   }
  },
  {
   "cell_type": "markdown",
   "source": [
    "### Data encoding"
   ],
   "metadata": {
    "collapsed": false
   }
  },
  {
   "cell_type": "code",
   "execution_count": 597,
   "outputs": [
    {
     "name": "stdout",
     "output_type": "stream",
     "text": [
      "[0, 1, 0, 0]\n"
     ]
    }
   ],
   "source": [
    "enc = apply_mask(grid_cells_num-1, grid_cells_num-1, UP_ENC)\n",
    "print(enc)"
   ],
   "metadata": {
    "collapsed": false
   }
  },
  {
   "cell_type": "markdown",
   "source": [
    "### Data length"
   ],
   "metadata": {
    "collapsed": false
   }
  },
  {
   "cell_type": "code",
   "execution_count": 598,
   "outputs": [
    {
     "name": "stdout",
     "output_type": "stream",
     "text": [
      "[0, 0, 0, 0, 1, 0, 0, 1]\n"
     ]
    }
   ],
   "source": [
    "length = apply_mask(grid_cells_num-3, grid_cells_num-1, UP)\n",
    "print(length)"
   ],
   "metadata": {
    "collapsed": false
   }
  },
  {
   "cell_type": "markdown",
   "source": [
    "### Data extraction"
   ],
   "metadata": {
    "collapsed": false
   }
  },
  {
   "cell_type": "code",
   "execution_count": 599,
   "outputs": [
    {
     "name": "stdout",
     "output_type": "stream",
     "text": [
      "01110111 = w\n",
      "01100001 = a\n",
      "01100001 = a\n",
      "01100001 = a\n",
      "01100001 = a\n",
      "01100001 = a\n",
      "01110110 = v\n",
      "01100101 = e\n",
      "01110011 = s\n",
      "0000 = 0 (NULL TERMINATOR)\n",
      "\n",
      "Decoded string: waaaaaves\n"
     ]
    }
   ],
   "source": [
    "data_starting_indices = [\n",
    "    [grid_cells_num-7, grid_cells_num-1, UP],\n",
    "    [grid_cells_num-11, grid_cells_num-1, CCW],\n",
    "    [grid_cells_num-10, grid_cells_num-3, DOWN],\n",
    "    [grid_cells_num-6, grid_cells_num-3, DOWN],\n",
    "    [grid_cells_num-2, grid_cells_num-3, CW],\n",
    "    [grid_cells_num-3, grid_cells_num-5, UP],\n",
    "    [grid_cells_num-7, grid_cells_num-5, UP],\n",
    "    [grid_cells_num-11, grid_cells_num-5, CCW],\n",
    "    [grid_cells_num-10, grid_cells_num-7, DOWN],\n",
    "    [grid_cells_num-6, grid_cells_num-7, DOWN],\n",
    "    [grid_cells_num-2, grid_cells_num-7, CW],\n",
    "    [grid_cells_num-3, grid_cells_num-9, UP],\n",
    "    [grid_cells_num-7, grid_cells_num-9, UP],\n",
    "    [grid_cells_num-11, grid_cells_num-9, UP],\n",
    "    [grid_cells_num-16, grid_cells_num-9, UP],\n",
    "    [grid_cells_num-20, grid_cells_num-9, CCW],\n",
    "    [grid_cells_num-19, grid_cells_num-11, DOWN],\n",
    "    [grid_cells_num-14, grid_cells_num-11, DOWN],\n",
    "    [grid_cells_num-10, grid_cells_num-11, DOWN],\n",
    "    [grid_cells_num-6, grid_cells_num-11, DOWN],\n",
    "    # Hmm..? I actually don't know how to proceed now lol\n",
    "]\n",
    "\n",
    "ans = ''\n",
    "for a, b, d in data_starting_indices:\n",
    "    bits = apply_mask(a, b, d)\n",
    "    bit_string = ''.join([str(bit) for bit in bits])\n",
    "    if bit_string[:4] == \"0000\":\n",
    "        print(f'{bit_string[:4]} = 0 (NULL TERMINATOR)')\n",
    "        break\n",
    "    ans += chr(int(bit_string, 2)) # converts to binary to int, then to ASCII\n",
    "    print(f'{bit_string} = {ans[-1]}')\n",
    "\n",
    "print(f'\\nDecoded string: {ans}')"
   ],
   "metadata": {
    "collapsed": false
   }
  }
 ],
 "metadata": {
  "kernelspec": {
   "display_name": "Python 3",
   "language": "python",
   "name": "python3"
  },
  "language_info": {
   "codemirror_mode": {
    "name": "ipython",
    "version": 2
   },
   "file_extension": ".py",
   "mimetype": "text/x-python",
   "name": "python",
   "nbconvert_exporter": "python",
   "pygments_lexer": "ipython2",
   "version": "2.7.6"
  }
 },
 "nbformat": 4,
 "nbformat_minor": 0
}
