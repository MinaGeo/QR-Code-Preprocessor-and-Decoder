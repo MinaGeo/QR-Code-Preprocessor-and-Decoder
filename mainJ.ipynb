{
 "cells": [
  {
   "cell_type": "markdown",
   "source": [
    "## **IMPORTS**|"
   ],
   "metadata": {
    "collapsed": false
   }
  },
  {
   "cell_type": "code",
   "execution_count": 2695,
   "metadata": {
    "collapsed": true
   },
   "outputs": [],
   "source": [
    "#IMPORTS\n",
    "import cv2\n",
    "import numpy as np\n",
    "import matplotlib.pyplot as plt\n",
    "import math\n",
    "# !pip install --upgrade reedsolo\n",
    "import reedsolo as rs\n",
    "from skimage.metrics import structural_similarity as compare_ssim\n",
    "from scipy.signal import medfilt2d"
   ]
  },
  {
   "cell_type": "code",
   "execution_count": 2696,
   "outputs": [],
   "source": [
    "fN = \"CSE483 Sp24 Project Test Cases/\" #folderName\n",
    "img_array = [fN+'01-Getting-started.png',fN+'02-Matsawar-3edel-ya3am.png', fN+'03-Leffy-bina-ya-donya.png',\n",
    "             fN+'04-Black-mirror.png',fN+'05-Caesar-cipher.png', fN+'06-Railfence-cipher.png',\n",
    "             fN+'07-THE-MIGHTY-FINGER.png', fN+'08-Compresso-Espresso.png', fN+'09-My-phone-fell-while-taking-this-one-...-or-did-it.png', fN+'10-Gone-With-The-Wind.png', fN+'11-weewooweewooweewoo.png',\n",
    "             fN+'12-mal7-w-felfel.png', fN+'13-2el-noor-2ata3.png',fN+'14-BANANAAA!!!.png',\n",
    "             fN+'15-beast-mode-computer-vision-(this-one-is-from-wikipedia).jpg',\n",
    "             fN+'16-V3-QR-Code...-can-you-do-it.png']\n",
    "\n",
    "TEST_CASE = 16\n",
    "if TEST_CASE!= 0:\n",
    "    img_address = img_array[TEST_CASE-1]\n",
    "else:\n",
    "    print(\"Enter correct TEST_CASE\")"
   ],
   "metadata": {
    "collapsed": false
   }
  },
  {
   "cell_type": "markdown",
   "source": [
    "## *PREPROCESSING*"
   ],
   "metadata": {
    "collapsed": false
   }
  },
  {
   "cell_type": "code",
   "execution_count": 2697,
   "outputs": [],
   "source": [
    "def median_filter(img, size):\n",
    "    median = cv2.medianBlur(img, size)\n",
    "    return median\n",
    "\n",
    "def smoothing_filter(img):\n",
    "\n",
    "    return 0\n",
    "\n",
    "def constrast_stretching(gray):\n",
    "    # Calculate the minimum and maximum pixel values\n",
    "    min_val = np.min(gray)\n",
    "    max_val = np.max(gray)\n",
    "\n",
    "    # Define the new minimum and maximum values for contrast stretching\n",
    "    new_min = 0\n",
    "    new_max = 255\n",
    "\n",
    "    # Apply contrast stretching\n",
    "    stretched_image = ((gray - min_val) / (max_val - min_val)) * (new_max - new_min) + new_min\n",
    "\n",
    "    # Convert the image back to uint8 format\n",
    "    stretched_image = np.uint8(stretched_image)\n",
    "    return stretched_image\n",
    "\n",
    "\n",
    "def brighten_filter(img_gray):\n",
    "    brightened_img = [pixel if (pixel >= 128) else pixel + 128 for pixel in img_gray.ravel()]\n",
    "    brightened_img_reshaped = np.reshape(brightened_img, img_gray.shape)\n",
    "    return brightened_img_reshaped\n",
    "\n",
    "def rotate_img(img):\n",
    "\n",
    "    # Rotate the image\n",
    "    rotated_img = cv2.rotate(img, cv2.ROTATE_90_COUNTERCLOCKWISE)\n",
    "    return rotated_img\n",
    "\n",
    "def show_histogram(img):\n",
    "    plt.figure(figsize=(9,8))\n",
    "    plt.hist(img.ravel(), bins=256)\n",
    "\n",
    "def sharpening_filter(img_gray, kernel_size):\n",
    "    image_float32 = np.float32(img_gray)\n",
    "    blurred = cv2.GaussianBlur(img_gray, (kernel_size, kernel_size), 0)\n",
    "    blurred_float32 = np.float32(blurred)\n",
    "\n",
    "    # Calculate the unsharp mask (original image - blurred image)\n",
    "    unsharp_mask = cv2.subtract(image_float32, blurred_float32)\n",
    "\n",
    "    # Add the unsharp mask to the original image to sharpen it\n",
    "    sharpened = cv2.add(image_float32, unsharp_mask)\n",
    "    sharpened = np.clip(sharpened, 0, 255)  # Clip values to 0-255 range\n",
    "    sharpened = np.uint8(sharpened)\n",
    "    return sharpened\n",
    "\n",
    "def opening_filter(img):\n",
    "    closed_img = cv2.morphologyEx(img, cv2.MORPH_CLOSE, cv2.getStructuringElement(cv2.MORPH_ELLIPSE, (13, 13)))\n",
    "    # plt.imshow(thresh1, cmap=\"grey\")\n",
    "\n",
    "    return closed_img\n",
    "\n",
    "def get_contours(img):\n",
    "    #img taken into the contours must be binarized (applying greyscale then threshold) for better accuracy\n",
    "\n",
    "    ## *object to be found should be white and background should be black* ##\n",
    "\n",
    "    # Find contours in the binary image\n",
    "    contours, _ = cv2.findContours(img, cv2.RETR_EXTERNAL, cv2.CHAIN_APPROX_SIMPLE)\n",
    "    # Find the contour with the largest area (assuming it's the outer frame of the QR code)\n",
    "    largest_contour = max(contours, key=cv2.contourArea)\n",
    "    # Get the bounding (corner points) of the rectangle of the contour\n",
    "    x, y, w, h = cv2.boundingRect(largest_contour)\n",
    "\n",
    "    # Crop the image to the bounding rectangle to Extract the QR code region\n",
    "    qr_code_frame = img[y:y+h, x:x+w]\n",
    "\n",
    "    # Straightening into a square (assuming the frame is already rectangular)\n",
    "    # Find the longer side of the rectangle\n",
    "    if w > h:\n",
    "        max_dim = w\n",
    "    else:\n",
    "        max_dim = h\n",
    "\n",
    "    # Create a square image with dimensions equal to the maximum dimension\n",
    "    square_img = np.zeros((max_dim, max_dim), dtype=np.uint8)\n",
    "    # Calculate the position to paste the rectangle in the center of the square image\n",
    "    x_pos = (max_dim - w) // 2\n",
    "    y_pos = (max_dim - h) // 2\n",
    "    # Paste the rectangle onto the square image\n",
    "    square_img[y_pos:y_pos+h, x_pos:x_pos+w] = qr_code_frame\n",
    "    return square_img\n",
    "\n",
    "def invert_qr(img):\n",
    "    inverted_img = cv2.bitwise_not(img)\n",
    "    return inverted_img\n",
    "\n",
    "def adaptive_threshold(img, blockSize, C):\n",
    "    adptv_threshed_img = cv2.adaptiveThreshold(\n",
    "    src=img,\n",
    "    maxValue=255,\n",
    "    adaptiveMethod=cv2.ADAPTIVE_THRESH_GAUSSIAN_C,  # read: https://docs.opencv.org/3.4/d7/d1b/group__imgproc__misc.html#gaa42a3e6ef26247da787bf34030ed772c\n",
    "    thresholdType=cv2.THRESH_BINARY,\n",
    "    blockSize=blockSize,  # NxN block size (odd) to perform adaptive threshold on\n",
    "    C=C  # Constant subtracted from the mean or weighted mean\n",
    "    )\n",
    "\n",
    "    return adptv_threshed_img\n",
    "\n",
    "\n",
    "def flip_image(img):\n",
    "    img = cv2.flip(img,1)\n",
    "    return img\n",
    "\n",
    "def fourier(image):\n",
    "    dft_img = np.fft.fft2(image)\n",
    "    dft_img_shift = np.fft.fftshift(dft_img)\n",
    "\n",
    "    return dft_img_shift\n",
    "\n",
    "def histogram_equalizer(img):\n",
    "    equalized_img = cv2.equalizeHist(img)\n",
    "    return equalized_img\n",
    "\n",
    "def shift_image(image, dx, dy):\n",
    "    shifted_image = np.roll(image, dy, axis=0)  # Shift rows\n",
    "    shifted_image = np.roll(shifted_image, dx, axis=1)  # Shift columns\n",
    "    return shifted_image\n",
    "\n",
    "def replicate_padding(image, padding_size):\n",
    "    return cv2.copyMakeBorder(image, padding_size, padding_size, padding_size, padding_size, cv2.BORDER_REPLICATE)\n",
    "\n",
    "def zero_padding(image, padding_size):\n",
    "    return cv2.copyMakeBorder(image, padding_size, padding_size, padding_size, padding_size, cv2.BORDER_CONSTANT, value=0)\n",
    "\n",
    "def ones_padding(image, padding_size):\n",
    "    return cv2.copyMakeBorder(image, padding_size, padding_size, padding_size, padding_size, cv2.BORDER_CONSTANT, value=255)\n",
    "\n",
    "def mirror_padding(image, padding_size):\n",
    "    return cv2.copyMakeBorder(image, padding_size, padding_size, padding_size, padding_size, cv2.BORDER_REFLECT)\n",
    "\n",
    "def straighten_image(image, edges_hough_lines):\n",
    "\n",
    "    # Calculate rotation angle\n",
    "    angle_sum = 0\n",
    "    for line in edges_hough_lines:\n",
    "        x1, y1, x2, y2 = line[0]\n",
    "        angle = np.arctan2(y2 - y1, x2 - x1) * 180 / np.pi\n",
    "        angle_sum += angle\n",
    "    rotation_angle = angle_sum / len(edges_hough_lines)\n",
    "\n",
    "    image = ones_padding(image,0)\n",
    "    print(\"Rotation angle:\", rotation_angle)\n",
    "    # Reverse the rotation\n",
    "    (h, w) = image.shape[:2]\n",
    "    center = (w / 2, h / 2)\n",
    "    M = cv2.getRotationMatrix2D(center, -8, 1.0)\n",
    "    rotated_image = cv2.warpAffine(image, M, (w, h), flags=cv2.INTER_LINEAR, borderValue=(255, 255, 255))\n",
    "    return rotated_image\n",
    "\n",
    "\n",
    "def binary_threshold(img, threshold):\n",
    "    _, thresholded_image = cv2.threshold(img, threshold, 255, cv2.THRESH_BINARY)\n",
    "    return thresholded_image\n"
   ],
   "metadata": {
    "collapsed": false
   }
  },
  {
   "cell_type": "markdown",
   "source": [
    "## *Filter functions*"
   ],
   "metadata": {
    "collapsed": false
   }
  },
  {
   "cell_type": "code",
   "execution_count": 2698,
   "outputs": [],
   "source": [
    "def give_me_circle_mask_nowww(mask_size, radius):\n",
    "    mask = np.zeros(mask_size)\n",
    "    cy = mask.shape[0] // 2\n",
    "    cx = mask.shape[1] // 2\n",
    "    return cv2.circle(mask, (cx,cy), radius, (255,255,255), -1).astype(np.uint8)\n",
    "\n",
    "def try_lowpass(dft_img, limit, gaussian: bool = False):\n",
    "    mask = give_me_circle_mask_nowww(dft_img.shape, limit)\n",
    "    if (gaussian):\n",
    "        mask = cv2.GaussianBlur(mask, (21,21), 0)\n",
    "    dft_img_shifted = np.fft.fftshift(dft_img)\n",
    "    dft_img_shifted_lowpass = np.multiply(dft_img_shifted, mask)\n",
    "    # Step 3: Convert back to spatial domain\n",
    "    f_ishift = np.fft.ifftshift(dft_img_shifted_lowpass)\n",
    "    img_back = np.fft.ifft2(f_ishift)\n",
    "    img_back = np.abs(img_back)\n",
    "    return img_back\n",
    "\n",
    "def try_highpass(dft_img, limit, gaussian: bool = False, keep_dc: bool = False):\n",
    "    mask = ~give_me_circle_mask_nowww(dft_img.shape, limit)\n",
    "    if (gaussian):\n",
    "        mask = cv2.GaussianBlur(mask, (21,21), 0)\n",
    "    if (keep_dc):\n",
    "        mask[dft_img.shape[0]//2, dft_img.shape[1]//2] = 255\n",
    "    dft_img_shifted = np.fft.fftshift(dft_img)\n",
    "    dft_img_shifted_highpass = np.multiply(dft_img_shifted, mask)\n",
    "    # Step 3: Convert back to spatial domain\n",
    "    f_ishift = np.fft.ifftshift(dft_img_shifted_highpass)\n",
    "    img_back = np.fft.ifft2(f_ishift)\n",
    "    img_back = np.abs(img_back)\n",
    "\n",
    "    # Normalize pixel values to range [0, 255]\n",
    "    img_back = cv2.normalize(img_back, None, alpha=0, beta=255, norm_type=cv2.NORM_MINMAX, dtype=cv2.CV_8U)\n",
    "\n",
    "    return img_back\n",
    "\n",
    "def plot_shifted_fft_and_ifft(dft_img_shifted):\n",
    "    img = np.fft.ifft2(np.fft.ifftshift(dft_img_shifted))\n",
    "    fig, (ax1, ax2) = plt.subplots(figsize=(10, 5), nrows=1, ncols=2)\n",
    "    ax1.set(yticks=[0, img.shape[0]//2, img.shape[0] - 1], yticklabels=[-img.shape[0]//2, 0, img.shape[0]//2 - 1])\n",
    "    ax1.set(xticks=[0, img.shape[1]//2, img.shape[1] - 1], xticklabels=[-img.shape[1]//2, 0, img.shape[1]//2 - 1])\n",
    "    ax1.imshow(np.abs(dft_img_shifted)**0.1, cmap = 'gray')\n",
    "    ax2.imshow(np.abs(img), cmap = 'gray')\n",
    "    return dft_img_shifted"
   ],
   "metadata": {
    "collapsed": false
   }
  },
  {
   "cell_type": "code",
   "execution_count": 2699,
   "outputs": [],
   "source": [
    "def biggestContour (contours):\n",
    "    biggest=np.array([])\n",
    "\n",
    "    max_area=0\n",
    "    for i in contours:\n",
    "        area=cv2.contourArea(i)\n",
    "        if area>1000:\n",
    "            peri=cv2.arcLength(i,True)\n",
    "            approx=cv2.approxPolyDP(i,0.02*peri,True)\n",
    "            if area > max_area and len(approx)==4:\n",
    "                biggest=approx\n",
    "                max_area=area\n",
    "    return biggest,max_area\n",
    "def reorder(myPoints):\n",
    "    myPoints=myPoints.reshape((4,2))\n",
    "    myPointsNew=np.zeros((4,1,2),dtype=np.int32)\n",
    "    add=myPoints.sum(1)\n",
    "    myPointsNew[0]=myPoints[np.argmin(add)]\n",
    "    myPointsNew[3]=myPoints[np.argmax(add)]\n",
    "    diff=np.diff(myPoints,axis=1)\n",
    "    myPointsNew[1]=myPoints[np.argmin(diff)]\n",
    "    myPointsNew[2]=myPoints[np.argmax(diff)]\n",
    "    return myPointsNew"
   ],
   "metadata": {
    "collapsed": false
   }
  },
  {
   "cell_type": "markdown",
   "source": [
    "### Finding the placement boxes contours"
   ],
   "metadata": {
    "collapsed": false
   }
  },
  {
   "cell_type": "code",
   "execution_count": 2699,
   "outputs": [],
   "source": [],
   "metadata": {
    "collapsed": false
   }
  },
  {
   "cell_type": "code",
   "execution_count": 2700,
   "outputs": [
    {
     "name": "stdout",
     "output_type": "stream",
     "text": [
      "41198.0\n",
      "Box  1 Width:  204 , Height:  204\n",
      "Box  2 Width:  204 , Height:  204\n",
      "Box  3 Width:  204 , Height:  204\n",
      "Bounding Box Size: (width=204, height=204)\n",
      "max value 782\n",
      "min value 28\n",
      "Rotate flag:  False\n",
      "Mirror flag:  False\n",
      "Bounding Box 1: (x=28, y=782)\n",
      "Bounding Box 2: (x=782, y=28)\n",
      "Bounding Box 3: (x=28, y=28)\n"
     ]
    },
    {
     "data": {
      "text/plain": "<Figure size 700x700 with 2 Axes>",
      "image/png": "[encoded data removed]"
     },
     "metadata": {},
     "output_type": "display_data"
    }
   ],
   "source": [
    "try:\n",
    "    fig, axes = plt.subplots(1, 2, figsize=(7, 7))\n",
    "    RotateFlag = False\n",
    "    MirrorFlag = False\n",
    "    image = cv2.imread(img_address)\n",
    "    gray = cv2.cvtColor(image, cv2.COLOR_BGR2GRAY)\n",
    "    blurred = cv2.GaussianBlur(gray, (5, 5), 0)\n",
    "    edges = cv2.Canny(blurred, 50, 150)\n",
    "    contours, _ = cv2.findContours(edges.copy(), cv2.RETR_EXTERNAL, cv2.CHAIN_APPROX_SIMPLE)\n",
    "    # Filter contours with area greater than 120,000\n",
    "    filtered_contours = [contour for contour in contours if cv2.contourArea(contour) <= 120000]\n",
    "\n",
    "    # If all contours have area greater than 120,000, consider original contours\n",
    "    if len(filtered_contours) == 0:\n",
    "        filtered_contours = contours\n",
    "\n",
    "    # Find the maximum area among the filtered contours\n",
    "    max_area = max(cv2.contourArea(contour) for contour in filtered_contours)\n",
    "\n",
    "    print(max_area)\n",
    "    largest_contours = [contour for contour in filtered_contours if cv2.contourArea(contour) > 0.9 * max_area]\n",
    "    # largest_contours = [contour for contour in contours]\n",
    "\n",
    "    bounding_box_coordinates = []\n",
    "    bounding_box_width = 0\n",
    "    bounding_box_height = 0\n",
    "    counter = 1\n",
    "    for contour in largest_contours:\n",
    "        x, y, w, h = cv2.boundingRect(contour)\n",
    "        bounding_box_coordinates.append((x, y))\n",
    "        bounding_box_width = w\n",
    "        bounding_box_height = h\n",
    "        print(\"Box \", counter, \"Width: \", bounding_box_width, \", Height: \",bounding_box_height)\n",
    "        counter+=1\n",
    "\n",
    "    print(f\"Bounding Box Size: (width={bounding_box_width}, height={bounding_box_height})\")\n",
    "    all_values = [value for pair in bounding_box_coordinates for value in pair]\n",
    "    max_value = max(all_values)\n",
    "    print(\"max value\", max_value)\n",
    "    min_value = min(all_values)\n",
    "    print(\"min value\", min_value)\n",
    "\n",
    "    threshold = 10  # You can adjust this threshold as needed\n",
    "\n",
    "    # Create arrays for values around min_value and max_value within the threshold\n",
    "    min_value_array = list(range(min_value - threshold, min_value + threshold + 1))\n",
    "    max_value_array = list(range(max_value - threshold, max_value + threshold + 1))\n",
    "\n",
    "    if len(bounding_box_coordinates)>1:\n",
    "        # Check if any point has x == max_value and y == max_value\n",
    "        max_value_points = any(x == max_value and y == max_value for x, y in bounding_box_coordinates)\n",
    "\n",
    "        # Check if any point has x == min_value and y == max_value\n",
    "        min_value_points = any((x in min_value_array and y in max_value_array) for x, y in bounding_box_coordinates)\n",
    "\n",
    "        min_value = any(x == min_value and y == min_value for x, y in bounding_box_coordinates)\n",
    "        # Set RotateFlag based on conditions\n",
    "        if max_value_points and min_value_points:\n",
    "            RotateFlag = True\n",
    "        if not min_value_points:\n",
    "            MirrorFlag = True\n",
    "\n",
    "\n",
    "    print(\"Rotate flag: \", RotateFlag)\n",
    "    print(\"Mirror flag: \", MirrorFlag)\n",
    "\n",
    "    for i, (x, y) in enumerate(bounding_box_coordinates):\n",
    "        print(f\"Bounding Box {i + 1}: (x={x}, y={y})\")\n",
    "    image_with_contours = image.copy()\n",
    "    cv2.drawContours(image_with_contours, largest_contours, -1, (0, 0, 255), 2)\n",
    "    image_with_contours_rgb = cv2.cvtColor(image_with_contours, cv2.COLOR_BGR2RGB)\n",
    "    axes[0].imshow(cv2.cvtColor(image, cv2.COLOR_BGR2RGB))\n",
    "    axes[0].set_title('Original Image')\n",
    "    axes[0].axis('off')\n",
    "\n",
    "    if RotateFlag == True:\n",
    "        axes[1].imshow(image_with_contours_rgb)\n",
    "        axes[1].set_title('Image with Contours after rotations')\n",
    "        axes[1].axis('off')\n",
    "    else:\n",
    "            # Plot the image with contours\n",
    "        axes[1].imshow(image_with_contours_rgb)\n",
    "        axes[1].set_title('Image with Contours')\n",
    "        axes[1].axis('off')\n",
    "    plt.show()\n",
    "except Exception as e:\n",
    "    print(\"Error:\", e)\n",
    "    # return none"
   ],
   "metadata": {
    "collapsed": false
   }
  },
  {
   "cell_type": "code",
   "execution_count": 2701,
   "outputs": [],
   "source": [
    "def detect_and_remove_sin_noise(image):\n",
    "    if len(image.shape) > 2:\n",
    "        image = np.mean(image, axis=2)\n",
    "    # Compute the 2D discrete Fourier Transform\n",
    "    dft = np.fft.fft2(image)\n",
    "\n",
    "    # Shift the zero-frequency component to the center of the spectrum\n",
    "    dft_shift = np.fft.fftshift(dft)\n",
    "\n",
    "    # Compute the magnitude spectrum\n",
    "    magnitude_spectrum = np.abs(dft_shift)\n",
    "\n",
    "    # Threshold the magnitude spectrum to detect significant peaks\n",
    "    threshold = 0.1 * np.max(magnitude_spectrum)\n",
    "    peaks = np.where(magnitude_spectrum > threshold)\n",
    "\n",
    "    # Convert the peak coordinates to frequency space\n",
    "    rows, cols = image.shape\n",
    "    center_row, center_col = rows // 2, cols // 2\n",
    "    frequencies = np.array(peaks) - np.array([[center_row], [center_col]])\n",
    "\n",
    "    sineFlag = False\n",
    "\n",
    "    # Check if only one sinusoidal frequency is detected\n",
    "    if len(frequencies[0]) <= 3 and len(frequencies[0]>0) :\n",
    "        # Print detected sinusoidal noise frequencies\n",
    "        print(\"Detected sinusoidal noise frequencies:\")\n",
    "        for freq in zip(frequencies[0], frequencies[1]):\n",
    "             print(\"Frequency: {},{} (in pixels)\".format(freq[0], freq[1]))\n",
    "        # Remove the detected frequency from the shifted DFT\n",
    "        freq_row, freq_col = frequencies[0][0], frequencies[1][0]\n",
    "        dft_shift[center_row + freq_row, center_col + freq_col] = 0\n",
    "        dft_shift[center_row - freq_row, center_col - freq_col] = 0\n",
    "\n",
    "        # Compute the inverse shift to prepare for inverse FFT\n",
    "        dft_unshifted = np.fft.ifftshift(dft_shift)\n",
    "\n",
    "        # Compute the inverse 2D discrete Fourier Transform\n",
    "        filtered_image = np.fft.ifft2(dft_unshifted).real\n",
    "        print(type(frequencies))\n",
    "\n",
    "        # Normalize pixel values to range [0, 255]\n",
    "        img_back = cv2.normalize(filtered_image, None, alpha=0, beta=255, norm_type=cv2.NORM_MINMAX, dtype=cv2.CV_8U)\n",
    "        if frequencies.size == 2 and frequencies[0] == 0 and frequencies[1] == 0:\n",
    "            sineFlag = False\n",
    "        elif (0, 1) in zip(frequencies[0], frequencies[1]) and (0, -1) in zip(frequencies[0], frequencies[1]):\n",
    "            sineFlag = False\n",
    "        else:\n",
    "            sineFlag = True\n",
    "        return img_back, sineFlag\n",
    "    else:\n",
    "        print(\"More than one sinusoidal frequency detected. Skipping noise removal.\")\n",
    "        return image, sineFlag"
   ],
   "metadata": {
    "collapsed": false
   }
  },
  {
   "cell_type": "code",
   "execution_count": 2702,
   "outputs": [],
   "source": [
    "def warp_affining_procedure(img, canny_threshold1, canny_threshold2, theta_rad, threshold, minLineLength, maxLineGap, px, py):\n",
    "\n",
    "    edges_img = img\n",
    "    # Apply Canny edge detection\n",
    "    edges_canny = cv2.Canny(image=edges_img, apertureSize=3, threshold1=canny_threshold1, threshold2=canny_threshold2, L2gradient=True)\n",
    "\n",
    "    # Define Hough Transform parameters using sliders\n",
    "    rho = 1               # @param {type:\"slider\", min:1, max:100, step:1}\n",
    "    theta_rad = theta_rad    # @param {type:\"slider\", min:0.00001, max:0.1, step:0.00001}\n",
    "    threshold = threshold       # @param {type:\"slider\", min:0, max:400, step:1}\n",
    "    minLineLength = minLineLength    # @param {type:\"slider\", min:0, max:800, step:1}\n",
    "    maxLineGap = maxLineGap\n",
    "\n",
    "    # Detect lines using Hough Transform\n",
    "    edges_hough_lines = cv2.HoughLinesP(edges_canny, rho, theta_rad, threshold, None, minLineLength, maxLineGap)\n",
    "\n",
    "    # Calculate rotation angle\n",
    "    # angle_sum = 0\n",
    "    # for line in edges_hough_lines:\n",
    "    #     x1, y1, x2, y2 = line[0]\n",
    "    #     angle = np.arctan2(y2 - y1, x2 - x1) * 180 / np.pi\n",
    "    #     angle_sum += angle\n",
    "    # rotation_angle = angle_sum / len(edges_hough_lines)\n",
    "    # if rotation_angle<0:\n",
    "    #     shape_image = ones_padding(edges_img,0)\n",
    "    #     print(\"Rotation angle:\", rotation_angle)\n",
    "    #     # Reverse the rotation\n",
    "    #     (shape_image_height,shape_image_width) = shape_image.shape[:2]\n",
    "    #     center = (shape_image_width / 2, shape_image_height / 2)\n",
    "    #     M = cv2.getRotationMatrix2D(center, -8, 1.0)\n",
    "    #     rotated_image = cv2.warpAffine(image, M, (shape_image_width, shape_image_height), flags=cv2.INTER_LINEAR, borderValue=(255,255,255))\n",
    "    #     plt.imshow(rotated_image)\n",
    "    #     return rotated_image\n",
    "\n",
    "    # Create an image to draw the detected lines\n",
    "    edges_hough = cv2.cvtColor((edges_img // 3) * 2, cv2.COLOR_GRAY2BGR)\n",
    "\n",
    "    # Draw the detected lines on a copy of the original image\n",
    "    image_with_lines = edges_img.copy()\n",
    "\n",
    "    # Draw the detected lines on the image\n",
    "    if edges_hough_lines is not None:\n",
    "        for line in edges_hough_lines:\n",
    "            x1, y1, x2, y2 = line[0]\n",
    "            cv2.line(image_with_lines, (x1, y1), (x2, y2), (0, 0, 255), 2)\n",
    "\n",
    "    img_gray_threshed = cv2.adaptiveThreshold(src=image_with_lines,\n",
    "            maxValue=255,\n",
    "            adaptiveMethod=cv2.ADAPTIVE_THRESH_GAUSSIAN_C,\n",
    "            thresholdType=cv2.THRESH_BINARY_INV,\n",
    "            blockSize=105,\n",
    "            C=1\n",
    "    )\n",
    "    heightImg=924\n",
    "    widthImg=924\n",
    "    imgContours=image_with_lines.copy()\n",
    "    imgBigContour=image_with_lines.copy()\n",
    "    contours, hierarchy, =cv2.findContours(img_gray_threshed,cv2.RETR_EXTERNAL,cv2.CHAIN_APPROX_SIMPLE)\n",
    "    cv2.drawContours(imgContours,contours,-1,(255,50,0),10)\n",
    "    biggest,maxArea=biggestContour(contours)\n",
    "    if biggest.size !=0:\n",
    "        biggest=reorder(biggest)\n",
    "        cv2.drawContours(imgBigContour,biggest,-1,(0,255,0),20)\n",
    "        if biggest.size != 0:\n",
    "            biggest[-1][0][0] += px  # Add 20 pixels to x-coordinate of the last point\n",
    "            biggest[-1][0][1] += py # Add 20 pixels to y-coordinate of the last point\n",
    "\n",
    "        for point in biggest:\n",
    "            x, y = point[0]\n",
    "            # cv2.circle(imgContours, (x, y), 10, (0, 0, 255), -1)\n",
    "            print(f\"Corner Point: ({x}, {y})\")\n",
    "        pts1=np.float32(biggest)\n",
    "        pts2=np.float32([[0,0],[widthImg,0],[0,heightImg],[widthImg,heightImg]])\n",
    "        matrix=cv2.getPerspectiveTransform(pts1,pts2)\n",
    "        imgWarpedgrey=cv2.warpPerspective(edges_img,matrix,(widthImg,heightImg))\n",
    "        if check_valid_image(imgWarpedgrey):\n",
    "            # square_se = cv2.getStructuringElement(cv2.MORPH_RECT, (13, 13))\n",
    "            # edges_img = cv2.dilate(edges_img, square_se)\n",
    "            return edges_img, edges_hough_lines\n",
    "        else:\n",
    "            print(\"Image got warped\")\n",
    "            return imgWarpedgrey, edges_hough_lines\n",
    "    else:\n",
    "        print(\"Image did not get warped\")\n",
    "        return edges_img, edges_hough_lines\n",
    "        # imgDetectedDigits=imgBlank.copy()\n"
   ],
   "metadata": {
    "collapsed": false
   }
  },
  {
   "cell_type": "code",
   "execution_count": 2703,
   "outputs": [],
   "source": [
    "def check_valid_image(img):\n",
    "    hist = cv2.calcHist([img],[0],None,[256],[0,256])\n",
    "    black_pixels = hist[0:175]\n",
    "    white_pixels = hist[175:256]\n",
    "    NotValid = False\n",
    "    # Calculate total pixels in black and white histograms\n",
    "    total_black_pixels = int(np.sum(black_pixels))\n",
    "    total_white_pixels = int(np.sum(white_pixels))\n",
    "\n",
    "    if total_black_pixels>total_white_pixels:\n",
    "        # Compute the difference\n",
    "        difference = total_black_pixels - total_white_pixels\n",
    "        if difference>600000:\n",
    "            NotValid = True\n",
    "    else:\n",
    "        difference = total_white_pixels - total_black_pixels\n",
    "        if difference>600000:\n",
    "            NotValid = True\n",
    "\n",
    "    return NotValid"
   ],
   "metadata": {
    "collapsed": false
   }
  },
  {
   "cell_type": "code",
   "execution_count": 2704,
   "outputs": [],
   "source": [
    "def check_histogram_equalizer(img):\n",
    "    hist = cv2.calcHist([img],[0],None,[256],[0,256])\n",
    "\n",
    "    black_pixels = hist[0:175]\n",
    "    white_pixels = hist[175:256]\n",
    "    EqualizeFlag = False\n",
    "    # Calculate total pixels in black and white histograms\n",
    "    total_black_pixels = int(np.sum(black_pixels))\n",
    "    total_white_pixels = int(np.sum(white_pixels))\n",
    "\n",
    "\n",
    "    if total_black_pixels>total_white_pixels:\n",
    "        # Compute the difference\n",
    "        difference = total_black_pixels - total_white_pixels\n",
    "        if difference>980000:\n",
    "            EqualizeFlag = True\n",
    "    else:\n",
    "        difference = total_white_pixels - total_black_pixels\n",
    "        if difference>980000:\n",
    "            EqualizeFlag = True\n",
    "\n",
    "    print(\"Total black pixels:\", total_black_pixels)\n",
    "    print(\"Total white pixels:\", total_white_pixels)\n",
    "    print(\"Difference:\", difference)\n",
    "    return EqualizeFlag\n",
    "\n",
    "def check_for_erosion(img):\n",
    "    hist = cv2.calcHist([img],[0],None,[256],[0,256])\n",
    "\n",
    "    black_pixels = hist[0:175]\n",
    "    white_pixels = hist[175:256]\n",
    "    ErosionFlag = False\n",
    "    DilationFlag = False\n",
    "    # Calculate total pixels in black and white histograms\n",
    "    total_black_pixels = int(np.sum(black_pixels))\n",
    "    total_white_pixels = int(np.sum(white_pixels))\n",
    "    print(\"Total black pixels after preprocessing:\", total_black_pixels)\n",
    "    print(\"Total white pixels after preprocessing:\", total_white_pixels)\n",
    "    if total_black_pixels>total_white_pixels:\n",
    "        # Compute the difference\n",
    "        difference = total_black_pixels - total_white_pixels\n",
    "        if difference>480000:\n",
    "            ErosionFlag = False\n",
    "            DilationFlag = True\n",
    "\n",
    "    elif total_black_pixels<total_white_pixels:\n",
    "        difference = total_white_pixels - total_black_pixels\n",
    "        if difference>400000:\n",
    "            ErosionFlag = True\n",
    "            DilationFlag = False\n",
    "\n",
    "    return ErosionFlag, DilationFlag"
   ],
   "metadata": {
    "collapsed": false
   }
  },
  {
   "cell_type": "code",
   "execution_count": 2705,
   "outputs": [],
   "source": [
    "def print_histogram_as_list(image):\n",
    "    # Calculate histogram\n",
    "    hist = cv2.calcHist([image], [0], None, [256], [0, 256])\n",
    "\n",
    "    # Convert histogram to list\n",
    "    hist_list = hist.flatten().tolist()\n",
    "\n",
    "    # Print histogram as list\n",
    "    print(\"Histogram as list:\")\n",
    "    for i, freq in enumerate(hist_list):\n",
    "        print(f\"Bin {i}: {int(freq)}\")\n",
    "\n",
    "def find_max_min_bins(hist):\n",
    "    max_bin = 0\n",
    "    min_bin = 255\n",
    "    for i in range(len(hist)):\n",
    "        if hist[i] > 0:\n",
    "            if i > max_bin:\n",
    "                max_bin = i\n",
    "            if i < min_bin:\n",
    "                min_bin = i\n",
    "    return max_bin, min_bin\n",
    "\n",
    "def threshold_image(image,hist, max_bin, min_bin):\n",
    "    threshold_value = min_bin\n",
    "    flag = False\n",
    "    for bin in range(min_bin+1, max_bin):\n",
    "        if hist[bin] > 0:\n",
    "            flag = True\n",
    "            break\n",
    "    if flag:\n",
    "        temp = 0\n",
    "        for bin in range(min_bin+1, max_bin):\n",
    "            if hist[bin] > 0:\n",
    "                if hist[bin] > 30000 and hist[bin] > temp:\n",
    "                    threshold_value = bin\n",
    "                    temp = hist[bin]\n",
    "        if temp == 0:\n",
    "          threshold_value = 128\n",
    "    print(\"Threshold value: \", threshold_value)\n",
    "    _, thresholded_image = cv2.threshold(image, threshold_value, 255, cv2.THRESH_BINARY)\n",
    "    return thresholded_image\n",
    "\n",
    "def check_for_blurring(image):\n",
    "    blurringFlag = False\n",
    "    # Calculate the histogram\n",
    "    hist = cv2.calcHist([image],[0],None,[256],[0,256])\n",
    "    # print_histogram_as_list(image)\n",
    "    # Extract the bins with non-zero counts\n",
    "    non_zero_bins = np.sum(hist > 1000)\n",
    "\n",
    "    if non_zero_bins>245:\n",
    "        blurringFlag = True\n",
    "    return blurringFlag\n",
    "\n",
    "def check_for_blurring_and_sharpening(image):\n",
    "    flag = False\n",
    "    blurringFlag = False\n",
    "    sharpeningFlag = False\n",
    "    mean =0\n",
    "    # Calculate the histogram\n",
    "    hist = cv2.calcHist([image],[0],None,[256],[0,256])\n",
    "    # print_histogram_as_list(image)\n",
    "    # Extract the bins with non-zero counts\n",
    "    max_bin = 0\n",
    "    min_bin = 255\n",
    "    for i in range(len(hist)):\n",
    "        if hist[i] > 0:\n",
    "            if i > max_bin:\n",
    "                max_bin = i\n",
    "            if i < min_bin:\n",
    "                min_bin = i\n",
    "    non_zero_bins = np.sum(hist > 1000)\n",
    "    for bin in range(min_bin+1, max_bin):\n",
    "        if hist[bin] > 0:\n",
    "            flag = True\n",
    "            break\n",
    "    if flag and non_zero_bins>245:\n",
    "        sum = 0\n",
    "        for bin in range(min_bin+1, max_bin):\n",
    "          sum+=hist[bin]\n",
    "        mean = sum/(non_zero_bins-2)\n",
    "\n",
    "    if 1000 < mean < 3000 and flag and non_zero_bins>245:\n",
    "        blurringFlag = True\n",
    "    elif mean> 3000 and flag and non_zero_bins>245:\n",
    "        sharpeningFlag = True\n",
    "\n",
    "    return blurringFlag, sharpeningFlag\n",
    "\n",
    "def checkInversion(image):\n",
    "    black_count=0\n",
    "    white_count=0\n",
    "    invertFlag=False\n",
    "    hist = cv2.calcHist([image],[0],None,[256],[0,256])\n",
    "    max,min=find_max_min_bins(hist)\n",
    "    # print_histogram_as_list(image)\n",
    "    if (max-min) <30:\n",
    "      return False\n",
    "    for i in range(0,128):\n",
    "      if hist[i]>0:\n",
    "        black_count = black_count+1\n",
    "    for i in range(128,256):\n",
    "      if hist[i]>0:\n",
    "        white_count = white_count+1\n",
    "    if black_count > white_count:\n",
    "      invertFlag=True\n",
    "    return invertFlag"
   ],
   "metadata": {
    "collapsed": false
   }
  },
  {
   "cell_type": "markdown",
   "source": [
    "#### **Importing image and binarizing (making it either 0 or 255)**"
   ],
   "metadata": {
    "collapsed": false
   }
  },
  {
   "cell_type": "markdown",
   "source": [
    "# *PREPROCESSING*"
   ],
   "metadata": {
    "collapsed": false
   }
  },
  {
   "cell_type": "code",
   "execution_count": 2706,
   "outputs": [
    {
     "name": "stdout",
     "output_type": "stream",
     "text": [
      "Detected sinusoidal noise frequencies:\n",
      "Frequency: 0,0 (in pixels)\n",
      "<class 'numpy.ndarray'>\n",
      "Total black pixels: 476006\n",
      "Total white pixels: 554219\n",
      "Difference: 78213\n",
      "Image did not get warped\n",
      "Threshold value:  0\n",
      "Total black pixels after preprocessing: 476006\n",
      "Total white pixels after preprocessing: 554219\n"
     ]
    },
    {
     "data": {
      "text/plain": "(-0.5, 1014.5, 1014.5, -0.5)"
     },
     "execution_count": 2706,
     "metadata": {},
     "output_type": "execute_result"
    },
    {
     "data": {
      "text/plain": "<Figure size 1000x1000 with 2 Axes>",
      "image/png": "[encoded data removed]"
     },
     "metadata": {},
     "output_type": "display_data"
    }
   ],
   "source": [
    "image = cv2.imread(img_address, cv2.IMREAD_GRAYSCALE)\n",
    "img = cv2.imread(img_address, cv2.IMREAD_GRAYSCALE)\n",
    "test_case = TEST_CASE\n",
    "# GENERIC TEST CASES: 1,3,5,6,7,8,10,11,12,13,14,15,16\n",
    "# **************************************************************#\n",
    "# GENERIC PREPROCESSING\n",
    "\n",
    "# img = cv2.GaussianBlur(img, (5, 5), 1)  # makes image blur\n",
    "# img = cv2.Canny(img, 10, 50)  # makes image canny\n",
    "img, sineFlag = detect_and_remove_sin_noise(img) # check and remove sine waves\n",
    "\n",
    "EqualizeFlag = check_histogram_equalizer(img) #check if image need histogram_equalizer\n",
    "BlurringFlag, SharpeningFlag = check_for_blurring_and_sharpening(img)\n",
    "invertFlag = checkInversion(img)\n",
    "\n",
    "if invertFlag:\n",
    "    print(\"Image got inverted\")\n",
    "    img = invert_qr(img)\n",
    "\n",
    "if EqualizeFlag:\n",
    "    print(\"Image got histogram equalized\")\n",
    "    img = histogram_equalizer(img)\n",
    "\n",
    "if RotateFlag:\n",
    "   print(\"Image got rotated\")\n",
    "   img = cv2.rotate(image, cv2.ROTATE_180)\n",
    "\n",
    "if BlurringFlag and not SharpeningFlag:\n",
    "    print(\"Image got blurred\")\n",
    "    img = median_filter(img,31)\n",
    "\n",
    "if SharpeningFlag and not BlurringFlag:\n",
    "    print(\"Image got sharpened\")\n",
    "    sharpeninig_kernel = np.array([[-3,-3,-3],[-3,27,-3],[-3,-3,-3]])\n",
    "    img = cv2.filter2D(image,-1, sharpeninig_kernel)\n",
    "\n",
    "if MirrorFlag:\n",
    "    img = flip_image(img)\n",
    "\n",
    "# ******************************************************************************* #\n",
    "if test_case==2:\n",
    "    image_padding = ones_padding(img,50)\n",
    "    img, _ = warp_affining_procedure(image_padding, canny_threshold1= 100,canny_threshold2 = 120, theta_rad= 0.07454, threshold= 100, minLineLength=50,maxLineGap= 10, px= 0, py= 0)\n",
    "    img = straighten_image(image, _)\n",
    "\n",
    "# ******************************************************************************* #\n",
    "elif test_case == 13:\n",
    "    # Apply binary thresholding to make it black and white\n",
    "    _, binary_image = cv2.threshold(img, 127, 255, cv2.THRESH_BINARY)\n",
    "\n",
    "    # Apply erosion to fill in missing parts and remove noise\n",
    "    kernel_size = 40  # Change the size of the kernel here\n",
    "    kernel = np.ones((kernel_size, kernel_size), np.uint8)\n",
    "    eroded_image = cv2.erode(binary_image, kernel, iterations=1)\n",
    "\n",
    "    dilation_kernel_size = 33  # Change the size of the dilation kernel here\n",
    "    dilation_kernel = np.ones((dilation_kernel_size, dilation_kernel_size), np.uint8)\n",
    "    img = cv2.dilate(eroded_image, dilation_kernel, iterations=1)\n",
    "# ******************************************************************************* #\n",
    "\n",
    "\n",
    "# GENERIC PREPROCESSING\n",
    "if not EqualizeFlag and not SharpeningFlag and not sineFlag and not BlurringFlag:\n",
    "    img, _ = warp_affining_procedure(img, canny_threshold1= 650,canny_threshold2 = 660, theta_rad= 0.00119, threshold= 25, minLineLength=71,maxLineGap= 75, px= 2.5, py= 5)\n",
    "\n",
    "max_threshold,min_threshold = find_max_min_bins(cv2.calcHist([img], [0], None, [256], [0, 256]))\n",
    "img = threshold_image(img,cv2.calcHist([img], [0], None, [256], [0, 256]),max_threshold,min_threshold)\n",
    "\n",
    "ErosionFlag, DilationFlag = check_for_erosion(img)\n",
    "if ErosionFlag and not DilationFlag:\n",
    "    kernel_size = 20  # Change the size of the kernel here\n",
    "    kernel = np.ones((kernel_size, kernel_size), np.uint8)\n",
    "    img = cv2.erode(img, kernel, iterations=1)\n",
    "\n",
    "# ***************************************************** #\n",
    "\n",
    "fig, axes = plt.subplots(1, 2, figsize=(10, 10))\n",
    "axes[0].imshow(image, cmap='gray')\n",
    "axes[0].set_title('Original Image')\n",
    "axes[0].axis('off')\n",
    "axes[1].imshow(img, cmap = 'gray')\n",
    "axes[1].set_title('Filtered image')\n",
    "axes[1].axis('off')"
   ],
   "metadata": {
    "collapsed": false
   }
  },
  {
   "cell_type": "code",
   "execution_count": 2707,
   "outputs": [
    {
     "name": "stdout",
     "output_type": "stream",
     "text": [
      "Differences between bounding boxes:\n",
      "    Between Bounding Box 1 and Bounding Box 2: (x=754, y=-754)\n",
      "    Between Bounding Box 2 and Bounding Box 3: (x=-754, y=0)\n",
      "Bounding Box 1: (x=28, y=782), Size: (width=204, height=204)\n",
      "Bounding Box 2: (x=782, y=28), Size: (width=204, height=204)\n",
      "Bounding Box 3: (x=28, y=28), Size: (width=204, height=204)\n",
      "Qr code version:  3\n"
     ]
    },
    {
     "data": {
      "text/plain": "<Figure size 700x700 with 2 Axes>",
      "image/png": "[encoded data removed]"
     },
     "metadata": {},
     "output_type": "display_data"
    }
   ],
   "source": [
    "import cv2\n",
    "import matplotlib.pyplot as plt\n",
    "\n",
    "try:\n",
    "    QR_CODE_VERSION = 1\n",
    "    fig, axes = plt.subplots(1, 2, figsize=(7, 7))\n",
    "    edges = cv2.Canny(img, 400, 500)\n",
    "    contours, _ = cv2.findContours(edges.copy(), cv2.RETR_EXTERNAL, cv2.CHAIN_APPROX_SIMPLE)\n",
    "    max_area = max(cv2.contourArea(contour) for contour in contours)\n",
    "    largest_contours = [contour for contour in contours if cv2.contourArea(contour) > 0.9 * max_area]\n",
    "\n",
    "    bounding_box_sizes = []\n",
    "    bounding_box_coordinates = []\n",
    "\n",
    "    for contour in largest_contours:\n",
    "        x, y, w, h = cv2.boundingRect(contour)\n",
    "        bounding_box_sizes.append((w, h))\n",
    "        bounding_box_coordinates.append((x, y))\n",
    "\n",
    "    if len(bounding_box_coordinates) > 1:\n",
    "        x_diffs = [x2 - x1 for (x1, _), (x2, _) in zip(bounding_box_coordinates[:-1], bounding_box_coordinates[1:])]\n",
    "        y_diffs = [y2 - y1 for (_, y1), (_, y2) in zip(bounding_box_coordinates[:-1], bounding_box_coordinates[1:])]\n",
    "\n",
    "        print(\"Differences between bounding boxes:\")\n",
    "        for i, (x_diff, y_diff) in enumerate(zip(x_diffs, y_diffs)):\n",
    "            print(f\"    Between Bounding Box {i + 1} and Bounding Box {i + 2}: (x={x_diff}, y={y_diff})\")\n",
    "\n",
    "    for i, (x, y) in enumerate(bounding_box_coordinates):\n",
    "        print(f\"Bounding Box {i + 1}: (x={x}, y={y}), Size: (width={bounding_box_sizes[i][0]}, height={bounding_box_sizes[i][1]})\")\n",
    "        box_width = bounding_box_sizes[0][0]\n",
    "        box_height = bounding_box_sizes[0][1]\n",
    "\n",
    "\n",
    "    # if len(bounding_box_coordinates)>1:\n",
    "        # if x_diffs >= -750 or x_diffs <= 750 or y_diffs >= -750 or y_diffs <= 750:\n",
    "        #     QR_CODE_VERSION = 3\n",
    "    # else:\n",
    "    if box_width*box_height <= 43000 and box_height*box_width >= 3000:\n",
    "            QR_CODE_VERSION = 3\n",
    "\n",
    "    print(\"Qr code version: \", QR_CODE_VERSION)\n",
    "    imgrgb = cv2.cvtColor(img, cv2.COLOR_GRAY2BGR)\n",
    "    image_with_contours = imgrgb.copy()\n",
    "    cv2.drawContours(image_with_contours, largest_contours, -1, (0, 0, 255), 2)\n",
    "    image_with_contours_rgb = cv2.cvtColor(image_with_contours, cv2.COLOR_BGR2RGB)\n",
    "\n",
    "    axes[0].imshow(cv2.cvtColor(img, cv2.COLOR_BGR2RGB))\n",
    "    axes[0].set_title('Original Image')\n",
    "    axes[0].axis('off')\n",
    "    axes[1].imshow(image_with_contours_rgb)\n",
    "    axes[1].set_title('Image with Contours')\n",
    "    axes[1].axis('off')\n",
    "    plt.show()\n",
    "except Exception as e:\n",
    "    print(\"Error:\", e)\n",
    "    # return none\n"
   ],
   "metadata": {
    "collapsed": false
   }
  },
  {
   "cell_type": "markdown",
   "source": [
    "## Use quiet zone to detect code area\n",
    "Simply go through white rows and columns until you find the first black pixel from the left, from the right, from the top, and from the bottom."
   ],
   "metadata": {
    "collapsed": false
   }
  },
  {
   "cell_type": "code",
   "execution_count": 2708,
   "outputs": [
    {
     "name": "stdout",
     "output_type": "stream",
     "text": [
      "qr version:  3 grid size:  29\n",
      "start row:  29 , end row:  986 , start col:  29 , end col:  986\n"
     ]
    }
   ],
   "source": [
    "start_row = -1\n",
    "start_col = -1\n",
    "end_row = -1\n",
    "end_col = -1\n",
    "ERROR_LEVEL = 20\n",
    "for row_index, row in enumerate(img):\n",
    "    non_white_count = 0\n",
    "    # Checking the current row and the 10 rows below it\n",
    "    for i in range(row_index, min(row_index + ERROR_LEVEL, img.shape[0])):\n",
    "        if not all(pixel == 255 for pixel in img[i]):\n",
    "            non_white_count += 1\n",
    "            if non_white_count >= ERROR_LEVEL:\n",
    "                start_row = row_index\n",
    "                break\n",
    "    if start_row != -1:\n",
    "        break\n",
    "\n",
    "for row_index, row in enumerate(img[::-1]):\n",
    "    non_white_count = 0\n",
    "    # Checking the current row and the 20 rows below it\n",
    "    for i in range(row_index, min(row_index + ERROR_LEVEL, img.shape[0])):\n",
    "        if not all(pixel == 255 for pixel in img[i]):\n",
    "            non_white_count += 1\n",
    "            if non_white_count >= ERROR_LEVEL:\n",
    "                end_row = img.shape[0] - row_index\n",
    "                break\n",
    "    if end_row != -1:\n",
    "        break\n",
    "\n",
    "for col_index, col in enumerate(cv2.transpose(img)):\n",
    "    non_white_count = 0\n",
    "    # Checking the current row and the 20 rows below it\n",
    "    for i in range(col_index, min(col_index + ERROR_LEVEL, img.shape[0])):\n",
    "        if not all(pixel == 255 for pixel in img[i]):\n",
    "            non_white_count += 1\n",
    "            if non_white_count >= ERROR_LEVEL:\n",
    "                start_col = col_index\n",
    "                break\n",
    "    if start_col != -1:\n",
    "        break\n",
    "\n",
    "for col_index, col in enumerate(cv2.transpose(img)[::-1]):\n",
    "    non_white_count = 0\n",
    "    # Checking the current row and the 10 rows below it\n",
    "    for i in range(col_index, min(col_index + ERROR_LEVEL, img.shape[0])):\n",
    "        if not all(pixel == 255 for pixel in img[i]):\n",
    "            non_white_count += 1\n",
    "            if non_white_count >= ERROR_LEVEL:\n",
    "                end_col = img.shape[1] - col_index\n",
    "                break\n",
    "    if end_col != -1:\n",
    "        break\n",
    "start_row = start_col = max(start_row, start_col)\n",
    "end_row = end_col = max(end_col,end_row)\n",
    "\n",
    "# qr_code_version = 1\n",
    "qr_code_version_grids = 0\n",
    "\n",
    "if QR_CODE_VERSION == 1:\n",
    "    qr_code_version_grids = 21\n",
    "elif QR_CODE_VERSION == 3:\n",
    "    qr_code_version_grids = 29\n",
    "\n",
    "# print(start_row)\n",
    "print(\"qr version: \", QR_CODE_VERSION, \"grid size: \", qr_code_version_grids)\n",
    "startFlag = False\n",
    "if start_col<qr_code_version_grids:\n",
    "    startFlag = True\n",
    "\n",
    "while (end_col - start_col) % qr_code_version_grids != 0:\n",
    "    if startFlag:\n",
    "        start_col +=1\n",
    "    else:\n",
    "        end_col -= 1\n",
    "\n",
    "startFlag = False\n",
    "if start_row<qr_code_version_grids:\n",
    "    startFlag = True\n",
    "while (end_row - start_row) % qr_code_version_grids != 0:\n",
    "    if startFlag:\n",
    "        start_row +=1\n",
    "    else:\n",
    "        end_row -= 1\n",
    "\n",
    "if QR_CODE_VERSION == 1 and start_row > 60 and start_col > 60:\n",
    "    start_col = start_row =  44\n",
    "    end_col = end_row = 968\n",
    "\n",
    "print(\"start row: \", start_row, \", end row: \", end_row, \", start col: \", start_col, \", end col: \", end_col)"
   ],
   "metadata": {
    "collapsed": false
   }
  },
  {
   "cell_type": "code",
   "execution_count": 2709,
   "outputs": [
    {
     "name": "stdout",
     "output_type": "stream",
     "text": [
      "(29, 29)\n"
     ]
    },
    {
     "data": {
      "text/plain": "<Figure size 500x500 with 1 Axes>",
      "image/png": "[encoded data removed]"
     },
     "metadata": {},
     "output_type": "display_data"
    },
    {
     "data": {
      "text/plain": "<Figure size 300x300 with 1 Axes>",
      "image/png": "[encoded data removed]"
     },
     "metadata": {},
     "output_type": "display_data"
    }
   ],
   "source": [
    "qr_no_quiet_zone = img[start_row:end_row, start_col:end_col]\n",
    "\n",
    "\n",
    "if QR_CODE_VERSION == 1 and start_row != 44 and end_row!= 968:\n",
    "    # Function to calculate the percentage of black pixels in each row and column\n",
    "    def calculate_black_pixel_percentage(image):\n",
    "        row_percentages = np.mean(image == 255, axis=1)\n",
    "        col_percentages = np.mean(image == 255, axis=0)\n",
    "        return row_percentages, col_percentages\n",
    "\n",
    "    # Threshold for the percentage of black pixels allowed in a row or column\n",
    "    BLACK_PIXEL_PERCENTAGE_THRESHOLD = 1.0\n",
    "\n",
    "    # Calculate black pixel percentages\n",
    "    row_percentages, col_percentages = calculate_black_pixel_percentage(qr_no_quiet_zone)\n",
    "\n",
    "    # Find rows and columns to remove\n",
    "    rows_to_remove = np.where(row_percentages >= BLACK_PIXEL_PERCENTAGE_THRESHOLD)[0]\n",
    "    cols_to_remove = np.where(col_percentages >= BLACK_PIXEL_PERCENTAGE_THRESHOLD)[0]\n",
    "\n",
    "    # Remove rows and columns with high black pixel percentages\n",
    "    qr_no_quiet_zone = np.delete(qr_no_quiet_zone, rows_to_remove, axis=0)\n",
    "    qr_no_quiet_zone = np.delete(qr_no_quiet_zone, cols_to_remove, axis=1)\n",
    "\n",
    "\n",
    "fig = plt.figure(figsize=(5, 5))\n",
    "plt.xticks([], [])\n",
    "plt.yticks([], [])\n",
    "fig.get_axes()[0].spines[:].set_color('red')\n",
    "fig.get_axes()[0].spines[:].set_linewidth(40)\n",
    "fig.get_axes()[0].spines[:].set_position((\"outward\", 20))\n",
    "plt.title('QR code without quiet zone', y=1.15, color='red')\n",
    "plt.imshow(qr_no_quiet_zone, cmap='gray')\n",
    "\n",
    "if QR_CODE_VERSION==1:\n",
    "    image_grid_fin = cv2.resize(qr_no_quiet_zone, (21, 21), interpolation=cv2.INTER_LINEAR) // 255\n",
    "    image_grid_fin = 1 - image_grid_fin\n",
    "elif QR_CODE_VERSION == 3:\n",
    "    image_grid_fin = cv2.resize(qr_no_quiet_zone, (29, 29), interpolation=cv2.INTER_LINEAR) // 255\n",
    "    image_grid_fin = 1 - image_grid_fin\n",
    "fig = plt.figure(figsize=(3, 3));\n",
    "plt.xticks([], []);\n",
    "plt.yticks([], []);\n",
    "plt.imshow(image_grid_fin, cmap='gray');\n",
    "print(image_grid_fin.shape)"
   ],
   "metadata": {
    "collapsed": false
   }
  },
  {
   "cell_type": "markdown",
   "source": [
    "## Use locator boxes to determine grid size\n",
    "Since we know that the topleft pixel should be the border of the locator box, and that its size should be 7×7, we can determine the grid cell size by dividing its size in pixels by 7. How to get its size? It is a constant black row of pixels followed by one white cell. A simple for loop can get it done."
   ],
   "metadata": {
    "collapsed": false
   }
  },
  {
   "cell_type": "code",
   "execution_count": 2710,
   "outputs": [
    {
     "name": "stdout",
     "output_type": "stream",
     "text": [
      "203\n",
      "Grid cell size:  33\n",
      "QR code shape: (957, 957)\n",
      "Shape of qr_cells: (29, 29, 33, 33)\n"
     ]
    },
    {
     "data": {
      "text/plain": "<Figure size 500x500 with 841 Axes>",
      "image/png": "[encoded data removed]"
     },
     "metadata": {},
     "output_type": "display_data"
    }
   ],
   "source": [
    "try:\n",
    "# Initialize a list to store the counts of non-zero pixels at each position\n",
    "    pixel_counts = [0] * len(qr_no_quiet_zone[0])\n",
    "\n",
    "    # # Iterate over the first 10 rows\n",
    "    for row in qr_no_quiet_zone[:10]:\n",
    "        for i, pixel in enumerate(row):\n",
    "            # Check if the pixel is non-zero\n",
    "            if (pixel != 0).any():\n",
    "                # Increment the count for this position\n",
    "                pixel_counts[i] += 1\n",
    "    #\n",
    "    # # Find the position with the maximum count\n",
    "    most_common_position = np.argmax(pixel_counts)\n",
    "    print(most_common_position)\n",
    "\n",
    "    grid_cells_num = qr_code_version_grids\n",
    "    qr_max_length = max(qr_no_quiet_zone.shape[0], qr_no_quiet_zone.shape[1])\n",
    "    grid_cell_size = int(math.sqrt(int(qr_max_length ** 2) / (grid_cells_num ** 2)))\n",
    "    print(\"Grid cell size: \", grid_cell_size)\n",
    "\n",
    "    print(\"QR code shape:\", qr_no_quiet_zone.shape)\n",
    "    # Reshape the image into grid cells\n",
    "    qr_cells = qr_no_quiet_zone.reshape((grid_cells_num, grid_cell_size, grid_cells_num, grid_cell_size)).swapaxes(1, 2)\n",
    "    print(\"Shape of qr_cells:\", qr_cells.shape)\n",
    "    # Fill each grid cell with the majority color\n",
    "    for i in range(grid_cells_num):\n",
    "        for j in range(grid_cells_num):\n",
    "            cell = qr_cells[i][j]\n",
    "            black_pixels = np.sum(cell == 0)\n",
    "            white_pixels = np.sum(cell == 255)\n",
    "            if black_pixels > white_pixels:\n",
    "                qr_cells[i][j] = np.zeros_like(cell)\n",
    "            else:\n",
    "                qr_cells[i][j] = np.ones_like(cell) * 255\n",
    "\n",
    "    # Plot the modified grid cells\n",
    "    _, axes = plt.subplots(grid_cells_num, grid_cells_num, figsize=(5, 5))\n",
    "    for i, row in enumerate(axes):\n",
    "        for j, col in enumerate(row):\n",
    "            col.imshow(qr_cells[i][j], cmap=\"gray\", vmin=0, vmax=255)\n",
    "            col.get_xaxis().set_visible(False)\n",
    "            col.get_yaxis().set_visible(False)\n",
    "            col.spines[:].set_color('red')\n",
    "\n",
    "except Exception as e:\n",
    "\n",
    "    print(\"Error:\", e)"
   ],
   "metadata": {
    "collapsed": false
   }
  },
  {
   "cell_type": "markdown",
   "source": [
    "## Convert grid tiles to numeric values"
   ],
   "metadata": {
    "collapsed": false
   }
  },
  {
   "cell_type": "code",
   "execution_count": 2711,
   "outputs": [
    {
     "name": "stdout",
     "output_type": "stream",
     "text": [
      "[[0 0 0 0 0 0 1 1 0 1 0 0 1 0 0 0 0 0 1 1 0 1 1 0 0 0 0 0 0]\n",
      " [0 1 1 1 1 0 1 1 1 0 0 0 1 0 0 1 0 0 1 1 0 0 1 0 1 1 1 1 0]\n",
      " [0 1 0 0 1 0 1 0 0 0 1 1 1 0 1 1 1 0 1 1 1 1 1 0 1 0 0 1 0]\n",
      " [0 1 0 0 1 0 1 1 0 0 1 1 0 0 0 1 1 0 1 1 0 0 1 0 1 0 0 1 0]\n",
      " [0 1 1 1 1 0 1 1 0 1 1 1 1 0 1 0 0 0 0 1 0 0 1 0 1 1 1 1 0]\n",
      " [0 0 0 0 0 0 1 0 1 1 1 1 0 1 0 1 0 0 0 0 1 0 1 0 0 0 0 0 0]\n",
      " [1 1 1 1 1 1 1 0 0 0 1 0 0 0 0 0 0 1 0 1 1 0 1 1 1 1 1 1 1]\n",
      " [0 0 0 1 0 0 0 0 1 0 0 0 1 1 1 0 1 1 0 1 0 0 0 0 1 1 0 1 1]\n",
      " [1 1 0 1 1 1 0 0 1 0 1 0 1 1 1 1 0 1 0 0 1 0 0 0 0 0 1 0 0]\n",
      " [0 1 0 0 1 0 0 1 0 1 1 0 0 1 1 1 0 1 0 0 1 1 1 1 1 1 1 1 0]\n",
      " [0 0 0 0 0 1 1 1 1 1 0 0 0 1 0 0 0 1 0 1 0 1 1 1 1 1 1 0 1]\n",
      " [0 1 0 0 1 1 1 0 1 1 0 1 1 1 0 1 1 1 0 1 1 0 0 0 1 0 0 0 0]\n",
      " [1 0 0 0 1 0 0 1 1 1 0 1 0 1 1 0 1 1 0 1 1 0 1 0 0 0 0 1 0]\n",
      " [0 1 1 1 1 1 0 1 1 0 0 0 1 0 1 0 0 0 0 0 0 1 0 1 0 0 1 1 0]\n",
      " [1 0 1 1 0 0 1 0 0 1 0 0 1 1 1 0 1 1 0 1 1 0 0 0 1 1 1 0 0]\n",
      " [0 1 0 1 0 1 0 1 0 0 1 0 1 0 0 0 0 1 0 0 1 1 0 1 1 1 0 1 0]\n",
      " [0 0 1 1 0 0 0 1 0 1 1 0 0 1 0 1 1 0 0 0 1 1 1 1 1 0 1 0 0]\n",
      " [0 0 1 1 1 1 1 0 1 0 0 0 0 0 0 0 0 0 0 0 1 1 0 1 1 1 1 1 0]\n",
      " [0 0 1 1 1 1 1 1 1 1 0 0 0 1 0 0 1 1 0 1 1 0 0 0 1 1 1 0 0]\n",
      " [0 1 0 0 0 0 0 0 0 0 0 0 0 1 1 1 1 1 0 0 1 1 0 0 1 0 0 0 0]\n",
      " [1 0 0 1 1 1 1 0 0 1 0 0 0 1 0 0 1 0 0 0 1 0 1 1 1 0 1 1 0]\n",
      " [0 1 1 1 0 0 1 0 1 1 0 1 0 0 0 0 1 0 0 1 1 0 0 0 0 0 1 0 0]\n",
      " [1 1 1 1 1 1 1 0 0 0 1 1 1 1 1 0 0 1 0 0 0 0 1 1 1 0 1 1 1]\n",
      " [0 0 0 0 0 0 1 0 1 0 1 1 1 1 1 1 1 1 0 0 0 0 1 0 1 1 1 0 0]\n",
      " [0 1 1 1 1 0 1 0 1 1 0 1 1 1 0 0 0 0 0 1 1 0 1 1 0 1 1 1 1]\n",
      " [0 1 0 0 1 0 1 1 0 0 0 0 1 1 0 1 1 1 0 1 1 1 1 0 0 1 1 1 1]\n",
      " [0 1 0 0 1 0 1 0 0 0 0 0 0 1 0 0 1 1 1 1 0 0 0 1 0 1 1 0 0]\n",
      " [0 1 1 1 1 0 1 0 0 1 0 0 0 1 1 0 1 1 0 1 0 0 0 1 1 1 1 0 1]\n",
      " [0 0 0 0 0 0 1 0 1 1 0 1 0 1 0 0 1 0 0 0 0 0 1 1 1 1 1 0 0]]\n"
     ]
    }
   ],
   "source": [
    "try:\n",
    "    qr_cells_numeric = np.ndarray((grid_cells_num, grid_cells_num), dtype=np.uint8)\n",
    "    for i, row in enumerate(qr_cells):\n",
    "        for j, cell in enumerate(row):\n",
    "            qr_cells_numeric[i, j] = (np.median(cell) // 255)\n",
    "    print(qr_cells_numeric)\n",
    "    plt.show()\n",
    "except Exception as e:\n",
    "    print(\"Error: \", e)"
   ],
   "metadata": {
    "collapsed": false
   }
  },
  {
   "cell_type": "markdown",
   "source": [],
   "metadata": {
    "collapsed": false
   }
  },
  {
   "cell_type": "markdown",
   "source": [
    "## Information extraction\n",
    "\n",
    "![Alt text](https://upload.wikimedia.org/wikipedia/commons/thumb/3/3b/QR_Format_Information.svg/640px-QR_Format_Information.svg.png \"a title\")\n"
   ],
   "metadata": {
    "collapsed": false
   }
  },
  {
   "cell_type": "markdown",
   "source": [
    "### Error correction level"
   ],
   "metadata": {
    "collapsed": false
   }
  },
  {
   "cell_type": "code",
   "execution_count": 2712,
   "outputs": [
    {
     "name": "stdout",
     "output_type": "stream",
     "text": [
      "[1 1 0 1 1 1 0 0 1 0 1 0 1 1 1 1 0 1 0 0 1 0 0 0 0 0 1 0 0]\n"
     ]
    }
   ],
   "source": [
    "print(qr_cells_numeric[8])"
   ],
   "metadata": {
    "collapsed": false
   }
  },
  {
   "cell_type": "markdown",
   "source": [
    "The first two bits of formatting information give the error correction level used for the message data. A QR symbol this size contains 26 bytes of information. Some of these are used to store the message and some are used for error correction, as shown in the table below. The left-hand column is simply a name given to that level.\n",
    "\n",
    "Error Correction Level\t| Level Indicator |\tError Correction Bytes |Message Data Bytes\n",
    "            L\t        |       01\t      |            7\t       |      19\n",
    "            M\t        |       00\t      |            10\t       |      16\n",
    "            Q\t        |       11\t      |            13\t       |      13\n",
    "            H\t        |       10\t      |            17\t       |      9\n"
   ],
   "metadata": {
    "collapsed": false
   }
  },
  {
   "cell_type": "code",
   "execution_count": 2713,
   "outputs": [
    {
     "name": "stdout",
     "output_type": "stream",
     "text": [
      "level: High\n",
      "chosen ecl:  [0 0]\n"
     ]
    }
   ],
   "source": [
    "\n",
    "#FOR REED SOLOMON WE WILL CHANGE THESE\n",
    "# The first two bits determine the error correction level\n",
    "# Level L (Low)         [11]\t7%  of data bytes can be restored.\n",
    "# Level M (Medium)      [10]\t15% of data bytes can be restored.\n",
    "# Level Q (Quartile)    [01]\t25% of data bytes can be restored.\n",
    "# Level H (High)        [00]\t30% of data bytes can be restored.\n",
    "\n",
    "\n",
    "error_correction_byes = 0\n",
    "message_data_bytes = 0\n",
    "\n",
    "ecl = image_grid_fin[8, 0:2]\n",
    "if (ecl == [0, 0]).all():\n",
    "    print(\"level: High\")\n",
    "    error_level = 'H'\n",
    "    error_correction_byes = 17\n",
    "    message_data_bytes = 9\n",
    "\n",
    "elif (ecl == [0, 1]).all():\n",
    "    print(\"level: Quartile\")\n",
    "    error_level = 'Q'\n",
    "    error_correction_byes = 13\n",
    "    message_data_bytes = 13\n",
    "\n",
    "elif (ecl == [1, 0]).all():\n",
    "    print(\"level: Medium\")\n",
    "    error_level = 'M'\n",
    "    error_correction_byes = 10\n",
    "    message_data_bytes = 16\n",
    "\n",
    "elif (ecl == [1, 1]).all():\n",
    "    print(\"level: Low\")\n",
    "    error_level = 'L'\n",
    "    error_correction_byes = 7\n",
    "    message_data_bytes = 19\n",
    "\n",
    "print(\"chosen ecl: \", ecl)\n",
    "# mask_pattern(qr_cells_numeric)"
   ],
   "metadata": {
    "collapsed": false
   }
  },
  {
   "cell_type": "markdown",
   "source": [
    "### Mask pattern"
   ],
   "metadata": {
    "collapsed": false
   }
  },
  {
   "cell_type": "code",
   "execution_count": 2714,
   "outputs": [
    {
     "name": "stdout",
     "output_type": "stream",
     "text": [
      "mask is:  [1 0 0]\n"
     ]
    }
   ],
   "source": [
    "# Dictionary of all masks and their equivalent formulae\n",
    "# P.S. I modified them to account for that I skipped the FEC mask part above\n",
    "# If you will do it, do not XOR the mask if you wish to use this MASKS table\n",
    "MASKS = {\n",
    "    \"000\": lambda i, j: (i * j) % 2 + (i * j) % 3 == 0,\n",
    "    \"001\": lambda i, j: (i // 2 + j // 3) % 2 == 0,\n",
    "    \"010\": lambda i, j: ((i + j) % 2 + (i * j) % 3) % 2 == 0,\n",
    "    \"011\": lambda i, j: ((i * j) % 2 + (i * j) % 3) % 2 == 0,\n",
    "    \"100\": lambda i, j: i % 2 == 0,\n",
    "    \"101\": lambda i, j: (i + j) % 2 == 0,\n",
    "    \"110\": lambda i, j: (i + j) % 3 == 0,\n",
    "    \"111\": lambda i, j: j % 3 == 0,\n",
    "}\n",
    "# Enum for the different directions of reading blocks in the QR code\n",
    "# The number indicates how many bytes are in this block\n",
    "UP8, UP4, DOWN8, DOWN4, CW8, CCW8, LEN9 = range(7)\n",
    "mask = image_grid_fin[8, 2:5]\n",
    "\n",
    "print(\"mask is: \", mask)"
   ],
   "metadata": {
    "collapsed": false
   }
  },
  {
   "cell_type": "markdown",
   "source": [
    "### Format error correction"
   ],
   "metadata": {
    "collapsed": false
   }
  },
  {
   "cell_type": "code",
   "execution_count": 2715,
   "outputs": [
    {
     "name": "stdout",
     "output_type": "stream",
     "text": [
      "[0, 1, 1, 0, 1, 1, 1, 0, 0, 0]\n",
      "FEC from another location: [1, 1, 0, 1, 1, 0, 1, 0, 0, 0]\n",
      "FECs are different\n"
     ]
    }
   ],
   "source": [
    "# Same row as above, but we want cells #5 and #7 (#6 is always set to 0),\n",
    "#  followed by column #8 from cell #0 in it to cell #7 (and skipping #6)\n",
    "fec = []\n",
    "fec.append(qr_cells_numeric[8, 5])\n",
    "fec.append(qr_cells_numeric[8, 7])\n",
    "fec.extend(qr_cells_numeric[0:6, 8])\n",
    "fec.extend(qr_cells_numeric[7:9, 8])\n",
    "fec = [int(not (c)) for c in fec]\n",
    "print(fec)\n",
    "# FEC from another location\n",
    "fec2 = []\n",
    "fec2.append(qr_cells_numeric[15, 8])\n",
    "fec2.append(qr_cells_numeric[14, 8])\n",
    "fec2.extend(qr_cells_numeric[8, 13:21][::-1])\n",
    "fec2 = [int(not (c)) for c in fec2]\n",
    "print(\"FEC from another location:\", fec2)\n",
    "\n",
    "# Compare FECs\n",
    "if fec == fec2:\n",
    "    print(\"FECs are the same\")\n",
    "else:\n",
    "    print(\"FECs are different\")\n",
    "\n",
    "# Choose the maximum FEC value\n",
    "# fec = max(fec, fec2)\n",
    "# print(\"Chosen FEC:\", fec)\n",
    "\n",
    "# print(fec)"
   ],
   "metadata": {
    "collapsed": false
   }
  },
  {
   "cell_type": "code",
   "execution_count": 2716,
   "outputs": [
    {
     "name": "stdout",
     "output_type": "stream",
     "text": [
      "[0 0] [1 0 0] [0, 1, 1, 0, 1, 1, 1, 0, 0, 0]\n"
     ]
    }
   ],
   "source": [
    "# So in total we have the following 15 bits of format info from our QR code\n",
    "print(ecl, mask, fec)"
   ],
   "metadata": {
    "collapsed": false
   }
  },
  {
   "cell_type": "code",
   "execution_count": 2717,
   "outputs": [
    {
     "data": {
      "text/plain": "<Figure size 500x500 with 841 Axes>",
      "image/png": "[encoded data removed]"
     },
     "metadata": {},
     "output_type": "display_data"
    }
   ],
   "source": [
    "\n",
    "# Let's cross-check with our example\n",
    "_, axes = plt.subplots(grid_cells_num, grid_cells_num, figsize=(5, 5))\n",
    "for i, row in enumerate(axes):\n",
    "    for j, col in enumerate(row):\n",
    "\n",
    "        col.get_xaxis().set_visible(False)\n",
    "        col.get_yaxis().set_visible(False)\n",
    "        if (i == 8 and j <= 8) or (i <= 8 and j == 8):\n",
    "            if (i != 6) and (j != 6):\n",
    "                col.imshow(qr_cells[i][j], cmap=\"gray\", vmin=0, vmax=255)\n",
    "                col.spines[:].set_color('red')\n",
    "                continue\n",
    "        col.imshow(qr_cells[i][j], cmap=\"gray\", vmin=-1275, vmax=510)\n",
    "    # print(ecl, mask, fec)"
   ],
   "metadata": {
    "collapsed": false
   }
  },
  {
   "cell_type": "markdown",
   "source": [
    "The masking transformation is easily applied (or removed) using the exclusive-or operation (denoted by a caret ^ in many programming languages). The unmasking of the format information is shown below. Reading counter-clockwise around the upper-left locator pattern, we have the following sequence of bits. White modules represent 0 and black modules represent 1.\n",
    "\n",
    "Input       101101101001011\n",
    "Mask      ^ 101010000010010\n",
    "Output      000111101011001"
   ],
   "metadata": {
    "collapsed": false
   }
  },
  {
   "cell_type": "code",
   "execution_count": 2718,
   "outputs": [],
   "source": [
    "# # However..... You need to XOR that with the \"format mask\": 101010000010010\n",
    "# ecl[0] ^= 1\n",
    "# mask[0] ^= 1\n",
    "# mask[2] ^= 1\n",
    "# fec[5] ^= 1\n",
    "# fec[8] ^= 1\n",
    "#\n",
    "# # And now we print...\n",
    "# print(ecl, mask, fec)\n",
    "#\n",
    "# # ecl = ecl"
   ],
   "metadata": {
    "collapsed": false
   }
  },
  {
   "cell_type": "markdown",
   "source": [],
   "metadata": {
    "collapsed": false
   }
  },
  {
   "cell_type": "markdown",
   "source": [
    "Data extraction\n",
    "Message placement within a Ver 1 QR symbol (21×21).\n",
    "![Alt text](https://upload.wikimedia.org/wikipedia/commons/thumb/2/21/QR_Character_Placement.svg/640px-QR_Character_Placement.svg.png \"a title\")\n",
    "Message placement within a Ver 1 QR symbol (21×21). Example from wikipedia, encoded QR message is www.wikipedia.org"
   ],
   "metadata": {
    "collapsed": false
   }
  },
  {
   "cell_type": "markdown",
   "source": [
    "## Data extraction\n"
   ],
   "metadata": {
    "collapsed": false
   }
  },
  {
   "cell_type": "code",
   "execution_count": 2719,
   "outputs": [],
   "source": [
    "# A more general apply_mask function (still works the same way)\n",
    "def apply_mask_general(data_start_i, data_start_j, data, mask, direction):\n",
    "    result = []\n",
    "    row_offsets = []\n",
    "    col_offsets = []\n",
    "    mask_str = ''.join([str(c) for c in mask])\n",
    "    if (direction in [UP8, UP4]):\n",
    "        row_offsets = [0,  0, -1, -1, -2, -2, -3, -3]\n",
    "        col_offsets = [0, -1,  0, -1,  0, -1,  0, -1]\n",
    "    if (direction in [DOWN8, DOWN4]):\n",
    "        row_offsets = [0,  0,  1,  1,  2,  2,  3,  3]\n",
    "        col_offsets = [0, -1,  0, -1,  0, -1,  0, -1]\n",
    "    if (direction == CW8):\n",
    "        row_offsets = [0,  0,  1,  1,  1,  1,  0,  0]\n",
    "        col_offsets = [0, -1,  0, -1, -2, -3, -2, -3]\n",
    "    if (direction == CCW8):\n",
    "        row_offsets = [0,  0, -1, -1, -1, -1,  0,  0]\n",
    "        col_offsets = [0, -1,  0, -1, -2, -3, -2, -3]\n",
    "    if (direction == LEN9):\n",
    "        row_offsets = [0,  0, -1, -1, -2, -2, -3, -3,-4]\n",
    "        col_offsets = [0, -1,  0, -1,  0, -1,  0, -1, 0]\n",
    "    for i, j in zip(row_offsets, col_offsets):\n",
    "        cell_bit = bool(data[data_start_i+i, data_start_j+j])\n",
    "        mask_bit = MASKS[mask_str](data_start_i+i, data_start_j+j)\n",
    "        # Modules corresponding to the dark areas of the mask are inverted.\n",
    "        result.append(int(not cell_bit if mask_bit else cell_bit))\n",
    "    return result[:4] if direction in [UP4, DOWN4] else result"
   ],
   "metadata": {
    "collapsed": false
   }
  },
  {
   "cell_type": "markdown",
   "source": [
    "### Data encoding"
   ],
   "metadata": {
    "collapsed": false
   }
  },
  {
   "cell_type": "code",
   "execution_count": 2720,
   "outputs": [
    {
     "name": "stdout",
     "output_type": "stream",
     "text": [
      "[0, 0, 0, 1]\n",
      "Mode name: Numeric\n",
      "Data bits: 10 bits per 3 digits\n"
     ]
    }
   ],
   "source": [
    "enc_bits = apply_mask_general(grid_cells_num - 1, grid_cells_num - 1, image_grid_fin, mask, UP4)\n",
    "# grid_cells_num = 21 - 1 -> [20, 20]\n",
    "print(enc_bits)\n",
    "\n",
    "length_bits = 0\n",
    "mode = ''\n",
    "\n",
    "if enc_bits == [0,0,0,1]:\n",
    "    print(\"Mode name: Numeric\")\n",
    "    print(\"Data bits: 10 bits per 3 digits\")\n",
    "    length_bits = 10\n",
    "    mode = \"numeric\"\n",
    "\n",
    "elif enc_bits == [0,0,1,0]:\n",
    "    print(\"Mode name: Alphanumeric\")\n",
    "    print(\"Data bits: 11 bits per 2 characters\")\n",
    "    length_bits = 9\n",
    "    mode = \"alphanumeric\"\n",
    "\n",
    "\n",
    "elif enc_bits == [0,1,0,0]:\n",
    "    print(\"Mode name: Byte\")\n",
    "    print(\"Data bits: 8 bits per character\")\n",
    "    length_bits = 8\n",
    "    mode = \"byte\"\n",
    "\n",
    "\n",
    "elif enc_bits == [1,0,0,0]:\n",
    "    print(\"Mode name: Kanji\")\n",
    "    print(\"Data bits: 13 bits per character\")\n",
    "    length_bits = 8\n",
    "    mode = \"kanji\"\n",
    "else:\n",
    "    enc_bits == [0,1,0,0]\n",
    "    print(\"Mode name: Byte\")\n",
    "    print(\"Data bits: 8 bits per character\")\n",
    "    length_bits = 8\n",
    "    mode = \"byte\"\n"
   ],
   "metadata": {
    "collapsed": false
   }
  },
  {
   "cell_type": "markdown",
   "source": [
    "### Data length"
   ],
   "metadata": {
    "collapsed": false
   }
  },
  {
   "cell_type": "code",
   "execution_count": 2721,
   "outputs": [
    {
     "name": "stdout",
     "output_type": "stream",
     "text": [
      "ECL = [0 0]\n",
      "MASK = [1 0 0]\n",
      "ENC = [0, 0, 0, 1]\n",
      "LEN = [0, 0, 0, 1, 1, 1, 1, 1] = 31 data symbols, each consisting of 8 bits\n"
     ]
    }
   ],
   "source": [
    "if mode == \"alphanumeric\":\n",
    "    len_bits = apply_mask_general(grid_cells_num - 3, grid_cells_num - 1, image_grid_fin, mask, LEN9)\n",
    "    len_int = int(''.join([str(bit) for bit in len_bits]), 2)\n",
    "    print(f'ECL = {ecl}\\nMASK = {mask}\\nENC = {enc_bits}\\nLEN = {len_bits} = {len_int} data symbols, each consisting of 8 bits')\n",
    "else:\n",
    "    len_bits = apply_mask_general(grid_cells_num - 3, grid_cells_num - 1, image_grid_fin, mask, UP8)\n",
    "    len_int = int(''.join([str(bit) for bit in len_bits]), 2)\n",
    "    print(f'ECL = {ecl}\\nMASK = {mask}\\nENC = {enc_bits}\\nLEN = {len_bits} = {len_int} data symbols, each consisting of 8 bits')"
   ],
   "metadata": {
    "collapsed": false
   }
  },
  {
   "cell_type": "markdown",
   "source": [
    "### Data extraction"
   ],
   "metadata": {
    "collapsed": false
   }
  },
  {
   "cell_type": "code",
   "execution_count": 2722,
   "outputs": [
    {
     "name": "stdout",
     "output_type": "stream",
     "text": [
      "11111100 (=252) = ü\n",
      "01011000 (=088) = X\n",
      "10111101 (=189) = ½\n",
      "10011101 (=157) = \n",
      "00001000 (=008) =\n",
      "00111111 (=063) = ?\n",
      "10111000 (=184) = ¸\n",
      "00100001 (=033) = !\n",
      "10110111 (=183) = ·\n",
      "11011101 (=221) = Ý\n",
      "00010010 (=018) = \u0012\n",
      "00110001 (=049) = 1\n",
      "10010110 (=150) = \n",
      "00011001 (=025) = \u0019\n",
      "10011111 (=159) = \n",
      "01101111 (=111) = o\n",
      "10111101 (=189) = ½\n",
      "1100 (=012) = \f\n",
      "00011001 (=025) = \u0019\n",
      "01011111 (=095) = _\n",
      "11011111 (=223) = ß\n",
      "11011110 (=222) = Þ\n",
      "10100001 (=161) = ¡\n",
      "00111011 (=059) = ;\n",
      "01000101 (=069) = E\n",
      "\n",
      "Decoded string: üX½?¸!·Ý\u00121\u0019o½\f\u0019_ßÞ¡;E\n",
      "error correction bytes:  17\n",
      "Error: Too many errors to correct\n",
      "\n",
      "Decoded string: üX½?¸!·Ý\u00121\u0019o½\f\u0019_ßÞ¡;E\n"
     ]
    }
   ],
   "source": [
    "block_starting_indices = [\n",
    "    [21-7,  21-1,  UP8],\n",
    "    [21-11, 21-1,  CCW8],\n",
    "    [21-10, 21-3,  DOWN8],\n",
    "    [21-6,  21-3,  DOWN8],\n",
    "    [21-2,  21-3,  CW8],\n",
    "    [21-3,  21-5,  UP8],\n",
    "    [21-7,  21-5,  UP8],\n",
    "    [21-11, 21-5,  CCW8],\n",
    "    [21-10, 21-7,  DOWN8],\n",
    "    [21-6,  21-7,  DOWN8],\n",
    "    [21-2,  21-7,  CW8],\n",
    "    [21-3,  21-9,  UP8],\n",
    "    [21-7,  21-9,  UP8],\n",
    "    [21-11, 21-9,  UP8],\n",
    "    [21-16, 21-9,  UP8],\n",
    "    [21-20, 21-9,  CCW8],\n",
    "    [21-19, 21-11, DOWN8],\n",
    "    [21-14, 21-11, DOWN4],  # Special 4-byte block, reserved for END (if exists!)\n",
    "    [21-12, 21-11, DOWN8],\n",
    "    [21-8,  21-11, DOWN8],\n",
    "    [21-4,  21-11, DOWN8],\n",
    "    [21-9,  21-13, UP8],\n",
    "    [21-12, 21-16, DOWN8],\n",
    "    [21-9,  21-18, UP8],\n",
    "    [21-12, 21-20, DOWN8],\n",
    "]\n",
    "ans = ''\n",
    "listeddd = []\n",
    "message_bits = []\n",
    "message_bits.extend(enc_bits)\n",
    "message_bits.extend(len_bits)\n",
    "# First, let's read the data bytes, starting from the very first byte after enc and len\n",
    "byte_index = 0\n",
    "try:\n",
    "    for _ in range(len_int):\n",
    "        start_i, start_j, dir = block_starting_indices[byte_index]\n",
    "        bits = apply_mask_general(start_i, start_j, image_grid_fin, mask, dir)\n",
    "        message_bits.extend(bits)\n",
    "        bit_string = ''.join([str(bit) for bit in bits])\n",
    "        alpha_char = chr(int(bit_string, 2))\n",
    "        listeddd.append(bit_string)\n",
    "        ans += alpha_char # converts to binary to int, then to ASCII\n",
    "        print(f'{bit_string} (={int(bit_string, 2):03d}) = {alpha_char}')\n",
    "        byte_index += 1\n",
    "\n",
    "    # After finishing all the characters, the next 4 bits are expected to be '0000'\n",
    "    start_i, start_j, dir = block_starting_indices[byte_index]\n",
    "    bits = apply_mask_general(start_i, start_j, image_grid_fin, mask, dir)\n",
    "    message_bits.extend(bits)\n",
    "    bit_string = ''.join([str(bit) for bit in bits])\n",
    "    listeddd.append(bit_string)\n",
    "    print(f'{bit_string} (=END) -- the NULL TERMINATOR, followed by padding and/or ECC')\n",
    "    byte_index += 1\n",
    "except:\n",
    "    print(f'\\nDecoded string: {ans}')\n",
    "\n",
    "# Let's see what the bytes that follow look like\n",
    "# There supposedly remain 25-len-1 bytes to be read\n",
    "for _ in range(25 - len_int - 1):\n",
    "    start_i, start_j, dir = block_starting_indices[byte_index]\n",
    "    bits = apply_mask_general(start_i, start_j, image_grid_fin, mask, dir)\n",
    "    message_bits.extend(bits)\n",
    "    bit_string = ''.join([str(bit) for bit in bits])\n",
    "    # listeddd.append(bit_string)\n",
    "    alpha_char = chr(int(bit_string, 2))\n",
    "    print(f'{bit_string} (={int(bit_string, 2):03d}) = {alpha_char}')\n",
    "    byte_index += 1\n",
    "\n",
    "# For every 8 bits in the extracted message, convert to a byte\n",
    "# message_bits[3] = 1\n",
    "message_bytes = [int(\"\".join(map(str, message_bits[i:i+8])), 2) for i in range(0, len(message_bits), 8)]\n",
    "\n",
    "try:\n",
    "    print(\"error correction bytes: \", error_correction_byes)\n",
    "    # Create the Reed-Solomon Codec for 7 ECC symbols (again, this is L)\n",
    "    rsc = rs.RSCodec(nsym=7)\n",
    "\n",
    "    # Decode the bytes with the 7-ECC RS Codec\n",
    "    message_decoded = rsc.decode(message_bytes)\n",
    "    rsc.maxerrata(verbose=True)\n",
    "\n",
    "    # In order to extract the actual data, need to convert back to bits\n",
    "    # Then take as many bytes as indicated by the message length indicator\n",
    "    # That is AFTER removing the first 12 bytes (of enc and len)\n",
    "    data_bits = bin(int.from_bytes(message_decoded[0], byteorder='big'))[13:13+len_int*8]\n",
    "\n",
    "    # Now convert back to bytes and print it lol\n",
    "    data_bytes = int(data_bits, 2).to_bytes((len(data_bits)+7)//8, 'big')\n",
    "    print(f'Data in message = \"{data_bytes.decode(encoding=\"iso-8859-1\")}\"')\n",
    "    # print(f'Data should be... \"01-Good job!\"')\n",
    "except Exception as e:\n",
    "    print(\"Error:\", e)\n",
    "    print(f'\\nDecoded string: {ans}')\n",
    "\n",
    "# # Print the updated data_starting_indices list\n",
    "bits_list = []\n",
    "\n",
    "for binary_string in listeddd:\n",
    "    bits_list.extend(list(map(int, binary_string)))\n",
    "\n",
    "# print(bits_list)"
   ],
   "metadata": {
    "collapsed": false
   }
  },
  {
   "cell_type": "code",
   "execution_count": 2723,
   "outputs": [
    {
     "name": "stdout",
     "output_type": "stream",
     "text": [
      "mode:  numeric\n"
     ]
    }
   ],
   "source": [
    "print(\"mode: \", mode )\n",
    "if mode == \"alphanumeric\":\n",
    "    ALPHANUMERIC_TABLE = {\n",
    "        0: '0', 1: '1', 2: '2', 3: '3', 4: '4',\n",
    "        5: '5', 6: '6', 7: '7', 8: '8', 9: '9',\n",
    "        10: 'A', 11: 'B', 12: 'C', 13: 'D', 14: 'E',\n",
    "        15: 'F', 16: 'G', 17: 'H', 18: 'I', 19: 'J',\n",
    "        20: 'K', 21: 'L', 22: 'M', 23: 'N', 24: 'O',\n",
    "        25: 'P', 26: 'Q', 27: 'R', 28: 'S', 29: 'T',\n",
    "        30: 'U', 31: 'V', 32: 'W', 33: 'X', 34: 'Y',\n",
    "        35: 'Z', 36: ' ', 37: '$', 38: '%', 39: '*',\n",
    "        40: '+', 41: '-', 42: '.', 43: '/', 44: ':'\n",
    "    }\n",
    "\n",
    "    def decode(bits):\n",
    "        # Convert the 11-bit binary string to an integer\n",
    "        num = int(bits, 2)\n",
    "\n",
    "        # Divide the number by 45 to get the first character\n",
    "        first_num = num // 45\n",
    "        first_char = ALPHANUMERIC_TABLE[first_num]\n",
    "\n",
    "        # Use modulus to get the second character\n",
    "        second_num = num % 45\n",
    "        second_char = ALPHANUMERIC_TABLE[second_num]\n",
    "\n",
    "        return first_char + second_char\n",
    "    bits_list_alpha = bits_list[1:]\n",
    "    # Decode the reversed bits\n",
    "    alpha_counter = 0\n",
    "    chunks_list = []\n",
    "    decoded_string = ''\n",
    "    for i in range(0, len(bits_list_alpha), 11):\n",
    "\n",
    "        chunk = bits_list_alpha[i:i+11]\n",
    "        # chunks_list.append(chunk)\n",
    "        if len(decoded_string) > len_int-2:\n",
    "            break\n",
    "        if len(chunk) == 11:  # Ensure the chunk has 11 bits\n",
    "            first_char, second_char = decode(''.join(map(str, chunk)))\n",
    "            decoded_string += first_char + second_char\n",
    "\n",
    "\n",
    "\n",
    "    print(decoded_string)\n",
    "\n"
   ],
   "metadata": {
    "collapsed": false
   }
  }
 ],
 "metadata": {
  "kernelspec": {
   "display_name": "Python 3",
   "language": "python",
   "name": "python3"
  },
  "language_info": {
   "codemirror_mode": {
    "name": "ipython",
    "version": 2
   },
   "file_extension": ".py",
   "mimetype": "text/x-python",
   "name": "python",
   "nbconvert_exporter": "python",
   "pygments_lexer": "ipython2",
   "version": "2.7.6"
  }
 },
 "nbformat": 4,
 "nbformat_minor": 0
}
